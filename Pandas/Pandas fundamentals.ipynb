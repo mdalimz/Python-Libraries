{
 "cells": [
  {
   "cell_type": "code",
   "execution_count": 1,
   "metadata": {},
   "outputs": [
    {
     "name": "stdout",
     "output_type": "stream",
     "text": [
      "00000\n"
     ]
    }
   ],
   "source": [
    "print(\"00000\")"
   ]
  },
  {
   "cell_type": "code",
   "execution_count": 1,
   "metadata": {},
   "outputs": [],
   "source": [
    "#Importing library\n",
    "import numpy as np\n",
    "import pandas as pd"
   ]
  },
  {
   "cell_type": "markdown",
   "metadata": {},
   "source": [
    "# Basic data structures in pandas\n",
    "Pandas provides two types of classes for handling data:\n",
    "1. Series : a one-dimensional labeled array holding data of any type\n",
    "such as integers, strings, Python objects etc.\n",
    "2. DataFrame : a two-dimensional data structure that holds data like a two-dimension array or\n",
    "a table with rows and columns."
   ]
  },
  {
   "cell_type": "markdown",
   "metadata": {},
   "source": [
    "# A. Series"
   ]
  },
  {
   "cell_type": "markdown",
   "metadata": {},
   "source": [
    "# s = pd.Series(data, index=index) \n",
    "#Here, data can be different things:a Python dict\"a\":1, an ndarray,a scalar value (like 5)\n",
    "If no index is passed, one will be created having values [0, ..., len(data) - 1] ."
   ]
  },
  {
   "cell_type": "code",
   "execution_count": 2,
   "metadata": {},
   "outputs": [
    {
     "data": {
      "text/plain": [
       "0    0.691493\n",
       "1    0.486318\n",
       "2   -0.201337\n",
       "3    1.743940\n",
       "4   -0.932442\n",
       "5   -0.220224\n",
       "6    2.233023\n",
       "7    1.040737\n",
       "8    0.061708\n",
       "9   -0.972227\n",
       "dtype: float64"
      ]
     },
     "execution_count": 2,
     "metadata": {},
     "output_type": "execute_result"
    }
   ],
   "source": [
    "s=pd.Series(np.random.randn(10))\n",
    "s"
   ]
  },
  {
   "cell_type": "code",
   "execution_count": 3,
   "metadata": {},
   "outputs": [
    {
     "data": {
      "text/plain": [
       "(A   -2.506011\n",
       " b    0.500893\n",
       " c   -0.695072\n",
       " d   -1.995099\n",
       " e   -0.067935\n",
       " f   -2.057767\n",
       " dtype: float64,)"
      ]
     },
     "execution_count": 3,
     "metadata": {},
     "output_type": "execute_result"
    }
   ],
   "source": [
    "s1=pd.Series(np.random.randn(6), index=[\"A\", \"b\", \"c\", \"d\", \"e\", \"f\"])\n",
    "s1,\n",
    "#The passed index is a list of axis labels. If data is an ndarray, index must be the same length as data. "
   ]
  },
  {
   "cell_type": "code",
   "execution_count": 4,
   "metadata": {},
   "outputs": [
    {
     "data": {
      "text/plain": [
       "A   -2.506011\n",
       "b    0.500893\n",
       "c   -0.695072\n",
       "d   -1.995099\n",
       "e   -0.067935\n",
       "f   -2.057767\n",
       "dtype: float64"
      ]
     },
     "execution_count": 4,
     "metadata": {},
     "output_type": "execute_result"
    }
   ],
   "source": [
    "s1"
   ]
  },
  {
   "cell_type": "code",
   "execution_count": 5,
   "metadata": {},
   "outputs": [
    {
     "data": {
      "text/plain": [
       "RangeIndex(start=0, stop=10, step=1)"
      ]
     },
     "execution_count": 5,
     "metadata": {},
     "output_type": "execute_result"
    }
   ],
   "source": [
    "s.index  #problem output should be like ,,,, Index(['a', 'b', 'c', 'd', 'e'], dtype='object')"
   ]
  },
  {
   "cell_type": "markdown",
   "metadata": {},
   "source": [
    "# A.1 Series from dict"
   ]
  },
  {
   "cell_type": "code",
   "execution_count": 6,
   "metadata": {},
   "outputs": [],
   "source": [
    "d={\"col\": 2, \"col2\": 444,\"c\": 3, \"d\": 0}; d1={\"col\": 2, \"col2\": 4.44,\"c\": 3, \"d\": 0} #without index"
   ]
  },
  {
   "cell_type": "code",
   "execution_count": 7,
   "metadata": {},
   "outputs": [
    {
     "data": {
      "text/plain": [
       "(col       2\n",
       " col2    444\n",
       " c         3\n",
       " d         0\n",
       " dtype: int64,\n",
       " col     2.00\n",
       " col2    4.44\n",
       " c       3.00\n",
       " d       0.00\n",
       " dtype: float64)"
      ]
     },
     "execution_count": 7,
     "metadata": {},
     "output_type": "execute_result"
    }
   ],
   "source": [
    "pd.Series(d), pd.Series(d1), "
   ]
  },
  {
   "cell_type": "code",
   "execution_count": 8,
   "metadata": {},
   "outputs": [
    {
     "data": {
      "text/plain": [
       "(       NaN\n",
       " c      3.0\n",
       " m      NaN\n",
       " n      NaN\n",
       " col    2.0\n",
       " p      NaN\n",
       " dtype: float64,)"
      ]
     },
     "execution_count": 8,
     "metadata": {},
     "output_type": "execute_result"
    }
   ],
   "source": [
    "pd.Series(d, index=[\"\",\"c\", \"m\",\"n\", \"col\", \"p\"]), #calling dict but no index data matching, no output, NaN"
   ]
  },
  {
   "cell_type": "markdown",
   "metadata": {},
   "source": [
    "# A.2 Series from scalar ...."
   ]
  },
  {
   "cell_type": "code",
   "execution_count": 9,
   "metadata": {},
   "outputs": [
    {
     "data": {
      "text/plain": [
       "c      5\n",
       "m      5\n",
       "n      5\n",
       "col    5\n",
       "p      5\n",
       "dtype: int64"
      ]
     },
     "execution_count": 9,
     "metadata": {},
     "output_type": "execute_result"
    }
   ],
   "source": [
    "pd.Series(5, index=[\"c\", \"m\",\"n\", \"col\", \"p\"])"
   ]
  },
  {
   "cell_type": "markdown",
   "metadata": {},
   "source": [
    "# A.3 Series as ndarray"
   ]
  },
  {
   "cell_type": "code",
   "execution_count": 10,
   "metadata": {},
   "outputs": [
    {
     "data": {
      "text/plain": [
       "0   -0.078475\n",
       "1    0.163655\n",
       "2   -0.886277\n",
       "3    1.356063\n",
       "4    0.876071\n",
       "5   -1.063614\n",
       "6    1.290027\n",
       "7   -0.103020\n",
       "8   -1.048312\n",
       "9    0.769848\n",
       "dtype: float64"
      ]
     },
     "execution_count": 10,
     "metadata": {},
     "output_type": "execute_result"
    }
   ],
   "source": [
    "s=pd.Series(np.random.randn(10))  #Like a NumPy array, a pandas Series has a single dtype .\n",
    "s"
   ]
  },
  {
   "cell_type": "code",
   "execution_count": 11,
   "metadata": {},
   "outputs": [
    {
     "data": {
      "text/plain": [
       "dtype('float64')"
      ]
     },
     "execution_count": 11,
     "metadata": {},
     "output_type": "execute_result"
    }
   ],
   "source": [
    "s.dtype"
   ]
  },
  {
   "cell_type": "code",
   "execution_count": 12,
   "metadata": {},
   "outputs": [
    {
     "data": {
      "text/plain": [
       "-0.07847461771415408"
      ]
     },
     "execution_count": 12,
     "metadata": {},
     "output_type": "execute_result"
    }
   ],
   "source": [
    "s.iloc[0] #certain col"
   ]
  },
  {
   "cell_type": "code",
   "execution_count": 13,
   "metadata": {},
   "outputs": [
    {
     "data": {
      "text/plain": [
       "0   -0.078475\n",
       "1    0.163655\n",
       "2   -0.886277\n",
       "3    1.356063\n",
       "dtype: float64"
      ]
     },
     "execution_count": 13,
     "metadata": {},
     "output_type": "execute_result"
    }
   ],
   "source": [
    "s.iloc[:4] #upto"
   ]
  },
  {
   "cell_type": "code",
   "execution_count": 56,
   "metadata": {},
   "outputs": [
    {
     "data": {
      "text/plain": [
       "4    NaN\n",
       "5    8.0\n",
       "6    9.0\n",
       "dtype: float64"
      ]
     },
     "execution_count": 56,
     "metadata": {},
     "output_type": "execute_result"
    }
   ],
   "source": [
    "s.iloc[4:] #beyond"
   ]
  },
  {
   "cell_type": "code",
   "execution_count": 14,
   "metadata": {},
   "outputs": [
    {
     "data": {
      "text/plain": [
       "1    0.163655\n",
       "2   -0.886277\n",
       "dtype: float64"
      ]
     },
     "execution_count": 14,
     "metadata": {},
     "output_type": "execute_result"
    }
   ],
   "source": [
    "s.iloc[1:3] #range"
   ]
  },
  {
   "cell_type": "code",
   "execution_count": 15,
   "metadata": {},
   "outputs": [
    {
     "data": {
      "text/plain": [
       "0.04258994202787612"
      ]
     },
     "execution_count": 15,
     "metadata": {},
     "output_type": "execute_result"
    }
   ],
   "source": [
    "s.median()"
   ]
  },
  {
   "cell_type": "code",
   "execution_count": 16,
   "metadata": {},
   "outputs": [
    {
     "data": {
      "text/plain": [
       "4    0.876071\n",
       "6    1.290027\n",
       "1    0.163655\n",
       "dtype: float64"
      ]
     },
     "execution_count": 16,
     "metadata": {},
     "output_type": "execute_result"
    }
   ],
   "source": [
    "s.iloc[[4,6,1]] # certain multiple col"
   ]
  },
  {
   "cell_type": "code",
   "execution_count": 17,
   "metadata": {},
   "outputs": [
    {
     "data": {
      "text/plain": [
       "0    0.924526\n",
       "1    1.177807\n",
       "2    0.412188\n",
       "3    3.880884\n",
       "4    2.401447\n",
       "5    0.345206\n",
       "6    3.632885\n",
       "7    0.902109\n",
       "8    0.350529\n",
       "9    2.159438\n",
       "dtype: float64"
      ]
     },
     "execution_count": 17,
     "metadata": {},
     "output_type": "execute_result"
    }
   ],
   "source": [
    "np.exp(s)"
   ]
  },
  {
   "cell_type": "code",
   "execution_count": 18,
   "metadata": {},
   "outputs": [
    {
     "data": {
      "text/plain": [
       "<PandasArray>\n",
       "[-0.07847461771415408,   0.1636545017699063,  -0.8862768749732014,\n",
       "    1.356062858011364,    0.876071480181007,   -1.063614398995539,\n",
       "   1.2900269671998568, -0.10302001239874019,  -1.0483119450611325,\n",
       "   0.7698478061322451]\n",
       "Length: 10, dtype: float64"
      ]
     },
     "execution_count": 18,
     "metadata": {},
     "output_type": "execute_result"
    }
   ],
   "source": [
    "s.array #series to array conver...   'SHOULD LIKE <<NumpyExtensionArray>>'"
   ]
  },
  {
   "cell_type": "code",
   "execution_count": 19,
   "metadata": {},
   "outputs": [
    {
     "data": {
      "text/plain": [
       "array([-0.07847462,  0.1636545 , -0.88627687,  1.35606286,  0.87607148,\n",
       "       -1.0636144 ,  1.29002697, -0.10302001, -1.04831195,  0.76984781])"
      ]
     },
     "execution_count": 19,
     "metadata": {},
     "output_type": "execute_result"
    }
   ],
   "source": [
    "s.to_numpy()"
   ]
  },
  {
   "cell_type": "markdown",
   "metadata": {},
   "source": [
    "# A.4 Series as dict"
   ]
  },
  {
   "cell_type": "code",
   "execution_count": 26,
   "metadata": {},
   "outputs": [
    {
     "data": {
      "text/plain": [
       "A   -2.506011\n",
       "b    0.500893\n",
       "c   -0.695072\n",
       "d   -1.995099\n",
       "e   -0.067935\n",
       "f   -2.057767\n",
       "dtype: float64"
      ]
     },
     "execution_count": 26,
     "metadata": {},
     "output_type": "execute_result"
    }
   ],
   "source": [
    "s1"
   ]
  },
  {
   "cell_type": "code",
   "execution_count": 31,
   "metadata": {},
   "outputs": [
    {
     "data": {
      "text/plain": [
       "0.5008931661992723"
      ]
     },
     "execution_count": 31,
     "metadata": {},
     "output_type": "execute_result"
    }
   ],
   "source": [
    "s1[\"b\"]"
   ]
  },
  {
   "cell_type": "code",
   "execution_count": 47,
   "metadata": {},
   "outputs": [
    {
     "data": {
      "text/plain": [
       "(True, False, -0.6950721986680272)"
      ]
     },
     "execution_count": 47,
     "metadata": {},
     "output_type": "execute_result"
    }
   ],
   "source": [
    "\"e\" in s1, \"g\" in s1 , s1.get(\"c\")\n",
    "#If a label is not contained in the index, an exception is raised     \n",
    "#Using the Series.get() method,"
   ]
  },
  {
   "cell_type": "markdown",
   "metadata": {},
   "source": [
    "# A.5 Vectorized operations and label alignment with Series"
   ]
  },
  {
   "cell_type": "code",
   "execution_count": 64,
   "metadata": {},
   "outputs": [
    {
     "data": {
      "text/plain": [
       "(A   -2.506011\n",
       " b    0.500893\n",
       " c   -0.695072\n",
       " d   -1.995099\n",
       " e   -0.067935\n",
       " f   -2.057767\n",
       " dtype: float64,\n",
       " 0    1.0\n",
       " 1    2.0\n",
       " 2    3.0\n",
       " 3    4.0\n",
       " 4    NaN\n",
       " 5    8.0\n",
       " 6    9.0\n",
       " dtype: float64)"
      ]
     },
     "execution_count": 64,
     "metadata": {},
     "output_type": "execute_result"
    }
   ],
   "source": [
    "s1, s"
   ]
  },
  {
   "cell_type": "code",
   "execution_count": 66,
   "metadata": {},
   "outputs": [
    {
     "data": {
      "text/plain": [
       "(A   -5.012021\n",
       " b    1.001786\n",
       " c   -1.390144\n",
       " d   -3.990197\n",
       " e   -0.135871\n",
       " f   -4.115533\n",
       " dtype: float64,\n",
       " A   -5.012021\n",
       " b    1.001786\n",
       " c   -1.390144\n",
       " d   -3.990197\n",
       " e   -0.135871\n",
       " f   -4.115533\n",
       " dtype: float64,\n",
       " A   -0.626503\n",
       " b    0.125223\n",
       " c   -0.173768\n",
       " d   -0.498775\n",
       " e   -0.016984\n",
       " f   -0.514442\n",
       " dtype: float64,\n",
       " A    0.081593\n",
       " b    1.650195\n",
       " c    0.499038\n",
       " d    0.136000\n",
       " e    0.934321\n",
       " f    0.127739\n",
       " dtype: float64,\n",
       " 4     NaN\n",
       " 5    16.0\n",
       " 6    18.0\n",
       " dtype: float64)"
      ]
     },
     "execution_count": 66,
     "metadata": {},
     "output_type": "execute_result"
    }
   ],
   "source": [
    "s1+s1, s1*2, s1/4, np.exp(s1), s.iloc[4:] + s.iloc[4:] \n",
    "# If a label is not found in one Series or the other, the result will be marked as missing  NaN ."
   ]
  },
  {
   "cell_type": "markdown",
   "metadata": {},
   "source": [
    "# A6. Name attribute"
   ]
  },
  {
   "cell_type": "code",
   "execution_count": 69,
   "metadata": {},
   "outputs": [
    {
     "data": {
      "text/plain": [
       "0   -0.719181\n",
       "1    1.379536\n",
       "2    0.151023\n",
       "Name: something, dtype: float64"
      ]
     },
     "execution_count": 69,
     "metadata": {},
     "output_type": "execute_result"
    }
   ],
   "source": [
    "s=pd.Series(np.random.randn(3), name= \"something\")\n",
    "s"
   ]
  },
  {
   "cell_type": "code",
   "execution_count": 70,
   "metadata": {},
   "outputs": [
    {
     "data": {
      "text/plain": [
       "'something'"
      ]
     },
     "execution_count": 70,
     "metadata": {},
     "output_type": "execute_result"
    }
   ],
   "source": [
    "s.name"
   ]
  },
  {
   "cell_type": "code",
   "execution_count": 72,
   "metadata": {},
   "outputs": [
    {
     "data": {
      "text/plain": [
       "0   -0.719181\n",
       "1    1.379536\n",
       "2    0.151023\n",
       "Name: different, dtype: float64"
      ]
     },
     "execution_count": 72,
     "metadata": {},
     "output_type": "execute_result"
    }
   ],
   "source": [
    "s3= s.rename(\"different\")\n",
    "s3"
   ]
  },
  {
   "cell_type": "markdown",
   "metadata": {},
   "source": [
    "# 1.Object creation"
   ]
  },
  {
   "cell_type": "markdown",
   "metadata": {},
   "source": [
    "# 1.1 Creating a Series \n",
    "by passing a list of values. Series(a one-dimensional labeled array capable of holding any data type (integers, strings,floating point numbers, Python objects, etc.))"
   ]
  },
  {
   "cell_type": "code",
   "execution_count": 120,
   "metadata": {},
   "outputs": [
    {
     "data": {
      "text/plain": [
       "(0    1.878448\n",
       " 1   -0.068834\n",
       " 2    0.684093\n",
       " 3   -1.091795\n",
       " 4    1.422971\n",
       " 5    0.571153\n",
       " 6    0.854625\n",
       " 7   -0.398111\n",
       " 8   -1.741636\n",
       " 9   -0.151845\n",
       " dtype: float64,\n",
       " 0    1.0\n",
       " 1    2.0\n",
       " 2    3.0\n",
       " 3    4.0\n",
       " 4    NaN\n",
       " 5    8.0\n",
       " 6    9.0\n",
       " dtype: float64)"
      ]
     },
     "execution_count": 120,
     "metadata": {},
     "output_type": "execute_result"
    }
   ],
   "source": [
    "d=pd.Series(np.random.randn(10)); s = pd.Series([1, 2, 3, 4, np.nan, 8, 9])\n",
    "d, s"
   ]
  },
  {
   "cell_type": "markdown",
   "metadata": {},
   "source": [
    "# A7. DataFrame\n",
    "DataFrame is a 2-dimensional labeled data structure with columns of potentially different types.\n",
    "You can think of it like a spreadsheet or SQL table, or a dict of Series objects. DataFrame accepts many different kinds of\n",
    "input:\n",
    "Dict of 1D ndarrays, lists, dicts, or Series\n",
    "2-D numpy.ndarray\n",
    "Structured or record ndarray\n",
    "A Series\n",
    "Another DataFrame"
   ]
  },
  {
   "cell_type": "markdown",
   "metadata": {},
   "source": [
    "# 1.2 Cre DataFrame\n",
    "# 1.2.1 Constructing DataFrame from a dictionary."
   ]
  },
  {
   "cell_type": "code",
   "execution_count": 103,
   "metadata": {},
   "outputs": [
    {
     "name": "stdout",
     "output_type": "stream",
     "text": [
      "     Col1 Col2\n",
      "Row1    1    2\n",
      "Row2    3    4\n"
     ]
    }
   ],
   "source": [
    "data = np.array([['','Col1','Col2'],['Row1',1,2],['Row2',3,4]])\n",
    "print(pd.DataFrame(data=data[1:,1:],index=data[1:,0],columns=data[0,1:]))"
   ]
  },
  {
   "cell_type": "code",
   "execution_count": 121,
   "metadata": {},
   "outputs": [
    {
     "data": {
      "text/html": [
       "<div>\n",
       "<style scoped>\n",
       "    .dataframe tbody tr th:only-of-type {\n",
       "        vertical-align: middle;\n",
       "    }\n",
       "\n",
       "    .dataframe tbody tr th {\n",
       "        vertical-align: top;\n",
       "    }\n",
       "\n",
       "    .dataframe thead th {\n",
       "        text-align: right;\n",
       "    }\n",
       "</style>\n",
       "<table border=\"1\" class=\"dataframe\">\n",
       "  <thead>\n",
       "    <tr style=\"text-align: right;\">\n",
       "      <th></th>\n",
       "      <th>0</th>\n",
       "      <th>1</th>\n",
       "      <th>2</th>\n",
       "    </tr>\n",
       "  </thead>\n",
       "  <tbody>\n",
       "    <tr>\n",
       "      <th>0</th>\n",
       "      <td></td>\n",
       "      <td>Col1</td>\n",
       "      <td>Col2</td>\n",
       "    </tr>\n",
       "    <tr>\n",
       "      <th>1</th>\n",
       "      <td>Row1</td>\n",
       "      <td>1</td>\n",
       "      <td>2</td>\n",
       "    </tr>\n",
       "    <tr>\n",
       "      <th>2</th>\n",
       "      <td>Row2</td>\n",
       "      <td>3</td>\n",
       "      <td>4</td>\n",
       "    </tr>\n",
       "  </tbody>\n",
       "</table>\n",
       "</div>"
      ],
      "text/plain": [
       "      0     1     2\n",
       "0        Col1  Col2\n",
       "1  Row1     1     2\n",
       "2  Row2     3     4"
      ]
     },
     "execution_count": 121,
     "metadata": {},
     "output_type": "execute_result"
    }
   ],
   "source": [
    "df0=pd.DataFrame(data=data)\n",
    "df0"
   ]
  },
  {
   "cell_type": "markdown",
   "metadata": {},
   "source": [
    "# 1.2.2 Creating a DataFrame by passing a NumPy array\n",
    "with a datetime index using date_range() and labeled columns:"
   ]
  },
  {
   "cell_type": "code",
   "execution_count": 74,
   "metadata": {},
   "outputs": [
    {
     "data": {
      "text/plain": [
       "DatetimeIndex(['2023-11-05', '2023-11-06', '2023-11-07', '2023-11-08',\n",
       "               '2023-11-09', '2023-11-10', '2023-11-11', '2023-11-12',\n",
       "               '2023-11-13', '2023-11-14'],\n",
       "              dtype='datetime64[ns]', freq='D')"
      ]
     },
     "execution_count": 74,
     "metadata": {},
     "output_type": "execute_result"
    }
   ],
   "source": [
    "\n",
    "dates = pd.date_range(\"20231105\", periods=10)\n",
    "dates                                                                                                                                                                                                                                                                                                                                                                                                                                                                                                                                                                                                                                                                                                                                                                                                                                                                                                                                                                                                                                                                                                                                                                                                                                                                                                                                                                                                                                                                                                                                                                                                                                                                                                                                                                                                                                                                                                                                                                                                                                                                                                                                                                                                                                                                                                                                                                                                                                                                                                                                                                                                                                            "
   ]
  },
  {
   "cell_type": "code",
   "execution_count": 131,
   "metadata": {},
   "outputs": [
    {
     "data": {
      "text/plain": [
       "(                   A         B         C         D         E\n",
       " 2023-11-05 -0.220482  0.235232  0.126781  1.700127  0.573598\n",
       " 2023-11-06 -1.298268  0.919117  0.378055  0.476793 -0.342378\n",
       " 2023-11-07 -0.940769 -1.197223  0.737045  0.383473  1.390539\n",
       " 2023-11-08 -0.131534  2.115755 -1.141690  0.132522 -1.284669\n",
       " 2023-11-09  2.027915 -0.590384 -0.115570 -1.044964 -0.053459\n",
       " 2023-11-10 -0.307564 -0.587654  2.053760 -0.838354 -0.871171\n",
       " 2023-11-11  0.125955 -1.752582  0.750464 -0.427927 -0.152268\n",
       " 2023-11-12 -0.636001  1.567314 -0.025564 -0.040572  0.460134\n",
       " 2023-11-13 -1.201850 -1.571671  2.255537  0.345073 -0.259290\n",
       " 2023-11-14 -1.392900 -0.714684  0.654189 -0.320867  0.053304,\n",
       "                    A         B         C         D         E\n",
       " 2023-11-05 -1.009026 -0.214729 -0.262953  0.603954  0.021891\n",
       " 2023-11-06 -0.996214  0.411110 -0.712468  0.071585 -1.341852\n",
       " 2023-11-07  0.634628 -1.490033 -0.555675 -1.046215 -0.875021\n",
       " 2023-11-08 -0.546982 -1.225067 -0.366090 -0.017289  0.994570\n",
       " 2023-11-09 -1.097075 -0.386514  1.759092  1.053006  1.135967\n",
       " 2023-11-10 -0.820962  1.600649  0.698318  0.231582 -0.488285\n",
       " 2023-11-11 -0.307347 -1.252295 -0.121096  0.953379  0.180682\n",
       " 2023-11-12 -0.945715  0.504512  1.800951  1.161477  0.738086\n",
       " 2023-11-13 -0.929780 -0.091701  0.210038  0.206327 -1.663364\n",
       " 2023-11-14  1.594107 -0.965779 -0.450548  0.981007  0.348509)"
      ]
     },
     "execution_count": 131,
     "metadata": {},
     "output_type": "execute_result"
    }
   ],
   "source": [
    "df = pd.DataFrame(np.random.randn(10,5), index=dates, columns=[\"A\", \"B\", \"C\",\"D\",\"E\"])\n",
    "df5 = pd.DataFrame(np.random.randn(10,5), index=dates, columns=  list(\"ABCDE\"))# or columns= list(\"ABCDE\")\n",
    "df,df5"
   ]
  },
  {
   "cell_type": "code",
   "execution_count": 132,
   "metadata": {},
   "outputs": [
    {
     "name": "stdout",
     "output_type": "stream",
     "text": [
      "<class 'pandas.core.frame.DataFrame'>\n",
      "DatetimeIndex: 10 entries, 2023-11-05 to 2023-11-14\n",
      "Freq: D\n",
      "Data columns (total 5 columns):\n",
      " #   Column  Non-Null Count  Dtype  \n",
      "---  ------  --------------  -----  \n",
      " 0   A       10 non-null     float64\n",
      " 1   B       10 non-null     float64\n",
      " 2   C       10 non-null     float64\n",
      " 3   D       10 non-null     float64\n",
      " 4   E       10 non-null     float64\n",
      "dtypes: float64(5)\n",
      "memory usage: 780.0 bytes\n"
     ]
    }
   ],
   "source": [
    "df.info() #df5.info()"
   ]
  },
  {
   "cell_type": "markdown",
   "metadata": {},
   "source": [
    "\n",
    "# 1.2.3 Creating a DataFrame by passing a dictionary of objects \n",
    "that can be converted into a series-like structure: keys and column"
   ]
  },
  {
   "cell_type": "code",
   "execution_count": 144,
   "metadata": {},
   "outputs": [
    {
     "name": "stdout",
     "output_type": "stream",
     "text": [
      "   A          B    C    D      E  F\n",
      "0  1 2023-11-05  1.0  3.0   test  f\n",
      "1  1 2023-11-05  2.0  3.0  train  j\n",
      "2  1 2023-11-05  3.0  3.0   best  k\n",
      "3  1 2023-11-05  4.0  3.0   rest  L\n"
     ]
    }
   ],
   "source": [
    "\n",
    "import pandas as pd\n",
    "import numpy as np\n",
    "df1 = pd.DataFrame(\n",
    "    {\n",
    "        \"A\": 1,\n",
    "        \"B\": pd.Timestamp(\"20231105\"),\n",
    "        \"C\": pd.Series([1,2,3,4], index=list(range(4)), dtype=\"float32\"),  #pd.Series(1,.....\n",
    "        \"D\": np.array([3]*4, dtype=\"float32\"),\n",
    "        \"E\": pd.Categorical([\"test\", \"train\", \"best\", \"rest\"]),\n",
    "        \"F\": [\"f\", \"j\", \"k\", \"L\"],  # single value\n",
    "        \n",
    "    }\n",
    ")\n",
    "\n",
    "print(df1)"
   ]
  },
  {
   "cell_type": "code",
   "execution_count": 147,
   "metadata": {},
   "outputs": [
    {
     "data": {
      "text/html": [
       "<div>\n",
       "<style scoped>\n",
       "    .dataframe tbody tr th:only-of-type {\n",
       "        vertical-align: middle;\n",
       "    }\n",
       "\n",
       "    .dataframe tbody tr th {\n",
       "        vertical-align: top;\n",
       "    }\n",
       "\n",
       "    .dataframe thead th {\n",
       "        text-align: right;\n",
       "    }\n",
       "</style>\n",
       "<table border=\"1\" class=\"dataframe\">\n",
       "  <thead>\n",
       "    <tr style=\"text-align: right;\">\n",
       "      <th></th>\n",
       "      <th>A</th>\n",
       "      <th>B</th>\n",
       "      <th>C</th>\n",
       "      <th>D</th>\n",
       "      <th>E</th>\n",
       "      <th>F</th>\n",
       "    </tr>\n",
       "  </thead>\n",
       "  <tbody>\n",
       "    <tr>\n",
       "      <th>0</th>\n",
       "      <td>1</td>\n",
       "      <td>2023-11-05</td>\n",
       "      <td>1.0</td>\n",
       "      <td>3.0</td>\n",
       "      <td>test</td>\n",
       "      <td>f</td>\n",
       "    </tr>\n",
       "    <tr>\n",
       "      <th>1</th>\n",
       "      <td>1</td>\n",
       "      <td>2023-11-05</td>\n",
       "      <td>2.0</td>\n",
       "      <td>3.0</td>\n",
       "      <td>train</td>\n",
       "      <td>j</td>\n",
       "    </tr>\n",
       "    <tr>\n",
       "      <th>2</th>\n",
       "      <td>1</td>\n",
       "      <td>2023-11-05</td>\n",
       "      <td>3.0</td>\n",
       "      <td>3.0</td>\n",
       "      <td>best</td>\n",
       "      <td>k</td>\n",
       "    </tr>\n",
       "    <tr>\n",
       "      <th>3</th>\n",
       "      <td>1</td>\n",
       "      <td>2023-11-05</td>\n",
       "      <td>4.0</td>\n",
       "      <td>3.0</td>\n",
       "      <td>rest</td>\n",
       "      <td>L</td>\n",
       "    </tr>\n",
       "  </tbody>\n",
       "</table>\n",
       "</div>"
      ],
      "text/plain": [
       "   A          B    C    D      E  F\n",
       "0  1 2023-11-05  1.0  3.0   test  f\n",
       "1  1 2023-11-05  2.0  3.0  train  j\n",
       "2  1 2023-11-05  3.0  3.0   best  k\n",
       "3  1 2023-11-05  4.0  3.0   rest  L"
      ]
     },
     "execution_count": 147,
     "metadata": {},
     "output_type": "execute_result"
    }
   ],
   "source": [
    "df1"
   ]
  },
  {
   "cell_type": "code",
   "execution_count": 148,
   "metadata": {},
   "outputs": [
    {
     "data": {
      "text/plain": [
       "A             int64\n",
       "B    datetime64[ns]\n",
       "C           float32\n",
       "D           float32\n",
       "E          category\n",
       "F            object\n",
       "dtype: object"
      ]
     },
     "execution_count": 148,
     "metadata": {},
     "output_type": "execute_result"
    }
   ],
   "source": [
    "df1.dtypes"
   ]
  },
  {
   "cell_type": "raw",
   "metadata": {},
   "source": [
    "for Ipython df2.<TAB> gies all details\n",
    "\n",
    "\n",
    "\n"
   ]
  },
  {
   "cell_type": "markdown",
   "metadata": {},
   "source": [
    "# 2. Viewing Data"
   ]
  },
  {
   "cell_type": "code",
   "execution_count": 154,
   "metadata": {},
   "outputs": [
    {
     "data": {
      "text/plain": [
       "(                   A         B         C         D         E\n",
       " 2023-11-05 -0.220482  0.235232  0.126781  1.700127  0.573598\n",
       " 2023-11-06 -1.298268  0.919117  0.378055  0.476793 -0.342378\n",
       " 2023-11-07 -0.940769 -1.197223  0.737045  0.383473  1.390539\n",
       " 2023-11-08 -0.131534  2.115755 -1.141690  0.132522 -1.284669\n",
       " 2023-11-09  2.027915 -0.590384 -0.115570 -1.044964 -0.053459,\n",
       "                    A         B         C         D         E\n",
       " 2023-11-05 -0.220482  0.235232  0.126781  1.700127  0.573598\n",
       " 2023-11-06 -1.298268  0.919117  0.378055  0.476793 -0.342378,\n",
       " A             int64\n",
       " B    datetime64[ns]\n",
       " C           float32\n",
       " D           float32\n",
       " E          category\n",
       " F            object\n",
       " dtype: object)"
      ]
     },
     "execution_count": 154,
     "metadata": {},
     "output_type": "execute_result"
    }
   ],
   "source": [
    "df.head(), df.head(2), df1.dtypes"
   ]
  },
  {
   "cell_type": "markdown",
   "metadata": {},
   "source": [
    "                                                 NumPy arrays have one dtype for the entire array\n",
    "                                         pandas DataFrames have one dtype per column"
   ]
  },
  {
   "cell_type": "code",
   "execution_count": 162,
   "metadata": {},
   "outputs": [
    {
     "data": {
      "text/plain": [
       "(                   A         B         C         D         E\n",
       " 2023-11-10 -0.307564 -0.587654  2.053760 -0.838354 -0.871171\n",
       " 2023-11-11  0.125955 -1.752582  0.750464 -0.427927 -0.152268\n",
       " 2023-11-12 -0.636001  1.567314 -0.025564 -0.040572  0.460134\n",
       " 2023-11-13 -1.201850 -1.571671  2.255537  0.345073 -0.259290\n",
       " 2023-11-14 -1.392900 -0.714684  0.654189 -0.320867  0.053304,\n",
       "                   A         B         C         D         E\n",
       " 2023-11-13 -1.20185 -1.571671  2.255537  0.345073 -0.259290\n",
       " 2023-11-14 -1.39290 -0.714684  0.654189 -0.320867  0.053304)"
      ]
     },
     "execution_count": 162,
     "metadata": {},
     "output_type": "execute_result"
    }
   ],
   "source": [
    "df.tail(), df.tail(2)"
   ]
  },
  {
   "cell_type": "code",
   "execution_count": 163,
   "metadata": {},
   "outputs": [
    {
     "data": {
      "text/plain": [
       "(DatetimeIndex(['2023-11-05', '2023-11-06', '2023-11-07', '2023-11-08',\n",
       "                '2023-11-09', '2023-11-10', '2023-11-11', '2023-11-12',\n",
       "                '2023-11-13', '2023-11-14'],\n",
       "               dtype='datetime64[ns]', freq='D'),\n",
       " Index(['A', 'B', 'C', 'D', 'E'], dtype='object'))"
      ]
     },
     "execution_count": 163,
     "metadata": {},
     "output_type": "execute_result"
    }
   ],
   "source": [
    "df.index, df.columns"
   ]
  },
  {
   "cell_type": "code",
   "execution_count": 164,
   "metadata": {},
   "outputs": [
    {
     "data": {
      "text/plain": [
       "array([[-0.22048221,  0.23523213,  0.1267809 ,  1.70012666,  0.57359849],\n",
       "       [-1.29826799,  0.91911683,  0.37805482,  0.47679316, -0.34237792],\n",
       "       [-0.94076934, -1.1972231 ,  0.73704532,  0.38347265,  1.39053883],\n",
       "       [-0.13153447,  2.11575477, -1.14169008,  0.13252216, -1.28466866],\n",
       "       [ 2.02791547, -0.59038383, -0.11556993, -1.04496364, -0.05345927],\n",
       "       [-0.30756387, -0.58765418,  2.05376004, -0.83835376, -0.87117134],\n",
       "       [ 0.12595505, -1.7525824 ,  0.7504637 , -0.42792736, -0.15226815],\n",
       "       [-0.63600086,  1.56731388, -0.02556355, -0.04057222,  0.46013423],\n",
       "       [-1.20184953, -1.57167074,  2.25553733,  0.3450735 , -0.25928999],\n",
       "       [-1.39289973, -0.71468423,  0.65418892, -0.32086688,  0.05330355]])"
      ]
     },
     "execution_count": 164,
     "metadata": {},
     "output_type": "execute_result"
    }
   ],
   "source": [
    "df.to_numpy() \n",
    "# single data types columns-- DataFrame.to_numpy()\n",
    "#-does not include the index or column labels in the output."
   ]
  },
  {
   "cell_type": "code",
   "execution_count": 165,
   "metadata": {},
   "outputs": [
    {
     "data": {
      "text/plain": [
       "A    float64\n",
       "B    float64\n",
       "C    float64\n",
       "D    float64\n",
       "E    float64\n",
       "dtype: object"
      ]
     },
     "execution_count": 165,
     "metadata": {},
     "output_type": "execute_result"
    }
   ],
   "source": [
    "df.dtypes"
   ]
  },
  {
   "cell_type": "code",
   "execution_count": 168,
   "metadata": {},
   "outputs": [
    {
     "data": {
      "text/html": [
       "<div>\n",
       "<style scoped>\n",
       "    .dataframe tbody tr th:only-of-type {\n",
       "        vertical-align: middle;\n",
       "    }\n",
       "\n",
       "    .dataframe tbody tr th {\n",
       "        vertical-align: top;\n",
       "    }\n",
       "\n",
       "    .dataframe thead th {\n",
       "        text-align: right;\n",
       "    }\n",
       "</style>\n",
       "<table border=\"1\" class=\"dataframe\">\n",
       "  <thead>\n",
       "    <tr style=\"text-align: right;\">\n",
       "      <th></th>\n",
       "      <th>A</th>\n",
       "      <th>B</th>\n",
       "      <th>C</th>\n",
       "      <th>D</th>\n",
       "      <th>E</th>\n",
       "    </tr>\n",
       "  </thead>\n",
       "  <tbody>\n",
       "    <tr>\n",
       "      <th>count</th>\n",
       "      <td>10.000000</td>\n",
       "      <td>10.000000</td>\n",
       "      <td>10.000000</td>\n",
       "      <td>10.000000</td>\n",
       "      <td>10.000000</td>\n",
       "    </tr>\n",
       "    <tr>\n",
       "      <th>mean</th>\n",
       "      <td>-0.397550</td>\n",
       "      <td>-0.157678</td>\n",
       "      <td>0.567301</td>\n",
       "      <td>0.036530</td>\n",
       "      <td>-0.048566</td>\n",
       "    </tr>\n",
       "    <tr>\n",
       "      <th>std</th>\n",
       "      <td>1.003771</td>\n",
       "      <td>1.323467</td>\n",
       "      <td>1.005426</td>\n",
       "      <td>0.779645</td>\n",
       "      <td>0.750807</td>\n",
       "    </tr>\n",
       "    <tr>\n",
       "      <th>min</th>\n",
       "      <td>-1.392900</td>\n",
       "      <td>-1.752582</td>\n",
       "      <td>-1.141690</td>\n",
       "      <td>-1.044964</td>\n",
       "      <td>-1.284669</td>\n",
       "    </tr>\n",
       "    <tr>\n",
       "      <th>25%</th>\n",
       "      <td>-1.136579</td>\n",
       "      <td>-1.076588</td>\n",
       "      <td>0.012523</td>\n",
       "      <td>-0.401162</td>\n",
       "      <td>-0.321606</td>\n",
       "    </tr>\n",
       "    <tr>\n",
       "      <th>50%</th>\n",
       "      <td>-0.471782</td>\n",
       "      <td>-0.589019</td>\n",
       "      <td>0.516122</td>\n",
       "      <td>0.045975</td>\n",
       "      <td>-0.102864</td>\n",
       "    </tr>\n",
       "    <tr>\n",
       "      <th>75%</th>\n",
       "      <td>-0.153771</td>\n",
       "      <td>0.748146</td>\n",
       "      <td>0.747109</td>\n",
       "      <td>0.373873</td>\n",
       "      <td>0.358427</td>\n",
       "    </tr>\n",
       "    <tr>\n",
       "      <th>max</th>\n",
       "      <td>2.027915</td>\n",
       "      <td>2.115755</td>\n",
       "      <td>2.255537</td>\n",
       "      <td>1.700127</td>\n",
       "      <td>1.390539</td>\n",
       "    </tr>\n",
       "  </tbody>\n",
       "</table>\n",
       "</div>"
      ],
      "text/plain": [
       "               A          B          C          D          E\n",
       "count  10.000000  10.000000  10.000000  10.000000  10.000000\n",
       "mean   -0.397550  -0.157678   0.567301   0.036530  -0.048566\n",
       "std     1.003771   1.323467   1.005426   0.779645   0.750807\n",
       "min    -1.392900  -1.752582  -1.141690  -1.044964  -1.284669\n",
       "25%    -1.136579  -1.076588   0.012523  -0.401162  -0.321606\n",
       "50%    -0.471782  -0.589019   0.516122   0.045975  -0.102864\n",
       "75%    -0.153771   0.748146   0.747109   0.373873   0.358427\n",
       "max     2.027915   2.115755   2.255537   1.700127   1.390539"
      ]
     },
     "execution_count": 168,
     "metadata": {},
     "output_type": "execute_result"
    }
   ],
   "source": [
    "# describe() shows a quick statistics\n",
    "df.describe()"
   ]
  },
  {
   "cell_type": "code",
   "execution_count": 171,
   "metadata": {
    "scrolled": true
   },
   "outputs": [
    {
     "data": {
      "text/html": [
       "<div>\n",
       "<style scoped>\n",
       "    .dataframe tbody tr th:only-of-type {\n",
       "        vertical-align: middle;\n",
       "    }\n",
       "\n",
       "    .dataframe tbody tr th {\n",
       "        vertical-align: top;\n",
       "    }\n",
       "\n",
       "    .dataframe thead th {\n",
       "        text-align: right;\n",
       "    }\n",
       "</style>\n",
       "<table border=\"1\" class=\"dataframe\">\n",
       "  <thead>\n",
       "    <tr style=\"text-align: right;\">\n",
       "      <th></th>\n",
       "      <th>A</th>\n",
       "      <th>B</th>\n",
       "      <th>C</th>\n",
       "      <th>D</th>\n",
       "      <th>E</th>\n",
       "    </tr>\n",
       "  </thead>\n",
       "  <tbody>\n",
       "    <tr>\n",
       "      <th>2023-11-05</th>\n",
       "      <td>-0.220482</td>\n",
       "      <td>0.235232</td>\n",
       "      <td>0.126781</td>\n",
       "      <td>1.700127</td>\n",
       "      <td>0.573598</td>\n",
       "    </tr>\n",
       "    <tr>\n",
       "      <th>2023-11-06</th>\n",
       "      <td>-1.298268</td>\n",
       "      <td>0.919117</td>\n",
       "      <td>0.378055</td>\n",
       "      <td>0.476793</td>\n",
       "      <td>-0.342378</td>\n",
       "    </tr>\n",
       "    <tr>\n",
       "      <th>2023-11-07</th>\n",
       "      <td>-0.940769</td>\n",
       "      <td>-1.197223</td>\n",
       "      <td>0.737045</td>\n",
       "      <td>0.383473</td>\n",
       "      <td>1.390539</td>\n",
       "    </tr>\n",
       "    <tr>\n",
       "      <th>2023-11-08</th>\n",
       "      <td>-0.131534</td>\n",
       "      <td>2.115755</td>\n",
       "      <td>-1.141690</td>\n",
       "      <td>0.132522</td>\n",
       "      <td>-1.284669</td>\n",
       "    </tr>\n",
       "    <tr>\n",
       "      <th>2023-11-09</th>\n",
       "      <td>2.027915</td>\n",
       "      <td>-0.590384</td>\n",
       "      <td>-0.115570</td>\n",
       "      <td>-1.044964</td>\n",
       "      <td>-0.053459</td>\n",
       "    </tr>\n",
       "    <tr>\n",
       "      <th>2023-11-10</th>\n",
       "      <td>-0.307564</td>\n",
       "      <td>-0.587654</td>\n",
       "      <td>2.053760</td>\n",
       "      <td>-0.838354</td>\n",
       "      <td>-0.871171</td>\n",
       "    </tr>\n",
       "    <tr>\n",
       "      <th>2023-11-11</th>\n",
       "      <td>0.125955</td>\n",
       "      <td>-1.752582</td>\n",
       "      <td>0.750464</td>\n",
       "      <td>-0.427927</td>\n",
       "      <td>-0.152268</td>\n",
       "    </tr>\n",
       "    <tr>\n",
       "      <th>2023-11-12</th>\n",
       "      <td>-0.636001</td>\n",
       "      <td>1.567314</td>\n",
       "      <td>-0.025564</td>\n",
       "      <td>-0.040572</td>\n",
       "      <td>0.460134</td>\n",
       "    </tr>\n",
       "    <tr>\n",
       "      <th>2023-11-13</th>\n",
       "      <td>-1.201850</td>\n",
       "      <td>-1.571671</td>\n",
       "      <td>2.255537</td>\n",
       "      <td>0.345073</td>\n",
       "      <td>-0.259290</td>\n",
       "    </tr>\n",
       "    <tr>\n",
       "      <th>2023-11-14</th>\n",
       "      <td>-1.392900</td>\n",
       "      <td>-0.714684</td>\n",
       "      <td>0.654189</td>\n",
       "      <td>-0.320867</td>\n",
       "      <td>0.053304</td>\n",
       "    </tr>\n",
       "  </tbody>\n",
       "</table>\n",
       "</div>"
      ],
      "text/plain": [
       "                   A         B         C         D         E\n",
       "2023-11-05 -0.220482  0.235232  0.126781  1.700127  0.573598\n",
       "2023-11-06 -1.298268  0.919117  0.378055  0.476793 -0.342378\n",
       "2023-11-07 -0.940769 -1.197223  0.737045  0.383473  1.390539\n",
       "2023-11-08 -0.131534  2.115755 -1.141690  0.132522 -1.284669\n",
       "2023-11-09  2.027915 -0.590384 -0.115570 -1.044964 -0.053459\n",
       "2023-11-10 -0.307564 -0.587654  2.053760 -0.838354 -0.871171\n",
       "2023-11-11  0.125955 -1.752582  0.750464 -0.427927 -0.152268\n",
       "2023-11-12 -0.636001  1.567314 -0.025564 -0.040572  0.460134\n",
       "2023-11-13 -1.201850 -1.571671  2.255537  0.345073 -0.259290\n",
       "2023-11-14 -1.392900 -0.714684  0.654189 -0.320867  0.053304"
      ]
     },
     "execution_count": 171,
     "metadata": {},
     "output_type": "execute_result"
    }
   ],
   "source": [
    "df.sort_index()"
   ]
  },
  {
   "cell_type": "code",
   "execution_count": 170,
   "metadata": {},
   "outputs": [
    {
     "data": {
      "text/html": [
       "<div>\n",
       "<style scoped>\n",
       "    .dataframe tbody tr th:only-of-type {\n",
       "        vertical-align: middle;\n",
       "    }\n",
       "\n",
       "    .dataframe tbody tr th {\n",
       "        vertical-align: top;\n",
       "    }\n",
       "\n",
       "    .dataframe thead th {\n",
       "        text-align: right;\n",
       "    }\n",
       "</style>\n",
       "<table border=\"1\" class=\"dataframe\">\n",
       "  <thead>\n",
       "    <tr style=\"text-align: right;\">\n",
       "      <th></th>\n",
       "      <th>2023-11-05</th>\n",
       "      <th>2023-11-06</th>\n",
       "      <th>2023-11-07</th>\n",
       "      <th>2023-11-08</th>\n",
       "      <th>2023-11-09</th>\n",
       "      <th>2023-11-10</th>\n",
       "      <th>2023-11-11</th>\n",
       "      <th>2023-11-12</th>\n",
       "      <th>2023-11-13</th>\n",
       "      <th>2023-11-14</th>\n",
       "    </tr>\n",
       "  </thead>\n",
       "  <tbody>\n",
       "    <tr>\n",
       "      <th>A</th>\n",
       "      <td>-0.220482</td>\n",
       "      <td>-1.298268</td>\n",
       "      <td>-0.940769</td>\n",
       "      <td>-0.131534</td>\n",
       "      <td>2.027915</td>\n",
       "      <td>-0.307564</td>\n",
       "      <td>0.125955</td>\n",
       "      <td>-0.636001</td>\n",
       "      <td>-1.201850</td>\n",
       "      <td>-1.392900</td>\n",
       "    </tr>\n",
       "    <tr>\n",
       "      <th>B</th>\n",
       "      <td>0.235232</td>\n",
       "      <td>0.919117</td>\n",
       "      <td>-1.197223</td>\n",
       "      <td>2.115755</td>\n",
       "      <td>-0.590384</td>\n",
       "      <td>-0.587654</td>\n",
       "      <td>-1.752582</td>\n",
       "      <td>1.567314</td>\n",
       "      <td>-1.571671</td>\n",
       "      <td>-0.714684</td>\n",
       "    </tr>\n",
       "    <tr>\n",
       "      <th>C</th>\n",
       "      <td>0.126781</td>\n",
       "      <td>0.378055</td>\n",
       "      <td>0.737045</td>\n",
       "      <td>-1.141690</td>\n",
       "      <td>-0.115570</td>\n",
       "      <td>2.053760</td>\n",
       "      <td>0.750464</td>\n",
       "      <td>-0.025564</td>\n",
       "      <td>2.255537</td>\n",
       "      <td>0.654189</td>\n",
       "    </tr>\n",
       "    <tr>\n",
       "      <th>D</th>\n",
       "      <td>1.700127</td>\n",
       "      <td>0.476793</td>\n",
       "      <td>0.383473</td>\n",
       "      <td>0.132522</td>\n",
       "      <td>-1.044964</td>\n",
       "      <td>-0.838354</td>\n",
       "      <td>-0.427927</td>\n",
       "      <td>-0.040572</td>\n",
       "      <td>0.345073</td>\n",
       "      <td>-0.320867</td>\n",
       "    </tr>\n",
       "    <tr>\n",
       "      <th>E</th>\n",
       "      <td>0.573598</td>\n",
       "      <td>-0.342378</td>\n",
       "      <td>1.390539</td>\n",
       "      <td>-1.284669</td>\n",
       "      <td>-0.053459</td>\n",
       "      <td>-0.871171</td>\n",
       "      <td>-0.152268</td>\n",
       "      <td>0.460134</td>\n",
       "      <td>-0.259290</td>\n",
       "      <td>0.053304</td>\n",
       "    </tr>\n",
       "  </tbody>\n",
       "</table>\n",
       "</div>"
      ],
      "text/plain": [
       "   2023-11-05  2023-11-06  2023-11-07  2023-11-08  2023-11-09  2023-11-10  \\\n",
       "A   -0.220482   -1.298268   -0.940769   -0.131534    2.027915   -0.307564   \n",
       "B    0.235232    0.919117   -1.197223    2.115755   -0.590384   -0.587654   \n",
       "C    0.126781    0.378055    0.737045   -1.141690   -0.115570    2.053760   \n",
       "D    1.700127    0.476793    0.383473    0.132522   -1.044964   -0.838354   \n",
       "E    0.573598   -0.342378    1.390539   -1.284669   -0.053459   -0.871171   \n",
       "\n",
       "   2023-11-11  2023-11-12  2023-11-13  2023-11-14  \n",
       "A    0.125955   -0.636001   -1.201850   -1.392900  \n",
       "B   -1.752582    1.567314   -1.571671   -0.714684  \n",
       "C    0.750464   -0.025564    2.255537    0.654189  \n",
       "D   -0.427927   -0.040572    0.345073   -0.320867  \n",
       "E   -0.152268    0.460134   -0.259290    0.053304  "
      ]
     },
     "execution_count": 170,
     "metadata": {},
     "output_type": "execute_result"
    }
   ],
   "source": [
    "df.T  #c to r and r to C"
   ]
  },
  {
   "cell_type": "code",
   "execution_count": 89,
   "metadata": {},
   "outputs": [
    {
     "data": {
      "text/plain": [
       "(                   A         B         C         D         E\n",
       " 2023-11-05  0.248480 -0.151079 -0.651606 -0.154898  0.784665\n",
       " 2023-11-06  0.588168 -1.270531 -0.601338 -0.075788 -0.941273\n",
       " 2023-11-07 -0.544558  0.878808  0.345066  0.638333  1.902559\n",
       " 2023-11-08 -0.925156  0.538874 -0.145330 -0.021646 -0.326571\n",
       " 2023-11-09  0.819597 -0.618865  0.813931  1.099288  0.047488\n",
       " 2023-11-10  1.046448  0.499436  0.433487  1.111300  0.529981\n",
       " 2023-11-11 -0.973053  0.966412 -1.093260 -0.604974  0.818304\n",
       " 2023-11-12  1.450041 -0.601590  1.015180 -0.083191 -1.818819\n",
       " 2023-11-13 -0.610350  2.046488  0.726396 -0.693282 -0.564011\n",
       " 2023-11-14  0.639446  1.796082 -0.469683 -0.441636 -0.477188,\n",
       "                    E         D         C         B         A\n",
       " 2023-11-05  0.784665 -0.154898 -0.651606 -0.151079  0.248480\n",
       " 2023-11-06 -0.941273 -0.075788 -0.601338 -1.270531  0.588168\n",
       " 2023-11-07  1.902559  0.638333  0.345066  0.878808 -0.544558\n",
       " 2023-11-08 -0.326571 -0.021646 -0.145330  0.538874 -0.925156\n",
       " 2023-11-09  0.047488  1.099288  0.813931 -0.618865  0.819597\n",
       " 2023-11-10  0.529981  1.111300  0.433487  0.499436  1.046448\n",
       " 2023-11-11  0.818304 -0.604974 -1.093260  0.966412 -0.973053\n",
       " 2023-11-12 -1.818819 -0.083191  1.015180 -0.601590  1.450041\n",
       " 2023-11-13 -0.564011 -0.693282  0.726396  2.046488 -0.610350\n",
       " 2023-11-14 -0.477188 -0.441636 -0.469683  1.796082  0.639446)"
      ]
     },
     "execution_count": 89,
     "metadata": {},
     "output_type": "execute_result"
    }
   ],
   "source": [
    "# Sorting by axis,In Pandas, axis=1 refers to columns, while axis=0 refers to rows.\n",
    "df.sort_index(axis=1, ascending=True), df.sort_index(axis=1, ascending=False)"
   ]
  },
  {
   "cell_type": "code",
   "execution_count": 90,
   "metadata": {},
   "outputs": [
    {
     "data": {
      "text/html": [
       "<div>\n",
       "<style scoped>\n",
       "    .dataframe tbody tr th:only-of-type {\n",
       "        vertical-align: middle;\n",
       "    }\n",
       "\n",
       "    .dataframe tbody tr th {\n",
       "        vertical-align: top;\n",
       "    }\n",
       "\n",
       "    .dataframe thead th {\n",
       "        text-align: right;\n",
       "    }\n",
       "</style>\n",
       "<table border=\"1\" class=\"dataframe\">\n",
       "  <thead>\n",
       "    <tr style=\"text-align: right;\">\n",
       "      <th></th>\n",
       "      <th>A</th>\n",
       "      <th>B</th>\n",
       "      <th>C</th>\n",
       "      <th>D</th>\n",
       "      <th>E</th>\n",
       "    </tr>\n",
       "  </thead>\n",
       "  <tbody>\n",
       "    <tr>\n",
       "      <th>2023-11-06</th>\n",
       "      <td>0.588168</td>\n",
       "      <td>-1.270531</td>\n",
       "      <td>-0.601338</td>\n",
       "      <td>-0.075788</td>\n",
       "      <td>-0.941273</td>\n",
       "    </tr>\n",
       "    <tr>\n",
       "      <th>2023-11-09</th>\n",
       "      <td>0.819597</td>\n",
       "      <td>-0.618865</td>\n",
       "      <td>0.813931</td>\n",
       "      <td>1.099288</td>\n",
       "      <td>0.047488</td>\n",
       "    </tr>\n",
       "    <tr>\n",
       "      <th>2023-11-12</th>\n",
       "      <td>1.450041</td>\n",
       "      <td>-0.601590</td>\n",
       "      <td>1.015180</td>\n",
       "      <td>-0.083191</td>\n",
       "      <td>-1.818819</td>\n",
       "    </tr>\n",
       "    <tr>\n",
       "      <th>2023-11-05</th>\n",
       "      <td>0.248480</td>\n",
       "      <td>-0.151079</td>\n",
       "      <td>-0.651606</td>\n",
       "      <td>-0.154898</td>\n",
       "      <td>0.784665</td>\n",
       "    </tr>\n",
       "    <tr>\n",
       "      <th>2023-11-10</th>\n",
       "      <td>1.046448</td>\n",
       "      <td>0.499436</td>\n",
       "      <td>0.433487</td>\n",
       "      <td>1.111300</td>\n",
       "      <td>0.529981</td>\n",
       "    </tr>\n",
       "    <tr>\n",
       "      <th>2023-11-08</th>\n",
       "      <td>-0.925156</td>\n",
       "      <td>0.538874</td>\n",
       "      <td>-0.145330</td>\n",
       "      <td>-0.021646</td>\n",
       "      <td>-0.326571</td>\n",
       "    </tr>\n",
       "    <tr>\n",
       "      <th>2023-11-07</th>\n",
       "      <td>-0.544558</td>\n",
       "      <td>0.878808</td>\n",
       "      <td>0.345066</td>\n",
       "      <td>0.638333</td>\n",
       "      <td>1.902559</td>\n",
       "    </tr>\n",
       "    <tr>\n",
       "      <th>2023-11-11</th>\n",
       "      <td>-0.973053</td>\n",
       "      <td>0.966412</td>\n",
       "      <td>-1.093260</td>\n",
       "      <td>-0.604974</td>\n",
       "      <td>0.818304</td>\n",
       "    </tr>\n",
       "    <tr>\n",
       "      <th>2023-11-14</th>\n",
       "      <td>0.639446</td>\n",
       "      <td>1.796082</td>\n",
       "      <td>-0.469683</td>\n",
       "      <td>-0.441636</td>\n",
       "      <td>-0.477188</td>\n",
       "    </tr>\n",
       "    <tr>\n",
       "      <th>2023-11-13</th>\n",
       "      <td>-0.610350</td>\n",
       "      <td>2.046488</td>\n",
       "      <td>0.726396</td>\n",
       "      <td>-0.693282</td>\n",
       "      <td>-0.564011</td>\n",
       "    </tr>\n",
       "  </tbody>\n",
       "</table>\n",
       "</div>"
      ],
      "text/plain": [
       "                   A         B         C         D         E\n",
       "2023-11-06  0.588168 -1.270531 -0.601338 -0.075788 -0.941273\n",
       "2023-11-09  0.819597 -0.618865  0.813931  1.099288  0.047488\n",
       "2023-11-12  1.450041 -0.601590  1.015180 -0.083191 -1.818819\n",
       "2023-11-05  0.248480 -0.151079 -0.651606 -0.154898  0.784665\n",
       "2023-11-10  1.046448  0.499436  0.433487  1.111300  0.529981\n",
       "2023-11-08 -0.925156  0.538874 -0.145330 -0.021646 -0.326571\n",
       "2023-11-07 -0.544558  0.878808  0.345066  0.638333  1.902559\n",
       "2023-11-11 -0.973053  0.966412 -1.093260 -0.604974  0.818304\n",
       "2023-11-14  0.639446  1.796082 -0.469683 -0.441636 -0.477188\n",
       "2023-11-13 -0.610350  2.046488  0.726396 -0.693282 -0.564011"
      ]
     },
     "execution_count": 90,
     "metadata": {},
     "output_type": "execute_result"
    }
   ],
   "source": [
    "# df.sort_values()\n",
    "df.sort_values(by=\"B\")"
   ]
  },
  {
   "cell_type": "markdown",
   "metadata": {},
   "source": [
    "# Indexing and selecting data\n",
    "# 3.Selection\n",
    "pandas data access methods, DataFrame.at() , DataFrame.iat() , DataFrame.loc()\n",
    "and DataFrame.iloc()"
   ]
  },
  {
   "cell_type": "code",
   "execution_count": 180,
   "metadata": {},
   "outputs": [
    {
     "data": {
      "text/plain": [
       "2023-11-05    0.573598\n",
       "2023-11-06   -0.342378\n",
       "2023-11-07    1.390539\n",
       "2023-11-08   -1.284669\n",
       "2023-11-09   -0.053459\n",
       "2023-11-10   -0.871171\n",
       "2023-11-11   -0.152268\n",
       "2023-11-12    0.460134\n",
       "2023-11-13   -0.259290\n",
       "2023-11-14    0.053304\n",
       "Freq: D, Name: E, dtype: float64"
      ]
     },
     "execution_count": 180,
     "metadata": {},
     "output_type": "execute_result"
    }
   ],
   "source": [
    "# indexing operators [] and attribute operator .\n",
    "df[\"E\"]"
   ]
  },
  {
   "cell_type": "markdown",
   "metadata": {},
   "source": [
    "# Get-item([])"
   ]
  },
  {
   "cell_type": "code",
   "execution_count": 92,
   "metadata": {},
   "outputs": [],
   "source": [
    "# df[1:1]  # passing a slice : selects matching row,"
   ]
  },
  {
   "cell_type": "code",
   "execution_count": 93,
   "metadata": {},
   "outputs": [
    {
     "data": {
      "text/html": [
       "<div>\n",
       "<style scoped>\n",
       "    .dataframe tbody tr th:only-of-type {\n",
       "        vertical-align: middle;\n",
       "    }\n",
       "\n",
       "    .dataframe tbody tr th {\n",
       "        vertical-align: top;\n",
       "    }\n",
       "\n",
       "    .dataframe thead th {\n",
       "        text-align: right;\n",
       "    }\n",
       "</style>\n",
       "<table border=\"1\" class=\"dataframe\">\n",
       "  <thead>\n",
       "    <tr style=\"text-align: right;\">\n",
       "      <th></th>\n",
       "      <th>A</th>\n",
       "      <th>B</th>\n",
       "      <th>C</th>\n",
       "      <th>D</th>\n",
       "      <th>E</th>\n",
       "    </tr>\n",
       "  </thead>\n",
       "  <tbody>\n",
       "    <tr>\n",
       "      <th>2023-11-05</th>\n",
       "      <td>0.24848</td>\n",
       "      <td>-0.151079</td>\n",
       "      <td>-0.651606</td>\n",
       "      <td>-0.154898</td>\n",
       "      <td>0.784665</td>\n",
       "    </tr>\n",
       "  </tbody>\n",
       "</table>\n",
       "</div>"
      ],
      "text/plain": [
       "                  A         B         C         D         E\n",
       "2023-11-05  0.24848 -0.151079 -0.651606 -0.154898  0.784665"
      ]
     },
     "execution_count": 93,
     "metadata": {},
     "output_type": "execute_result"
    }
   ],
   "source": [
    "df[0:1]"
   ]
  },
  {
   "cell_type": "code",
   "execution_count": 94,
   "metadata": {},
   "outputs": [
    {
     "data": {
      "text/html": [
       "<div>\n",
       "<style scoped>\n",
       "    .dataframe tbody tr th:only-of-type {\n",
       "        vertical-align: middle;\n",
       "    }\n",
       "\n",
       "    .dataframe tbody tr th {\n",
       "        vertical-align: top;\n",
       "    }\n",
       "\n",
       "    .dataframe thead th {\n",
       "        text-align: right;\n",
       "    }\n",
       "</style>\n",
       "<table border=\"1\" class=\"dataframe\">\n",
       "  <thead>\n",
       "    <tr style=\"text-align: right;\">\n",
       "      <th></th>\n",
       "      <th>A</th>\n",
       "      <th>B</th>\n",
       "      <th>C</th>\n",
       "      <th>D</th>\n",
       "      <th>E</th>\n",
       "    </tr>\n",
       "  </thead>\n",
       "  <tbody>\n",
       "    <tr>\n",
       "      <th>2023-11-05</th>\n",
       "      <td>0.248480</td>\n",
       "      <td>-0.151079</td>\n",
       "      <td>-0.651606</td>\n",
       "      <td>-0.154898</td>\n",
       "      <td>0.784665</td>\n",
       "    </tr>\n",
       "    <tr>\n",
       "      <th>2023-11-06</th>\n",
       "      <td>0.588168</td>\n",
       "      <td>-1.270531</td>\n",
       "      <td>-0.601338</td>\n",
       "      <td>-0.075788</td>\n",
       "      <td>-0.941273</td>\n",
       "    </tr>\n",
       "    <tr>\n",
       "      <th>2023-11-07</th>\n",
       "      <td>-0.544558</td>\n",
       "      <td>0.878808</td>\n",
       "      <td>0.345066</td>\n",
       "      <td>0.638333</td>\n",
       "      <td>1.902559</td>\n",
       "    </tr>\n",
       "    <tr>\n",
       "      <th>2023-11-08</th>\n",
       "      <td>-0.925156</td>\n",
       "      <td>0.538874</td>\n",
       "      <td>-0.145330</td>\n",
       "      <td>-0.021646</td>\n",
       "      <td>-0.326571</td>\n",
       "    </tr>\n",
       "    <tr>\n",
       "      <th>2023-11-09</th>\n",
       "      <td>0.819597</td>\n",
       "      <td>-0.618865</td>\n",
       "      <td>0.813931</td>\n",
       "      <td>1.099288</td>\n",
       "      <td>0.047488</td>\n",
       "    </tr>\n",
       "    <tr>\n",
       "      <th>2023-11-10</th>\n",
       "      <td>1.046448</td>\n",
       "      <td>0.499436</td>\n",
       "      <td>0.433487</td>\n",
       "      <td>1.111300</td>\n",
       "      <td>0.529981</td>\n",
       "    </tr>\n",
       "    <tr>\n",
       "      <th>2023-11-11</th>\n",
       "      <td>-0.973053</td>\n",
       "      <td>0.966412</td>\n",
       "      <td>-1.093260</td>\n",
       "      <td>-0.604974</td>\n",
       "      <td>0.818304</td>\n",
       "    </tr>\n",
       "  </tbody>\n",
       "</table>\n",
       "</div>"
      ],
      "text/plain": [
       "                   A         B         C         D         E\n",
       "2023-11-05  0.248480 -0.151079 -0.651606 -0.154898  0.784665\n",
       "2023-11-06  0.588168 -1.270531 -0.601338 -0.075788 -0.941273\n",
       "2023-11-07 -0.544558  0.878808  0.345066  0.638333  1.902559\n",
       "2023-11-08 -0.925156  0.538874 -0.145330 -0.021646 -0.326571\n",
       "2023-11-09  0.819597 -0.618865  0.813931  1.099288  0.047488\n",
       "2023-11-10  1.046448  0.499436  0.433487  1.111300  0.529981\n",
       "2023-11-11 -0.973053  0.966412 -1.093260 -0.604974  0.818304"
      ]
     },
     "execution_count": 94,
     "metadata": {},
     "output_type": "execute_result"
    }
   ],
   "source": [
    "df[\"20231105\": \"20231111\"]"
   ]
  },
  {
   "cell_type": "markdown",
   "metadata": {},
   "source": [
    "# 3.1 Selection by lebel"
   ]
  },
  {
   "cell_type": "code",
   "execution_count": 95,
   "metadata": {},
   "outputs": [
    {
     "data": {
      "text/plain": [
       "(A    0.248480\n",
       " B   -0.151079\n",
       " C   -0.651606\n",
       " D   -0.154898\n",
       " E    0.784665\n",
       " Name: 2023-11-05 00:00:00, dtype: float64,\n",
       " A   -0.925156\n",
       " B    0.538874\n",
       " C   -0.145330\n",
       " D   -0.021646\n",
       " E   -0.326571\n",
       " Name: 2023-11-08 00:00:00, dtype: float64)"
      ]
     },
     "execution_count": 95,
     "metadata": {},
     "output_type": "execute_result"
    }
   ],
   "source": [
    "df.loc[dates[0]], df.loc[dates[3]], #getting a cross section using a lebel "
   ]
  },
  {
   "cell_type": "code",
   "execution_count": 96,
   "metadata": {},
   "outputs": [
    {
     "data": {
      "text/plain": [
       "(                   A         B         C         D         E\n",
       " 2023-11-05  0.248480 -0.151079 -0.651606 -0.154898  0.784665\n",
       " 2023-11-06  0.588168 -1.270531 -0.601338 -0.075788 -0.941273\n",
       " 2023-11-07 -0.544558  0.878808  0.345066  0.638333  1.902559\n",
       " 2023-11-08 -0.925156  0.538874 -0.145330 -0.021646 -0.326571\n",
       " 2023-11-09  0.819597 -0.618865  0.813931  1.099288  0.047488\n",
       " 2023-11-10  1.046448  0.499436  0.433487  1.111300  0.529981\n",
       " 2023-11-11 -0.973053  0.966412 -1.093260 -0.604974  0.818304\n",
       " 2023-11-12  1.450041 -0.601590  1.015180 -0.083191 -1.818819\n",
       " 2023-11-13 -0.610350  2.046488  0.726396 -0.693282 -0.564011\n",
       " 2023-11-14  0.639446  1.796082 -0.469683 -0.441636 -0.477188,\n",
       "                    A         B\n",
       " 2023-11-05  0.248480 -0.151079\n",
       " 2023-11-06  0.588168 -1.270531\n",
       " 2023-11-07 -0.544558  0.878808\n",
       " 2023-11-08 -0.925156  0.538874\n",
       " 2023-11-09  0.819597 -0.618865\n",
       " 2023-11-10  1.046448  0.499436\n",
       " 2023-11-11 -0.973053  0.966412\n",
       " 2023-11-12  1.450041 -0.601590\n",
       " 2023-11-13 -0.610350  2.046488\n",
       " 2023-11-14  0.639446  1.796082)"
      ]
     },
     "execution_count": 96,
     "metadata": {},
     "output_type": "execute_result"
    }
   ],
   "source": [
    "#multiple axis lebel\n",
    "df.loc[:], df.loc[:, [\"A\", \"B\"]]"
   ]
  },
  {
   "cell_type": "code",
   "execution_count": 97,
   "metadata": {},
   "outputs": [
    {
     "data": {
      "text/plain": [
       "(                   A         B         C         D         E\n",
       " 2023-11-06  0.588168 -1.270531 -0.601338 -0.075788 -0.941273\n",
       " 2023-11-07 -0.544558  0.878808  0.345066  0.638333  1.902559\n",
       " 2023-11-08 -0.925156  0.538874 -0.145330 -0.021646 -0.326571\n",
       " 2023-11-09  0.819597 -0.618865  0.813931  1.099288  0.047488,\n",
       " A    0.588168\n",
       " B   -1.270531\n",
       " Name: 2023-11-06 00:00:00, dtype: float64)"
      ]
     },
     "execution_count": 97,
     "metadata": {},
     "output_type": "execute_result"
    }
   ],
   "source": [
    "df.loc[\"20231106\": \"20231109\"], df.loc[\"20231106\", [\"A\", \"B\"]] #lebel slicing ,both endpoint are included"
   ]
  },
  {
   "cell_type": "code",
   "execution_count": 98,
   "metadata": {},
   "outputs": [
    {
     "data": {
      "text/plain": [
       "A    0.588168\n",
       "B   -1.270531\n",
       "C   -0.601338\n",
       "Name: 2023-11-06 00:00:00, dtype: float64"
      ]
     },
     "execution_count": 98,
     "metadata": {},
     "output_type": "execute_result"
    }
   ],
   "source": [
    "df.loc[\"20231106\", [\"A\", \"B\", \"C\"]]  #dimensions reduction"
   ]
  },
  {
   "cell_type": "code",
   "execution_count": null,
   "metadata": {},
   "outputs": [],
   "source": []
  },
  {
   "cell_type": "code",
   "execution_count": null,
   "metadata": {},
   "outputs": [],
   "source": []
  },
  {
   "cell_type": "code",
   "execution_count": null,
   "metadata": {},
   "outputs": [],
   "source": []
  },
  {
   "cell_type": "code",
   "execution_count": null,
   "metadata": {},
   "outputs": [],
   "source": []
  }
 ],
 "metadata": {
  "kernelspec": {
   "display_name": "Python 3",
   "language": "python",
   "name": "python3"
  },
  "language_info": {
   "codemirror_mode": {
    "name": "ipython",
    "version": 3
   },
   "file_extension": ".py",
   "mimetype": "text/x-python",
   "name": "python",
   "nbconvert_exporter": "python",
   "pygments_lexer": "ipython3",
   "version": "3.8.5"
  }
 },
 "nbformat": 4,
 "nbformat_minor": 4
}
