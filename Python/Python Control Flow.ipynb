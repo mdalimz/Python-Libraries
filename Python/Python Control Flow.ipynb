{
 "cells": [
  {
   "cell_type": "code",
   "execution_count": 1,
   "id": "732c7f93",
   "metadata": {},
   "outputs": [
    {
     "data": {
      "text/plain": [
       "(True, True, True)"
      ]
     },
     "execution_count": 1,
     "metadata": {},
     "output_type": "execute_result"
    }
   ],
   "source": [
    "\"matt\"!='Fred', 'matt'!='fred', \"matt\"!='fred'   #str lit conditionals"
   ]
  },
  {
   "cell_type": "code",
   "execution_count": 22,
   "id": "83ce8663",
   "metadata": {},
   "outputs": [
    {
     "data": {
      "text/plain": [
       "False"
      ]
     },
     "execution_count": 22,
     "metadata": {},
     "output_type": "execute_result"
    }
   ],
   "source": [
    "isinstance(\"matt\", float)"
   ]
  },
  {
   "cell_type": "markdown",
   "id": "aa13025c",
   "metadata": {},
   "source": [
    "# Iteration\n",
    "Repetitive execution of the same block of code over and over is referred to as iteration. There are two types of iteration: Definite iteration, in which the number of repetitions is specified explicitly in advance. Indefinite iteration, in which the code block executes until some condition is met."
   ]
  },
  {
   "cell_type": "code",
   "execution_count": 10,
   "id": "26ba747f",
   "metadata": {},
   "outputs": [
    {
     "name": "stdout",
     "output_type": "stream",
     "text": [
      "1\n",
      "2\n",
      "3\n"
     ]
    }
   ],
   "source": [
    "for number in range(1,4):   #for\n",
    "    print(number)"
   ]
  },
  {
   "cell_type": "code",
   "execution_count": 11,
   "id": "fc8890dc",
   "metadata": {},
   "outputs": [
    {
     "data": {
      "text/plain": [
       "range(1, 8)"
      ]
     },
     "execution_count": 11,
     "metadata": {},
     "output_type": "execute_result"
    }
   ],
   "source": [
    "range(1,8)"
   ]
  },
  {
   "cell_type": "code",
   "execution_count": 23,
   "id": "7a1b3cfd",
   "metadata": {},
   "outputs": [
    {
     "data": {
      "text/plain": [
       "([1, 2, 3, 4, 5, 6, 7], [0, 1, 2, 3, 4, 5, 6, 7], {0, 1, 2, 3, 4, 5, 6, 7, 8})"
      ]
     },
     "execution_count": 23,
     "metadata": {},
     "output_type": "execute_result"
    }
   ],
   "source": [
    "list(range(1,8)), list(range(8)), set(range(9))"
   ]
  },
  {
   "cell_type": "code",
   "execution_count": 52,
   "id": "664c2956",
   "metadata": {},
   "outputs": [
    {
     "data": {
      "text/plain": [
       "[1, 2, 3, 4, 5, 6, 7, 1, 2]"
      ]
     },
     "execution_count": 52,
     "metadata": {},
     "output_type": "execute_result"
    }
   ],
   "source": [
    "(list(range(1,8)) + list(range(1,3)))"
   ]
  },
  {
   "cell_type": "code",
   "execution_count": 53,
   "id": "4b41ed74",
   "metadata": {},
   "outputs": [
    {
     "name": "stdout",
     "output_type": "stream",
     "text": [
      "{11, 12, 13, 14, 15, 16, 17, 18, 19, 20}\n"
     ]
    }
   ],
   "source": [
    "# Creating a dictionary where keys are numbers in a range and values are keys + 10\n",
    "range_dict = {i+10 for i in range(1, 11)}     # i+,-,/,**-----------------\n",
    "print(range_dict)\n",
    "\n"
   ]
  },
  {
   "cell_type": "code",
   "execution_count": 38,
   "id": "4592d127",
   "metadata": {},
   "outputs": [
    {
     "name": "stdout",
     "output_type": "stream",
     "text": [
      "{1: 11, 2: 12, 3: 13, 4: 14, 5: 15, 6: 16, 7: 17, 8: 18, 9: 19, 10: 20}\n"
     ]
    }
   ],
   "source": [
    "range_dict = {i: i+10 for i in range(1, 11)}     # i+,-,/,**-----------------\n",
    "print(range_dict)"
   ]
  },
  {
   "cell_type": "code",
   "execution_count": 31,
   "id": "bc5196dd",
   "metadata": {},
   "outputs": [
    {
     "name": "stdout",
     "output_type": "stream",
     "text": [
      "{1: 1, 2: 4, 3: 9, 4: 16, 5: 25, 6: 36, 7: 49, 8: 64, 9: 81, 10: 100}\n"
     ]
    }
   ],
   "source": [
    "# Creating a dictionary where keys are numbers in a range and values are their squares\n",
    "range_dict = {i: i**2 for i in range(1, 11)}\n",
    "print(range_dict)\n"
   ]
  },
  {
   "cell_type": "code",
   "execution_count": 34,
   "id": "9deebd6b",
   "metadata": {},
   "outputs": [
    {
     "name": "stdout",
     "output_type": "stream",
     "text": [
      "{1: 10, 2: 9, 3: 8, 4: 7, 5: 6, 6: 5, 7: 4, 8: 3, 9: 2, 10: 1}\n"
     ]
    }
   ],
   "source": [
    "# Creating a dictionary where keys are from one range and values are from another range\n",
    "keys_range = range(1, 11)\n",
    "values_range = range(10,0, -1)  # Reverse order\n",
    "range_dict = {k: v for k, v in zip(keys_range, values_range)}\n",
    "print(range_dict)\n"
   ]
  },
  {
   "cell_type": "code",
   "execution_count": null,
   "id": "31d9b4a6",
   "metadata": {},
   "outputs": [],
   "source": []
  },
  {
   "cell_type": "markdown",
   "id": "d77accfa",
   "metadata": {},
   "source": [
    "# Control Structures in Python/Kdnugget\n",
    "When you run a Python script, the code execution occurs—sequentially—in the same order in which they occur in the script.\n",
    "\n",
    "Sometimes, you’d need to implement logic to control the flow of execution based on certain conditions or loop through an iterable to process the items in it. "
   ]
  },
  {
   "cell_type": "markdown",
   "id": "453eaecc",
   "metadata": {},
   "source": [
    "# a. If Statement\n",
    "When you need to execute a block of code only if a particular condition is true, you can use the `if` statement. If the condition evaluates to false, the block of code is not executed"
   ]
  },
  {
   "cell_type": "code",
   "execution_count": 2,
   "id": "9790fb2c",
   "metadata": {},
   "outputs": [
    {
     "name": "stdout",
     "output_type": "stream",
     "text": [
      "you are older\n"
     ]
    }
   ],
   "source": [
    "age = 60\n",
    "if age !=70:  #not equal to'\n",
    " print(\"you are older\")         # >,<, >=, <=, ==, !="
   ]
  },
  {
   "cell_type": "markdown",
   "id": "03ea5b3d",
   "metadata": {},
   "source": [
    "# b. If-else Conditional Statements\n",
    "The `if-else` statement allows you to execute one block of code if the condition is true, and a different block if the condition is false."
   ]
  },
  {
   "cell_type": "code",
   "execution_count": 23,
   "id": "78da45bd",
   "metadata": {},
   "outputs": [
    {
     "name": "stdout",
     "output_type": "stream",
     "text": [
      "you are younger\n"
     ]
    }
   ],
   "source": [
    "age = 60\n",
    "if age >=70:      #after colon, must neeed ident block\n",
    " print(\"you are older\")\n",
    "else:\n",
    " print(\"you are younger\")"
   ]
  },
  {
   "cell_type": "markdown",
   "id": "904695b7",
   "metadata": {},
   "source": [
    "# c. If-elif-else\n",
    "The `if-elif-else` statement is used when you have multiple conditions to check. It allows you to test multiple conditions and execute the corresponding block of code for the first true condition encountered. \n",
    "\n",
    "If the conditions in the `if` and all `elif` statements evaluate to false, the `else` block is executed.\n"
   ]
  },
  {
   "cell_type": "code",
   "execution_count": 19,
   "id": "dc6d90c0",
   "metadata": {},
   "outputs": [
    {
     "name": "stdout",
     "output_type": "stream",
     "text": [
      "you are aged\n"
     ]
    }
   ],
   "source": [
    "age = 50\n",
    "if age >= 70:\n",
    " print(\"you are older\")\n",
    "elif age == 40:\n",
    " print(\"you are mid aged\")  # as much as you want\n",
    "elif age <= 35:\n",
    " print(\"you are young\")\n",
    "else:\n",
    " print(\"you are aged\")"
   ]
  },
  {
   "cell_type": "markdown",
   "id": "de6c766d",
   "metadata": {},
   "source": [
    "# d. Nested If Statements\n",
    "Nested `if` statements are used when you need to check multiple conditions within another condition."
   ]
  },
  {
   "cell_type": "code",
   "execution_count": 5,
   "id": "fd2d3769",
   "metadata": {},
   "outputs": [
    {
     "name": "stdout",
     "output_type": "stream",
     "text": [
      "you are older Rakib\n"
     ]
    }
   ],
   "source": [
    "name = \"Rakib\"\n",
    "age = 10\n",
    "if name == \"Rakib\":\n",
    "    if age <= 10:\n",
    "        print(\"you are older Rakib\")\n",
    "    else:\n",
    "        print(\"you are mid aged\")\n",
    "else:\n",
    "    print(\"you are young\") #if no condition is met then last operation"
   ]
  },
  {
   "cell_type": "markdown",
   "id": "06851292",
   "metadata": {},
   "source": [
    "# Decision Making"
   ]
  },
  {
   "cell_type": "code",
   "execution_count": 6,
   "id": "b0a5d07a",
   "metadata": {},
   "outputs": [
    {
     "name": "stdout",
     "output_type": "stream",
     "text": [
      "Good bye!\n"
     ]
    }
   ],
   "source": [
    "var = 10\n",
    "if ( var == 100 ) : print (\"Value of expression is 100\")\n",
    "print (\"Good bye!\")"
   ]
  },
  {
   "cell_type": "code",
   "execution_count": 7,
   "id": "e13b7ff6",
   "metadata": {},
   "outputs": [
    {
     "name": "stdout",
     "output_type": "stream",
     "text": [
      "gggggg\n"
     ]
    }
   ],
   "source": [
    "var =101\n",
    "if var == 10:\n",
    "    print(\"sssssssssss\")\n",
    "else:\n",
    "    print(\"gggggg\")"
   ]
  },
  {
   "cell_type": "markdown",
   "id": "0f769c55",
   "metadata": {},
   "source": [
    "# Python break statement\n",
    "geek"
   ]
  },
  {
   "cell_type": "code",
   "execution_count": 8,
   "id": "b26d7569",
   "metadata": {},
   "outputs": [
    {
     "name": "stdout",
     "output_type": "stream",
     "text": [
      "The num has value: 1\n",
      "The num has value: 2\n",
      "The num has value: 3\n",
      "The num has value: 4\n",
      "The num has value: 5\n",
      "The num has value: 6\n",
      "Out of loop\n"
     ]
    }
   ],
   "source": [
    "num = 0\n",
    "for i in range(10): #?\n",
    "    num += 1\n",
    "    if num == 7: \n",
    "     break\n",
    "    print(\"The num has value:\", num) \n",
    "print(\"Out of loop\") \n"
   ]
  },
  {
   "cell_type": "code",
   "execution_count": 9,
   "id": "b4b47925",
   "metadata": {},
   "outputs": [
    {
     "name": "stdout",
     "output_type": "stream",
     "text": [
      "The num has value: 3\n",
      "The num has value: 4\n",
      "The num has value: 5\n",
      "The num has value: 6\n",
      "The num has value: 7\n",
      "The num has value: 8\n",
      "The num has value: 9\n",
      "The num has value: 10\n",
      "The num has value: 11\n",
      "The num has value: 12\n",
      "Out of loop\n"
     ]
    }
   ],
   "source": [
    "num = 2\n",
    "for i in range(10): #?\n",
    "    num += 1\n",
    "    if num == 88: \n",
    "     break\n",
    "    print(\"The num has value:\", num) \n",
    "print(\"Out of loop\") "
   ]
  },
  {
   "cell_type": "code",
   "execution_count": 10,
   "id": "14eb17b7",
   "metadata": {},
   "outputs": [
    {
     "name": "stdout",
     "output_type": "stream",
     "text": [
      "Yes\n",
      "Yes\n",
      "Yes\n",
      "Yes\n",
      "Yes\n",
      "Yes\n",
      "Yes\n"
     ]
    }
   ],
   "source": [
    "d='student'\n",
    "for f in d:\n",
    "    print(\"Yes\")"
   ]
  },
  {
   "cell_type": "markdown",
   "id": "aea60ca7",
   "metadata": {},
   "source": [
    "1. Write a Python program to find those numbers which are divisible by 5 and multiples of 7, between 1100 and 1700 (both included)."
   ]
  },
  {
   "cell_type": "code",
   "execution_count": 11,
   "id": "c08357f8",
   "metadata": {},
   "outputs": [
    {
     "name": "stdout",
     "output_type": "stream",
     "text": [
      "1505,1512,1519,1526,1533,1540,1547,1554,1561,1568,1575,1582,1589,1596,1603,1610,1617,1624,1631,1638,1645,1652,1659,1666,1673,1680,1687,1694,1701,1708,1715,1722,1729,1736,1743,1750,1757,1764,1771,1778,1785,1792,1799,1806,1813,1820,1827,1834,1841,1848,1855,1862,1869,1876,1883,1890,1897,1904,1911,1918,1925,1932,1939,1946,1953,1960,1967,1974,1981,1988,1995,2002,2009,2016,2023,2030,2037,2044,2051,2058,2065,2072,2079,2086,2093,2100,2107,2114,2121,2128,2135,2142,2149,2156,2163,2170,2177,2184,2191,2198,2205,2212,2219,2226,2233,2240,2247,2254,2261,2268,2275,2282,2289,2296,2303,2310,2317,2324,2331,2338,2345,2352,2359,2366,2373,2380,2387,2394,2401,2408,2415,2422,2429,2436,2443,2450,2457,2464,2471,2478,2485,2492,2499,2506,2513,2520,2527,2534,2541,2548,2555,2562,2569,2576,2583,2590,2597,2604,2611,2618,2625,2632,2639,2646,2653,2660,2667,2674,2681,2688,2695\n"
     ]
    }
   ],
   "source": [
    "n1=[]\n",
    "for x in range(1500, 2701):\n",
    "    if (x%7==0):\n",
    "        n1.append(str(x))\n",
    "print(','.join(n1))"
   ]
  },
  {
   "cell_type": "code",
   "execution_count": 12,
   "id": "d5538ff4",
   "metadata": {},
   "outputs": [
    {
     "name": "stdout",
     "output_type": "stream",
     "text": [
      "1505,1540,1575,1610,1645,1680,1715,1750,1785,1820,1855,1890,1925,1960,1995,2030,2065,2100,2135,2170,2205,2240,2275,2310,2345,2380,2415,2450,2485,2520,2555,2590,2625,2660,2695\n"
     ]
    }
   ],
   "source": [
    "nl=[]\n",
    "for x in range(1500, 2701):\n",
    "    if (x%7==0) and (x%5==0):\n",
    "        nl.append(str(x))\n",
    "print (','.join(nl))\n"
   ]
  },
  {
   "cell_type": "markdown",
   "id": "85e4ccbb",
   "metadata": {},
   "source": [
    "3. Write a Python program to guess a number between 1 and 9."
   ]
  },
  {
   "cell_type": "code",
   "execution_count": 14,
   "id": "ef92f943",
   "metadata": {},
   "outputs": [
    {
     "name": "stdout",
     "output_type": "stream",
     "text": [
      "Guess a number between 1 and 10 until you get it right : 2\n",
      "Guess a number between 1 and 10 until you get it right : 99\n",
      "Guess a number between 1 and 10 until you get it right : 1\n",
      "Well guessed!\n"
     ]
    }
   ],
   "source": [
    "import random\n",
    "target_num, guess_num = random.randint(1, 10), 0\n",
    "while target_num != guess_num:\n",
    "    guess_num = int(input('Guess a number between 1 and 10 until you get it right : '))\n",
    "print('Well guessed!')\n"
   ]
  },
  {
   "cell_type": "code",
   "execution_count": null,
   "id": "d6f11500",
   "metadata": {},
   "outputs": [],
   "source": []
  },
  {
   "cell_type": "markdown",
   "id": "56ea0909",
   "metadata": {},
   "source": [
    "# Excercise"
   ]
  },
  {
   "cell_type": "code",
   "execution_count": null,
   "id": "234c1778",
   "metadata": {},
   "outputs": [],
   "source": []
  }
 ],
 "metadata": {
  "kernelspec": {
   "display_name": "Python 3 (ipykernel)",
   "language": "python",
   "name": "python3"
  },
  "language_info": {
   "codemirror_mode": {
    "name": "ipython",
    "version": 3
   },
   "file_extension": ".py",
   "mimetype": "text/x-python",
   "name": "python",
   "nbconvert_exporter": "python",
   "pygments_lexer": "ipython3",
   "version": "3.9.13"
  }
 },
 "nbformat": 4,
 "nbformat_minor": 5
}
