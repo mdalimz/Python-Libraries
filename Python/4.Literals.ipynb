{
 "cells": [
  {
   "cell_type": "raw",
   "id": "a3d08295",
   "metadata": {},
   "source": [
    "Literals are representations of fixed values in a program.\n",
    "----------------------------------------\n",
    "Python literals are a data type and can hold any value type, such as strings, numbers, and more. Because Python literals are used to store base data for the source code of your software, they need to be robust enough to work with any data. Python literals can hold any data you need; let's look at some examples next"
   ]
  },
  {
   "cell_type": "markdown",
   "id": "851aa685",
   "metadata": {},
   "source": [
    "# - string liter...."
   ]
  },
  {
   "cell_type": "code",
   "execution_count": 15,
   "id": "219bcb50",
   "metadata": {},
   "outputs": [
    {
     "data": {
      "text/plain": [
       "('matt 😀', '40')"
      ]
     },
     "execution_count": 15,
     "metadata": {},
     "output_type": "execute_result"
    }
   ],
   "source": [
    "name ='matt \\N{GRINNING FACE}' #Literals('', \"\")\n",
    "age_str= '40' #str constructor\n",
    "name, age_str"
   ]
  },
  {
   "cell_type": "code",
   "execution_count": 10,
   "id": "bee57826",
   "metadata": {},
   "outputs": [],
   "source": [
    "#Constructors are generally used for instantiating an object."
   ]
  },
  {
   "cell_type": "code",
   "execution_count": 5,
   "id": "35bc7e10",
   "metadata": {},
   "outputs": [
    {
     "data": {
      "text/plain": [
       "(40, 5.5, (1+2j))"
      ]
     },
     "execution_count": 5,
     "metadata": {},
     "output_type": "execute_result"
    }
   ],
   "source": [
    "age = 40 # int liter...\n",
    "price = 5.5 # float lit\n",
    "number = 1+2j  # complex lit\n",
    "age, price, number"
   ]
  },
  {
   "cell_type": "code",
   "execution_count": 9,
   "id": "76f1f766",
   "metadata": {},
   "outputs": [
    {
     "data": {
      "text/plain": [
       "['a', 'e', 'i', 'o', 'u']"
      ]
     },
     "execution_count": 9,
     "metadata": {},
     "output_type": "execute_result"
    }
   ],
   "source": [
    "Characters = list('aeiou')  #Constructor is different than liter..\n",
    "Characters"
   ]
  },
  {
   "cell_type": "markdown",
   "id": "5dc069b6",
   "metadata": {},
   "source": [
    "# - List literals"
   ]
  },
  {
   "cell_type": "code",
   "execution_count": 10,
   "id": "6a99e82e",
   "metadata": {},
   "outputs": [
    {
     "data": {
      "text/plain": [
       "['matt 😀', 'huzy', 'fuzy']"
      ]
     },
     "execution_count": 10,
     "metadata": {},
     "output_type": "execute_result"
    }
   ],
   "source": [
    "#List literals\n",
    "names=[name, 'huzy', 'fuzy']\n",
    "names"
   ]
  },
  {
   "cell_type": "code",
   "execution_count": 7,
   "id": "9879788a",
   "metadata": {},
   "outputs": [
    {
     "data": {
      "text/plain": [
       "['aeiou']"
      ]
     },
     "execution_count": 7,
     "metadata": {},
     "output_type": "execute_result"
    }
   ],
   "source": [
    "[\"aeiou\"]"
   ]
  },
  {
   "cell_type": "code",
   "execution_count": 8,
   "id": "61ffcb22",
   "metadata": {},
   "outputs": [
    {
     "data": {
      "text/plain": [
       "((), {}, [])"
      ]
     },
     "execution_count": 8,
     "metadata": {},
     "output_type": "execute_result"
    }
   ],
   "source": [
    "(),{},[]"
   ]
  },
  {
   "cell_type": "markdown",
   "id": "1caf3cf8",
   "metadata": {},
   "source": [
    "# - Tuple literals"
   ]
  },
  {
   "cell_type": "code",
   "execution_count": 13,
   "id": "3123f973",
   "metadata": {},
   "outputs": [
    {
     "data": {
      "text/plain": [
       "(('suji', 40, '20.09.30', 'Fmp 2'),\n",
       " ('kaji', 60, '20-78-30-23', 'alexander str 2'))"
      ]
     },
     "execution_count": 13,
     "metadata": {},
     "output_type": "execute_result"
    }
   ],
   "source": [
    "person=('suji', 40, '20.09.30', 'Fmp 2')\n",
    "person\n",
    "person1=tuple(['kaji', 60, '20-78-30-23', 'alexander str 2'])\n",
    "person,person1"
   ]
  },
  {
   "cell_type": "markdown",
   "id": "4a62fc2c",
   "metadata": {},
   "source": [
    "# - dictionary"
   ]
  },
  {
   "cell_type": "code",
   "execution_count": 36,
   "id": "74d8364e",
   "metadata": {},
   "outputs": [],
   "source": [
    "types={'name': 'string', 'age': 'int'}\n",
    "ages=dict(zip(['luxy', 'zed'], [20, 30]))\n",
    "d=dict(name='string', age='int')"
   ]
  },
  {
   "cell_type": "code",
   "execution_count": 37,
   "id": "153cf9b6",
   "metadata": {},
   "outputs": [
    {
     "data": {
      "text/plain": [
       "{'name': 'string', 'age': 'int'}"
      ]
     },
     "execution_count": 37,
     "metadata": {},
     "output_type": "execute_result"
    }
   ],
   "source": [
    "types"
   ]
  },
  {
   "cell_type": "code",
   "execution_count": 40,
   "id": "98c3416a",
   "metadata": {},
   "outputs": [
    {
     "data": {
      "text/plain": [
       "{'luxy': 20, 'zed': 30}"
      ]
     },
     "execution_count": 40,
     "metadata": {},
     "output_type": "execute_result"
    }
   ],
   "source": [
    "ages"
   ]
  },
  {
   "cell_type": "code",
   "execution_count": 41,
   "id": "137c1dd5",
   "metadata": {},
   "outputs": [
    {
     "data": {
      "text/plain": [
       "{'name': 'string', 'age': 'int'}"
      ]
     },
     "execution_count": 41,
     "metadata": {},
     "output_type": "execute_result"
    }
   ],
   "source": [
    "d"
   ]
  },
  {
   "cell_type": "markdown",
   "id": "5ff8d7f7",
   "metadata": {},
   "source": [
    "# - set"
   ]
  },
  {
   "cell_type": "code",
   "execution_count": 46,
   "id": "a67562be",
   "metadata": {},
   "outputs": [
    {
     "data": {
      "text/plain": [
       "{1, 2, 3, 4, 5, 6}"
      ]
     },
     "execution_count": 46,
     "metadata": {},
     "output_type": "execute_result"
    }
   ],
   "source": [
    "digits= {1, 2, 3, 4, 5,6}\n",
    "digit"
   ]
  },
  {
   "cell_type": "code",
   "execution_count": 2,
   "id": "670bdfa1",
   "metadata": {},
   "outputs": [
    {
     "name": "stdout",
     "output_type": "stream",
     "text": [
      "['ArithmeticError', 'AssertionError', 'AttributeError', 'BaseException', 'BlockingIOError', 'BrokenPipeError', 'BufferError', 'BytesWarning', 'ChildProcessError', 'ConnectionAbortedError', 'ConnectionError', 'ConnectionRefusedError', 'ConnectionResetError', 'DeprecationWarning', 'EOFError', 'Ellipsis', 'EnvironmentError', 'Exception', 'False', 'FileExistsError', 'FileNotFoundError', 'FloatingPointError', 'FutureWarning', 'GeneratorExit', 'IOError', 'ImportError', 'ImportWarning', 'IndentationError', 'IndexError', 'InterruptedError', 'IsADirectoryError', 'KeyError', 'KeyboardInterrupt', 'LookupError', 'MemoryError', 'ModuleNotFoundError', 'NameError', 'None', 'NotADirectoryError', 'NotImplemented', 'NotImplementedError', 'OSError', 'OverflowError', 'PendingDeprecationWarning', 'PermissionError', 'ProcessLookupError', 'RecursionError', 'ReferenceError', 'ResourceWarning', 'RuntimeError', 'RuntimeWarning', 'StopAsyncIteration', 'StopIteration', 'SyntaxError', 'SyntaxWarning', 'SystemError', 'SystemExit', 'TabError', 'TimeoutError', 'True', 'TypeError', 'UnboundLocalError', 'UnicodeDecodeError', 'UnicodeEncodeError', 'UnicodeError', 'UnicodeTranslateError', 'UnicodeWarning', 'UserWarning', 'ValueError', 'Warning', 'WindowsError', 'ZeroDivisionError', '__IPYTHON__', '__build_class__', '__debug__', '__doc__', '__import__', '__loader__', '__name__', '__package__', '__spec__', 'abs', 'all', 'any', 'ascii', 'bin', 'bool', 'breakpoint', 'bytearray', 'bytes', 'callable', 'chr', 'classmethod', 'compile', 'complex', 'copyright', 'credits', 'delattr', 'dict', 'dir', 'display', 'divmod', 'enumerate', 'eval', 'exec', 'execfile', 'filter', 'float', 'format', 'frozenset', 'get_ipython', 'getattr', 'globals', 'hasattr', 'hash', 'help', 'hex', 'id', 'input', 'int', 'isinstance', 'issubclass', 'iter', 'len', 'license', 'list', 'locals', 'map', 'max', 'memoryview', 'min', 'next', 'object', 'oct', 'open', 'ord', 'pow', 'print', 'property', 'range', 'repr', 'reversed', 'round', 'runfile', 'set', 'setattr', 'slice', 'sorted', 'staticmethod', 'str', 'sum', 'super', 'tuple', 'type', 'vars', 'zip']\n"
     ]
    }
   ],
   "source": [
    "#biult in constructor\n",
    "print(dir(__builtins__))  #exceptions ,class,functions,keyword"
   ]
  },
  {
   "cell_type": "markdown",
   "id": "17bdfb89",
   "metadata": {},
   "source": [
    "- Namespace tracking way----first local>enclosing(if nested)>Global>builtin"
   ]
  },
  {
   "cell_type": "code",
   "execution_count": null,
   "id": "38d5df0b",
   "metadata": {},
   "outputs": [],
   "source": []
  },
  {
   "cell_type": "code",
   "execution_count": null,
   "id": "c902fd08",
   "metadata": {},
   "outputs": [],
   "source": []
  },
  {
   "cell_type": "code",
   "execution_count": null,
   "id": "d29f6eca",
   "metadata": {},
   "outputs": [],
   "source": []
  },
  {
   "cell_type": "code",
   "execution_count": 47,
   "id": "937c57cb",
   "metadata": {},
   "outputs": [
    {
     "data": {
      "text/plain": [
       "{' ', 'a', 'e', 'g', 'h', 'j', 'm', 'n', 'o', 's', 't'}"
      ]
     },
     "execution_count": 47,
     "metadata": {},
     "output_type": "execute_result"
    }
   ],
   "source": [
    "uni_char= set(\"josh the ganme\")\n",
    "uni_char"
   ]
  },
  {
   "cell_type": "code",
   "execution_count": 50,
   "id": "fbd054cf",
   "metadata": {},
   "outputs": [
    {
     "name": "stdout",
     "output_type": "stream",
     "text": [
      "['apple', 'banana', 'cherry']\n",
      "0.0005386000002545188\n"
     ]
    }
   ],
   "source": [
    "from timeit import default_timer as timer\n",
    "start = timer()\n",
    "list1 = [\"apple\", \"banana\", \"cherry\"]\n",
    "print(list1)\n",
    "stop =timer()\n",
    "print(stop-start)"
   ]
  },
  {
   "cell_type": "code",
   "execution_count": null,
   "id": "1528065e",
   "metadata": {},
   "outputs": [],
   "source": []
  }
 ],
 "metadata": {
  "kernelspec": {
   "display_name": "Python 3 (ipykernel)",
   "language": "python",
   "name": "python3"
  },
  "language_info": {
   "codemirror_mode": {
    "name": "ipython",
    "version": 3
   },
   "file_extension": ".py",
   "mimetype": "text/x-python",
   "name": "python",
   "nbconvert_exporter": "python",
   "pygments_lexer": "ipython3",
   "version": "3.9.13"
  }
 },
 "nbformat": 4,
 "nbformat_minor": 5
}
