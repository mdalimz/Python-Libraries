{
 "cells": [
  {
   "cell_type": "markdown",
   "id": "0cc9b31f",
   "metadata": {},
   "source": [
    "# Python Built in Functions"
   ]
  },
  {
   "cell_type": "raw",
   "id": "30036ad3",
   "metadata": {},
   "source": [
    "\n",
    "abs()\tReturns the absolute value of a number\n",
    "all()\tReturns True if all items in an iterable object are true\n",
    "any()\tReturns True if any item in an iterable object is true\n",
    "ascii()\tReturns a readable version of an object. Replaces none-ascii characters with escape character\n",
    "bin()\tReturns the binary version of a number\n",
    "bool()\tReturns the boolean value of the specified object\n",
    "bytearray()\tReturns an array of bytes\n",
    "bytes()\tReturns a bytes object\n",
    "callable()\tReturns True if the specified object is callable, otherwise False\n",
    "chr()\tReturns a character from the specified Unicode code.\n",
    "classmethod()\tConverts a method into a class method\n",
    "compile()\tReturns the specified source as an object, ready to be executed\n",
    "complex()\tReturns a complex number\n",
    "delattr()\tDeletes the specified attribute (property or method) from the specified object\n",
    "dict()\tReturns a dictionary (Array)\n",
    "dir()\tReturns a list of the specified object's properties and methods\n",
    "divmod()\tReturns the quotient and the remainder when argument1 is divided by argument2\n",
    "enumerate()\tTakes a collection (e.g. a tuple) and returns it as an enumerate object\n",
    "eval()\tEvaluates and executes an expression\n",
    "exec()\tExecutes the specified code (or object)\n",
    "filter()\tUse a filter function to exclude items in an iterable object\n",
    "float()\tReturns a floating point number\n",
    "format()\tFormats a specified value\n",
    "frozenset()\tReturns a frozenset object\n",
    "getattr()\tReturns the value of the specified attribute (property or method)\n",
    "globals()\tReturns the current global symbol table as a dictionary\n",
    "hasattr()\tReturns True if the specified object has the specified attribute (property/method)\n",
    "hash()\tReturns the hash value of a specified object\n",
    "help()\tExecutes the built-in help system\n",
    "hex()\tConverts a number into a hexadecimal value\n",
    "id()\tReturns the id of an object\n",
    "input()\tAllowing user input\n",
    "int()\tReturns an integer number\n",
    "isinstance()\tReturns True if a specified object is an instance of a specified object\n",
    "issubclass()\tReturns True if a specified class is a subclass of a specified object\n",
    "iter()\tReturns an iterator object\n",
    "len()\tReturns the length of an object\n",
    "list()\tReturns a list\n",
    "locals()\tReturns an updated dictionary of the current local symbol table\n",
    "map()\tReturns the specified iterator with the specified function applied to each item\n",
    "max()\tReturns the largest item in an iterable\n",
    "memoryview()\tReturns a memory view object\n",
    "min()\tReturns the smallest item in an iterable\n",
    "next()\tReturns the next item in an iterable\n",
    "object()\tReturns a new object\n",
    "oct()\tConverts a number into an octal\n",
    "open()\tOpens a file and returns a file object\n",
    "ord()\tConvert an integer representing the Unicode of the specified character\n",
    "pow()\tReturns the value of x to the power of y\n",
    "print()\tPrints to the standard output device\n",
    "property()\tGets, sets, deletes a property\n",
    "range()\tReturns a sequence of numbers, starting from 0 and increments by 1 (by default)\n",
    "repr()\tReturns a readable version of an object\n",
    "reversed()\tReturns a reversed iterator\n",
    "round()\tRounds a numbers\n",
    "set()\tReturns a new set object\n",
    "setattr()\tSets an attribute (property/method) of an object\n",
    "slice()\tReturns a slice object\n",
    "sorted()\tReturns a sorted list\n",
    "staticmethod()\tConverts a method into a static method\n",
    "str()\tReturns a string object\n",
    "sum()\tSums the items of an iterator\n",
    "super()\tReturns an object that represents the parent class\n",
    "tuple()\tReturns a tuple\n",
    "type()\tReturns the type of an object\n",
    "vars()\tReturns the __dict__ property of an object\n",
    "zip()\tReturns an iterator, from two or more iterators"
   ]
  },
  {
   "cell_type": "markdown",
   "id": "30b48750",
   "metadata": {},
   "source": [
    "# Python String Methods"
   ]
  },
  {
   "cell_type": "raw",
   "id": "1a5b16e2",
   "metadata": {},
   "source": [
    "All string methods returns new values. They do not change the original string.\n",
    "\n",
    "Method\tDescription\n",
    "capitalize()\tConverts the first character to upper case\n",
    "casefold()\tConverts string into lower case\n",
    "center()\tReturns a centered string\n",
    "count()\tReturns the number of times a specified value occurs in a string\n",
    "encode()\tReturns an encoded version of the string\n",
    "endswith()\tReturns true if the string ends with the specified value\n",
    "expandtabs()\tSets the tab size of the string\n",
    "find()\tSearches the string for a specified value and returns the position of where it was found\n",
    "format()\tFormats specified values in a string\n",
    "format_map()\tFormats specified values in a string\n",
    "index()\tSearches the string for a specified value and returns the position of where it was found\n",
    "isalnum()\tReturns True if all characters in the string are alphanumeric\n",
    "isalpha()\tReturns True if all characters in the string are in the alphabet\n",
    "isascii()\tReturns True if all characters in the string are ascii characters\n",
    "isdecimal()\tReturns True if all characters in the string are decimals\n",
    "isdigit()\tReturns True if all characters in the string are digits\n",
    "isidentifier()\tReturns True if the string is an identifier\n",
    "islower()\tReturns True if all characters in the string are lower case\n",
    "isnumeric()\tReturns True if all characters in the string are numeric\n",
    "isprintable()\tReturns True if all characters in the string are printable\n",
    "isspace()\tReturns True if all characters in the string are whitespaces\n",
    "istitle()\tReturns True if the string follows the rules of a title\n",
    "isupper()\tReturns True if all characters in the string are upper case\n",
    "join()\tConverts the elements of an iterable into a string\n",
    "ljust()\tReturns a left justified version of the string\n",
    "lower()\tConverts a string into lower case\n",
    "lstrip()\tReturns a left trim version of the string\n",
    "maketrans()\tReturns a translation table to be used in translations\n",
    "partition()\tReturns a tuple where the string is parted into three parts\n",
    "replace()\tReturns a string where a specified value is replaced with a specified value\n",
    "rfind()\tSearches the string for a specified value and returns the last position of where it was found\n",
    "rindex()\tSearches the string for a specified value and returns the last position of where it was found\n",
    "rjust()\tReturns a right justified version of the string\n",
    "rpartition()\tReturns a tuple where the string is parted into three parts\n",
    "rsplit()\tSplits the string at the specified separator, and returns a list\n",
    "rstrip()\tReturns a right trim version of the string\n",
    "split()\tSplits the string at the specified separator, and returns a list\n",
    "splitlines()\tSplits the string at line breaks and returns a list\n",
    "startswith()\tReturns true if the string starts with the specified value\n",
    "strip()\tReturns a trimmed version of the string\n",
    "swapcase()\tSwaps cases, lower case becomes upper case and vice versa\n",
    "title()\tConverts the first character of each word to upper case\n",
    "translate()\tReturns a translated string\n",
    "upper()\tConverts a string into upper case\n",
    "zfill()\tFills the string with a specified number of 0 values at the beginning"
   ]
  },
  {
   "cell_type": "markdown",
   "id": "700169dd",
   "metadata": {},
   "source": [
    "# Python List/Array Methods"
   ]
  },
  {
   "cell_type": "raw",
   "id": "b55aea02",
   "metadata": {},
   "source": [
    "Method\tDescription\n",
    "append()\tAdds an element at the end of the list\n",
    "clear()\tRemoves all the elements from the list\n",
    "copy()\tReturns a copy of the list\n",
    "count()\tReturns the number of elements with the specified value\n",
    "extend()\tAdd the elements of a list (or any iterable), to the end of the current list\n",
    "index()\tReturns the index of the first element with the specified value\n",
    "insert()\tAdds an element at the specified position\n",
    "pop()\tRemoves the element at the specified position\n",
    "remove()\tRemoves the first item with the specified value\n",
    "reverse()\tReverses the order of the list\n",
    "sort()\tSorts the list"
   ]
  },
  {
   "cell_type": "markdown",
   "id": "1a60cffb",
   "metadata": {},
   "source": [
    "# Python Dictionary Methods"
   ]
  },
  {
   "cell_type": "raw",
   "id": "d67beff1",
   "metadata": {},
   "source": [
    "Method\tDescription\n",
    "clear()\tRemoves all the elements from the dictionary\n",
    "copy()\tReturns a copy of the dictionary\n",
    "fromkeys()\tReturns a dictionary with the specified keys and value\n",
    "get()\tReturns the value of the specified key\n",
    "items()\tReturns a list containing a tuple for each key value pair\n",
    "keys()\tReturns a list containing the dictionary's keys\n",
    "pop()\tRemoves the element with the specified key\n",
    "popitem()\tRemoves the last inserted key-value pair\n",
    "setdefault()\tReturns the value of the specified key. If the key does not exist: insert the key, with the specified value\n",
    "update()\tUpdates the dictionary with the specified key-value pairs\n",
    "values()\tReturns a list of all the values in the dictionary\n"
   ]
  },
  {
   "cell_type": "markdown",
   "id": "14fd747a",
   "metadata": {},
   "source": [
    "# Python Tuple Methods"
   ]
  },
  {
   "cell_type": "raw",
   "id": "0c84a4e4",
   "metadata": {},
   "source": [
    "Python has two built-in methods that you can use on tuples.\n",
    "\n",
    "Method\tDescription\n",
    "count()\tReturns the number of times a specified value occurs in a tuple\n",
    "index()\tSearches the tuple for a specified value and returns the position of where it was found"
   ]
  },
  {
   "cell_type": "markdown",
   "id": "223cd967",
   "metadata": {},
   "source": [
    "\n",
    "# Python Set Methods"
   ]
  },
  {
   "cell_type": "raw",
   "id": "23b9c8f0",
   "metadata": {},
   "source": [
    "Python has a set of built-in methods that you can use on sets.\n",
    "\n",
    "Method\tDescription\n",
    "add()\tAdds an element to the set\n",
    "clear()\tRemoves all the elements from the set\n",
    "copy()\tReturns a copy of the set\n",
    "difference()\tReturns a set containing the difference between two or more sets\n",
    "difference_update()\tRemoves the items in this set that are also included in another, specified set\n",
    "discard()\tRemove the specified item\n",
    "intersection()\tReturns a set, that is the intersection of two or more sets\n",
    "intersection_update()\tRemoves the items in this set that are not present in other, specified set(s)\n",
    "isdisjoint()\tReturns whether two sets have a intersection or not\n",
    "issubset()\tReturns whether another set contains this set or not\n",
    "issuperset()\tReturns whether this set contains another set or not\n",
    "pop()\tRemoves an element from the set\n",
    "remove()\tRemoves the specified element\n",
    "symmetric_difference()\tReturns a set with the symmetric differences of two sets\n",
    "symmetric_difference_update()\tinserts the symmetric differences from this set and another\n",
    "union()\tReturn a set containing the union of sets\n",
    "update()\tUpdate the set with another set, or any other iterable"
   ]
  },
  {
   "cell_type": "markdown",
   "id": "bd107922",
   "metadata": {},
   "source": [
    "# Python File Methods"
   ]
  },
  {
   "cell_type": "raw",
   "id": "42f8cd96",
   "metadata": {},
   "source": [
    "Python has a set of methods available for the file object.\n",
    "\n",
    "Method\tDescription\n",
    "close()\tCloses the file\n",
    "detach()\tReturns the separated raw stream from the buffer\n",
    "fileno()\tReturns a number that represents the stream, from the operating system's perspective\n",
    "flush()\tFlushes the internal buffer\n",
    "isatty()\tReturns whether the file stream is interactive or not\n",
    "read()\tReturns the file content\n",
    "readable()\tReturns whether the file stream can be read or not\n",
    "readline()\tReturns one line from the file\n",
    "readlines()\tReturns a list of lines from the file\n",
    "seek()\tChange the file position\n",
    "seekable()\tReturns whether the file allows us to change the file position\n",
    "tell()\tReturns the current file position\n",
    "truncate()\tResizes the file to a specified size\n",
    "writable()\tReturns whether the file can be written to or not\n",
    "write()\tWrites the specified string to the file\n",
    "writelines()\tWrites a list of strings to the file"
   ]
  },
  {
   "cell_type": "markdown",
   "id": "f3d9c065",
   "metadata": {},
   "source": [
    "# Python Keywords"
   ]
  },
  {
   "cell_type": "raw",
   "id": "044c9101",
   "metadata": {},
   "source": [
    "Python has a set of keywords that are reserved words that cannot be used as variable names, function names, or any other identifiers:\n",
    "\n",
    "Keyword\tDescription\n",
    "and\tA logical operator\n",
    "as\tTo create an alias\n",
    "assert\tFor debugging\n",
    "break\tTo break out of a loop\n",
    "class\tTo define a class\n",
    "continue\tTo continue to the next iteration of a loop\n",
    "def\tTo define a function\n",
    "del\tTo delete an object\n",
    "elif\tUsed in conditional statements, same as else if\n",
    "else\tUsed in conditional statements\n",
    "except\tUsed with exceptions, what to do when an exception occurs\n",
    "False\tBoolean value, result of comparison operations\n",
    "finally\tUsed with exceptions, a block of code that will be executed no matter if there is an exception or not\n",
    "for\tTo create a for loop\n",
    "from\tTo import specific parts of a module\n",
    "global\tTo declare a global variable\n",
    "if\tTo make a conditional statement\n",
    "import\tTo import a module\n",
    "in\tTo check if a value is present in a list, tuple, etc.\n",
    "is\tTo test if two variables are equal\n",
    "lambda\tTo create an anonymous function\n",
    "None\tRepresents a null value\n",
    "nonlocal\tTo declare a non-local variable\n",
    "not\tA logical operator\n",
    "or\tA logical operator\n",
    "pass\tA null statement, a statement that will do nothing\n",
    "raise\tTo raise an exception\n",
    "return\tTo exit a function and return a value\n",
    "True\tBoolean value, result of comparison operations\n",
    "try\tTo make a try...except statement\n",
    "while\tTo create a while loop\n",
    "with\tUsed to simplify exception handling\n",
    "yield\tTo end a function, returns a generator"
   ]
  },
  {
   "cell_type": "markdown",
   "id": "5e3f2749",
   "metadata": {},
   "source": [
    "# Python Built-in Exceptions"
   ]
  },
  {
   "cell_type": "raw",
   "id": "19cab13c",
   "metadata": {},
   "source": [
    "# Built-in Exceptions\n",
    "The table below shows built-in exceptions that are usually raised in Python:\n",
    "\n",
    "Exception\tDescription\n",
    "ArithmeticError\tRaised when an error occurs in numeric calculations\n",
    "AssertionError\tRaised when an assert statement fails\n",
    "AttributeError\tRaised when attribute reference or assignment fails\n",
    "Exception\tBase class for all exceptions\n",
    "EOFError\tRaised when the input() method hits an \"end of file\" condition (EOF)\n",
    "FloatingPointError\tRaised when a floating point calculation fails\n",
    "GeneratorExit\tRaised when a generator is closed (with the close() method)\n",
    "ImportError\tRaised when an imported module does not exist\n",
    "IndentationError\tRaised when indentation is not correct\n",
    "IndexError\tRaised when an index of a sequence does not exist\n",
    "KeyError\tRaised when a key does not exist in a dictionary\n",
    "KeyboardInterrupt\tRaised when the user presses Ctrl+c, Ctrl+z or Delete\n",
    "LookupError\tRaised when errors raised cant be found\n",
    "MemoryError\tRaised when a program runs out of memory\n",
    "NameError\tRaised when a variable does not exist\n",
    "NotImplementedError\tRaised when an abstract method requires an inherited class to override the method\n",
    "OSError\tRaised when a system related operation causes an error\n",
    "OverflowError\tRaised when the result of a numeric calculation is too large\n",
    "ReferenceError\tRaised when a weak reference object does not exist\n",
    "RuntimeError\tRaised when an error occurs that do not belong to any specific exceptions\n",
    "StopIteration\tRaised when the next() method of an iterator has no further values\n",
    "SyntaxError\tRaised when a syntax error occurs\n",
    "TabError\tRaised when indentation consists of tabs or spaces\n",
    "SystemError\tRaised when a system error occurs\n",
    "SystemExit\tRaised when the sys.exit() function is called\n",
    "TypeError\tRaised when two different types are combined\n",
    "UnboundLocalError\tRaised when a local variable is referenced before assignment\n",
    "UnicodeError\tRaised when a unicode problem occurs\n",
    "UnicodeEncodeError\tRaised when a unicode encoding problem occurs\n",
    "UnicodeDecodeError\tRaised when a unicode decoding problem occurs\n",
    "UnicodeTranslateError\tRaised when a unicode translation problem occurs\n",
    "ValueError\tRaised when there is a wrong value in a specified data type\n",
    "ZeroDivisionError\tRaised when the second operator in a division is zero"
   ]
  },
  {
   "cell_type": "markdown",
   "id": "76c7f56c",
   "metadata": {},
   "source": [
    "# Python Glossary\n",
    "w3school,very good"
   ]
  },
  {
   "cell_type": "code",
   "execution_count": null,
   "id": "772cfd84",
   "metadata": {},
   "outputs": [],
   "source": []
  }
 ],
 "metadata": {
  "kernelspec": {
   "display_name": "Python 3 (ipykernel)",
   "language": "python",
   "name": "python3"
  },
  "language_info": {
   "codemirror_mode": {
    "name": "ipython",
    "version": 3
   },
   "file_extension": ".py",
   "mimetype": "text/x-python",
   "name": "python",
   "nbconvert_exporter": "python",
   "pygments_lexer": "ipython3",
   "version": "3.9.13"
  }
 },
 "nbformat": 4,
 "nbformat_minor": 5
}
