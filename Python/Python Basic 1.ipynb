{
 "cells": [
  {
   "cell_type": "code",
   "execution_count": 1,
   "metadata": {},
   "outputs": [
    {
     "name": "stdout",
     "output_type": "stream",
     "text": [
      "Twinkle, twinkle, little star, \n",
      "\tHow I wonder what you are! \n",
      "\t\tUp above the world so high, \n",
      "\t\tLike a diamond in the sky. \n",
      "Twinkle, twinkle, little star, \n",
      "\tHow I wonder what you are!\n"
     ]
    }
   ],
   "source": [
    "print(\"Twinkle, twinkle, little star, \\n\\tHow I wonder what you are! \\n\\t\\tUp above the world so high, \\n\\t\\tLike a diamond in the sky. \\nTwinkle, twinkle, little star, \\n\\tHow I wonder what you are!\")\n"
   ]
  },
  {
   "cell_type": "code",
   "execution_count": 2,
   "metadata": {},
   "outputs": [
    {
     "name": "stdout",
     "output_type": "stream",
     "text": [
      "Python version 3.9.13 (main, Aug 25 2022, 23:51:50) [MSC v.1916 64 bit (AMD64)]\n",
      "Version info sys.version_info(major=3, minor=9, micro=13, releaselevel='final', serial=0)\n"
     ]
    }
   ],
   "source": [
    "#2. Write a Python program to find out what version of Python you are using.\n",
    "import sys\n",
    "print(\"Python version\", sys.version) #print(sys.version)\n",
    "print(\"Version info\",sys.version_info)"
   ]
  },
  {
   "cell_type": "code",
   "execution_count": 3,
   "metadata": {},
   "outputs": [
    {
     "name": "stdout",
     "output_type": "stream",
     "text": [
      "python version 3.9.13\n",
      "('3', '9', '13')\n"
     ]
    }
   ],
   "source": [
    "#Using platform module\n",
    "import platform\n",
    "print(\"python version\", platform.python_version())\n",
    "print(platform.python_version_tuple())\n",
    "\n"
   ]
  },
  {
   "cell_type": "code",
   "execution_count": 4,
   "metadata": {},
   "outputs": [
    {
     "name": "stdout",
     "output_type": "stream",
     "text": [
      "current date and time: \n",
      "2023-38_11/14/23 21: 38: 31\n"
     ]
    }
   ],
   "source": [
    "#3. Write a Python program to display the current date and time\n",
    "import datetime\n",
    "now= datetime.datetime.now()\n",
    "print('current date and time: ')\n",
    "print(now.strftime(\"%Y-%M_%D %H: %M: %S\"))\n",
    "#The format string passed to strftime contains format codes that represent various components of the date and time"
   ]
  },
  {
   "cell_type": "code",
   "execution_count": 5,
   "metadata": {},
   "outputs": [
    {
     "name": "stdout",
     "output_type": "stream",
     "text": [
      "4.523904\n"
     ]
    }
   ],
   "source": [
    "def circle(radius):\n",
    "    print(3.1416*radius*radius)\n",
    "circle(1.2)"
   ]
  },
  {
   "cell_type": "code",
   "execution_count": 12,
   "metadata": {},
   "outputs": [
    {
     "name": "stdout",
     "output_type": "stream",
     "text": [
      "input the radius of the circle: 2\n"
     ]
    }
   ],
   "source": [
    "######\n",
    "from math import pi\n",
    "r=int(input('input the radius of the circle: '))\n",
    "area = pi * r ** 2"
   ]
  },
  {
   "cell_type": "code",
   "execution_count": 11,
   "metadata": {},
   "outputs": [],
   "source": [
    "# Import the 'pi' constant from the 'math' module to calculate the area of a circle\n",
    "from math import pi\n",
    "\n",
    "# Prompt the user to input the radius of the circle\n",
    "r = float(input(\"Input the radius of the circle : \"))\n",
    "\n",
    "# Calculate the area of the circle using the formula: area = π * r^2\n",
    "area = pi * r ** 2"
   ]
  }
 ],
 "metadata": {
  "kernelspec": {
   "display_name": "Python 3",
   "language": "python",
   "name": "python3"
  },
  "language_info": {
   "codemirror_mode": {
    "name": "ipython",
    "version": 3
   },
   "file_extension": ".py",
   "mimetype": "text/x-python",
   "name": "python",
   "nbconvert_exporter": "python",
   "pygments_lexer": "ipython3",
   "version": "3.8.5"
  }
 },
 "nbformat": 4,
 "nbformat_minor": 5
}
