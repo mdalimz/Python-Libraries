{
 "cells": [
  {
   "cell_type": "markdown",
   "metadata": {
    "id": "UpkkhSfTOdpB"
   },
   "source": [
    "Python Operator falls into 7 categories:\n",
    "\n",
    "Python Arithmetic Operator\n",
    "Python Relational Operator\n",
    "Python Assignment Operator\n",
    "Python Logical Operator\n",
    "Python Membership Operator\n",
    "Python Identity Operator\n",
    "Python Bitwise Operator"
   ]
  },
  {
   "cell_type": "markdown",
   "metadata": {},
   "source": [
    "# math"
   ]
  },
  {
   "cell_type": "code",
   "execution_count": 4,
   "metadata": {
    "colab": {
     "base_uri": "https://localhost:8080/"
    },
    "executionInfo": {
     "elapsed": 205,
     "status": "ok",
     "timestamp": 1654338509400,
     "user": {
      "displayName": "Md Ramjan Ali",
      "userId": "03626938051605162579"
     },
     "user_tz": -120
    },
    "id": "MH7WfO1YOf8p",
    "outputId": "a77e5fed-33ad-465a-f08a-025cc34ca308"
   },
   "outputs": [
    {
     "data": {
      "text/plain": [
       "(79,\n",
       " -75,\n",
       " 154,\n",
       " 0.025974025974025976,\n",
       " 0,\n",
       " 4,\n",
       " 5929,\n",
       " 1,\n",
       " 5.0,\n",
       " 1,\n",
       " 9332636185032188789900895447238171696170914463717080246217143397959669109757756344544403270978811023595949899303242426242154875213540323948415208172039307562344106661383251502739950759859018315111004907962651131182405125147959337908051782711254151038106983788544264811194698142286609592220176629104427984561694488871474665280063283684526474292618298621652027931952894936071178506636687410654398055307181363205998448260419541012132296298695021945146099042146086683612447929520348268646176579269160474200659363890417378958221183650780455566284442739253875171278547967815563464037148776817668998553920692654394240087119736747017498626266907472967625358039293762338339810469278745586052536964416503906250000000000000000000000000000000000000000000000000000000000000000000000000000000000000000000000000000000000000000000000000000000000000000000000000000000000000000000000000000000000000000000000000000000000000000000000000000000000000000000000000000000000000000000000000000000000000000000000000000000000000000000000000000000000000000000000000000000000000000000000000000000000000000000000000000000000000000000000000000000000000000000000000000000000000000000000000000000000000000000000000000000000000000000000000000000000000000000000000000000000000000000000000000000000000000000000000000000000000000000000000000000000000000000000000000000000000000000000000000000000000000000000000000000000000000000000000000000000000000000000000000000000000000000000000000000000000000000000000000000000000000000000000000000000000000000000000000000000000000000000000000000000000000000000000000000000000000000000000000000000000000000000000000000000000000000000000000000000000000000000000000000000000000000000000000000000000000)"
      ]
     },
     "execution_count": 4,
     "metadata": {},
     "output_type": "execute_result"
    }
   ],
   "source": [
    "#1. Arithmetic Operators in Python(+, - * / //, ** %)\n",
    "a= 2; b= 77; c=77\n",
    "a+b , a-b, a*b, a/b, a//b, 2**a, b**a, b%a,11.3//2, , 50**1000"
   ]
  },
  {
   "cell_type": "code",
   "execution_count": 9,
   "metadata": {},
   "outputs": [
    {
     "data": {
      "text/plain": [
       "1"
      ]
     },
     "execution_count": 9,
     "metadata": {},
     "output_type": "execute_result"
    }
   ],
   "source": [
    "11%2 #modulus or remainder"
   ]
  },
  {
   "cell_type": "code",
   "execution_count": 15,
   "metadata": {},
   "outputs": [
    {
     "data": {
      "text/plain": [
       "(5.0, 5)"
      ]
     },
     "execution_count": 15,
     "metadata": {},
     "output_type": "execute_result"
    }
   ],
   "source": [
    "10/2, 11//2 #devision ,round"
   ]
  },
  {
   "cell_type": "code",
   "execution_count": 16,
   "metadata": {},
   "outputs": [
    {
     "data": {
      "text/plain": [
       "7.6"
      ]
     },
     "execution_count": 16,
     "metadata": {},
     "output_type": "execute_result"
    }
   ],
   "source": [
    "4+3.6"
   ]
  },
  {
   "cell_type": "code",
   "execution_count": 24,
   "metadata": {},
   "outputs": [
    {
     "data": {
      "text/plain": [
       "(-6-4j)"
      ]
     },
     "execution_count": 24,
     "metadata": {},
     "output_type": "execute_result"
    }
   ],
   "source": [
    "1-(7+4j)"
   ]
  },
  {
   "cell_type": "code",
   "execution_count": 22,
   "metadata": {},
   "outputs": [
    {
     "name": "stdout",
     "output_type": "stream",
     "text": [
      "['__abs__', '__add__', '__and__', '__bool__', '__ceil__', '__class__', '__delattr__', '__dir__', '__divmod__', '__doc__', '__eq__', '__float__', '__floor__', '__floordiv__', '__format__', '__ge__', '__getattribute__', '__getnewargs__', '__gt__', '__hash__', '__index__', '__init__', '__init_subclass__', '__int__', '__invert__', '__le__', '__lshift__', '__lt__', '__mod__', '__mul__', '__ne__', '__neg__', '__new__', '__or__', '__pos__', '__pow__', '__radd__', '__rand__', '__rdivmod__', '__reduce__', '__reduce_ex__', '__repr__', '__rfloordiv__', '__rlshift__', '__rmod__', '__rmul__', '__ror__', '__round__', '__rpow__', '__rrshift__', '__rshift__', '__rsub__', '__rtruediv__', '__rxor__', '__setattr__', '__sizeof__', '__str__', '__sub__', '__subclasshook__', '__truediv__', '__trunc__', '__xor__', 'as_integer_ratio', 'bit_length', 'conjugate', 'denominator', 'from_bytes', 'imag', 'numerator', 'real', 'to_bytes']\n"
     ]
    }
   ],
   "source": [
    "print(dir(50))  #gives dunder method"
   ]
  },
  {
   "cell_type": "code",
   "execution_count": 27,
   "metadata": {},
   "outputs": [
    {
     "data": {
      "text/plain": [
       "6"
      ]
     },
     "execution_count": 27,
     "metadata": {},
     "output_type": "execute_result"
    }
   ],
   "source": [
    "(42).bit_length()"
   ]
  },
  {
   "cell_type": "code",
   "execution_count": 23,
   "metadata": {
    "colab": {
     "base_uri": "https://localhost:8080/"
    },
    "executionInfo": {
     "elapsed": 205,
     "status": "ok",
     "timestamp": 1654338593609,
     "user": {
      "displayName": "Md Ramjan Ali",
      "userId": "03626938051605162579"
     },
     "user_tz": -120
    },
    "id": "YL0rg-WhQmo5",
    "outputId": "cc775a42-6d28-4e24-ebc6-1ba1aca3a1eb"
   },
   "outputs": [
    {
     "data": {
      "text/plain": [
       "(5.0, 1, 16)"
      ]
     },
     "execution_count": 23,
     "metadata": {},
     "output_type": "execute_result"
    }
   ],
   "source": [
    "11.3//2, 11%2, 2**4, "
   ]
  },
  {
   "cell_type": "markdown",
   "metadata": {},
   "source": [
    "# Dunders"
   ]
  },
  {
   "cell_type": "code",
   "execution_count": 28,
   "metadata": {},
   "outputs": [
    {
     "data": {
      "text/plain": [
       "52"
      ]
     },
     "execution_count": 28,
     "metadata": {},
     "output_type": "execute_result"
    }
   ],
   "source": [
    "42+10"
   ]
  },
  {
   "cell_type": "code",
   "execution_count": 37,
   "metadata": {},
   "outputs": [
    {
     "data": {
      "text/plain": [
       "(-32, 52)"
      ]
     },
     "execution_count": 37,
     "metadata": {},
     "output_type": "execute_result"
    }
   ],
   "source": [
    "(-42). __add__(10),(42). __add__(10)"
   ]
  },
  {
   "cell_type": "code",
   "execution_count": null,
   "metadata": {},
   "outputs": [],
   "source": []
  },
  {
   "cell_type": "code",
   "execution_count": null,
   "metadata": {},
   "outputs": [],
   "source": []
  },
  {
   "cell_type": "code",
   "execution_count": 18,
   "metadata": {
    "colab": {
     "base_uri": "https://localhost:8080/"
    },
    "executionInfo": {
     "elapsed": 487,
     "status": "ok",
     "timestamp": 1654338933252,
     "user": {
      "displayName": "Md Ramjan Ali",
      "userId": "03626938051605162579"
     },
     "user_tz": -120
    },
    "id": "5wjp9I42RSiQ",
    "outputId": "c95154e9-05cb-4c32-9b2d-dcb81af50760"
   },
   "outputs": [
    {
     "data": {
      "text/plain": [
       "(True, False, True, False, False, True, True)"
      ]
     },
     "execution_count": 18,
     "metadata": {},
     "output_type": "execute_result"
    }
   ],
   "source": [
    "#2. Python Relational Operator or comparisional operator ( <, >, ==, <=,  >=, !=, )\n",
    "#Relational Python Operator carries out the comparison between operands.\n",
    "2<3, 2>3, 2==2.0, 2==2.1,  3>=5, 3<=5, 3!=5"
   ]
  },
  {
   "cell_type": "code",
   "execution_count": 102,
   "metadata": {
    "executionInfo": {
     "elapsed": 230,
     "status": "ok",
     "timestamp": 1654344718312,
     "user": {
      "displayName": "Md Ramjan Ali",
      "userId": "03626938051605162579"
     },
     "user_tz": -120
    },
    "id": "FOGdjNL5SVAn"
   },
   "outputs": [],
   "source": [
    "#3.Python Assignment Operator(8 types)\n",
    "#Python assignment operator assigns a value to a variable. It may manipulate the value by a factor before assigning it.\n",
    "x=96"
   ]
  },
  {
   "cell_type": "markdown",
   "metadata": {
    "id": "6MxMrIX2SvFi"
   },
   "source": [
    "![Python-Assignment-Operator-01-768x402.webp](data:image/webp;base64,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)"
   ]
  },
  {
   "cell_type": "code",
   "execution_count": 103,
   "metadata": {
    "colab": {
     "base_uri": "https://localhost:8080/"
    },
    "executionInfo": {
     "elapsed": 215,
     "status": "ok",
     "timestamp": 1654344719708,
     "user": {
      "displayName": "Md Ramjan Ali",
      "userId": "03626938051605162579"
     },
     "user_tz": -120
    },
    "id": "9fYh-J_ATpzL",
    "outputId": "ee151921-0b1e-496d-a986-f0d765458725"
   },
   "outputs": [
    {
     "data": {
      "text/plain": [
       "98"
      ]
     },
     "execution_count": 103,
     "metadata": {},
     "output_type": "execute_result"
    }
   ],
   "source": [
    "x+=2\n",
    "x "
   ]
  },
  {
   "cell_type": "code",
   "execution_count": 104,
   "metadata": {
    "colab": {
     "base_uri": "https://localhost:8080/"
    },
    "executionInfo": {
     "elapsed": 278,
     "status": "ok",
     "timestamp": 1654344721880,
     "user": {
      "displayName": "Md Ramjan Ali",
      "userId": "03626938051605162579"
     },
     "user_tz": -120
    },
    "id": "W9JT_8FdUPaS",
    "outputId": "8882506c-fb42-47d2-91a7-1856d8f7a5ef"
   },
   "outputs": [
    {
     "data": {
      "text/plain": [
       "38"
      ]
     },
     "execution_count": 104,
     "metadata": {},
     "output_type": "execute_result"
    }
   ],
   "source": [
    "x-= 60\n",
    "x"
   ]
  },
  {
   "cell_type": "code",
   "execution_count": 107,
   "metadata": {
    "executionInfo": {
     "elapsed": 420,
     "status": "ok",
     "timestamp": 1654344784702,
     "user": {
      "displayName": "Md Ramjan Ali",
      "userId": "03626938051605162579"
     },
     "user_tz": -120
    },
    "id": "BVazYHE7oKLW"
   },
   "outputs": [],
   "source": [
    "x= 2&2"
   ]
  },
  {
   "cell_type": "code",
   "execution_count": 44,
   "metadata": {
    "colab": {
     "base_uri": "https://localhost:8080/"
    },
    "executionInfo": {
     "elapsed": 470,
     "status": "ok",
     "timestamp": 1654339567458,
     "user": {
      "displayName": "Md Ramjan Ali",
      "userId": "03626938051605162579"
     },
     "user_tz": -120
    },
    "id": "NWJzBA96UkAV",
    "outputId": "bc62e516-2670-4b8e-da95-9fdea49c1ca9"
   },
   "outputs": [
    {
     "data": {
      "text/plain": [
       "11.176470588235295"
      ]
     },
     "execution_count": 44,
     "metadata": {},
     "output_type": "execute_result"
    }
   ],
   "source": [
    "x/= 3.4\n",
    "x"
   ]
  },
  {
   "cell_type": "code",
   "execution_count": 47,
   "metadata": {
    "colab": {
     "base_uri": "https://localhost:8080/"
    },
    "executionInfo": {
     "elapsed": 323,
     "status": "ok",
     "timestamp": 1654339607809,
     "user": {
      "displayName": "Md Ramjan Ali",
      "userId": "03626938051605162579"
     },
     "user_tz": -120
    },
    "id": "Rvy4y-FMUogh",
    "outputId": "2d814dba-2d90-4959-a011-8dacee451c19"
   },
   "outputs": [
    {
     "data": {
      "text/plain": [
       "22.35294117647059"
      ]
     },
     "execution_count": 47,
     "metadata": {},
     "output_type": "execute_result"
    }
   ],
   "source": [
    "x*= 2\n",
    "x"
   ]
  },
  {
   "cell_type": "code",
   "execution_count": 48,
   "metadata": {
    "colab": {
     "base_uri": "https://localhost:8080/"
    },
    "executionInfo": {
     "elapsed": 332,
     "status": "ok",
     "timestamp": 1654339632487,
     "user": {
      "displayName": "Md Ramjan Ali",
      "userId": "03626938051605162579"
     },
     "user_tz": -120
    },
    "id": "_yQxPZxAUyfP",
    "outputId": "3edffb07-c905-4b87-c4fe-2d0d1d8ffed1"
   },
   "outputs": [
    {
     "data": {
      "text/plain": [
       "2.3529411764705905"
      ]
     },
     "execution_count": 48,
     "metadata": {},
     "output_type": "execute_result"
    }
   ],
   "source": [
    "x%= 4\n",
    "x"
   ]
  },
  {
   "cell_type": "code",
   "execution_count": 49,
   "metadata": {
    "colab": {
     "base_uri": "https://localhost:8080/"
    },
    "executionInfo": {
     "elapsed": 203,
     "status": "ok",
     "timestamp": 1654339678857,
     "user": {
      "displayName": "Md Ramjan Ali",
      "userId": "03626938051605162579"
     },
     "user_tz": -120
    },
    "id": "Q5oBF0JiU9KX",
    "outputId": "ae800042-3d12-4f95-9055-18f5aeec498c"
   },
   "outputs": [
    {
     "data": {
      "text/plain": [
       "5.536332179930807"
      ]
     },
     "execution_count": 49,
     "metadata": {},
     "output_type": "execute_result"
    }
   ],
   "source": [
    "x**= 2\n",
    "x"
   ]
  },
  {
   "cell_type": "code",
   "execution_count": 51,
   "metadata": {
    "colab": {
     "base_uri": "https://localhost:8080/"
    },
    "executionInfo": {
     "elapsed": 205,
     "status": "ok",
     "timestamp": 1654339697877,
     "user": {
      "displayName": "Md Ramjan Ali",
      "userId": "03626938051605162579"
     },
     "user_tz": -120
    },
    "id": "tIka9VpNVD6c",
    "outputId": "3d9f5391-2bbb-46c6-b458-beac6c22e84f"
   },
   "outputs": [
    {
     "data": {
      "text/plain": [
       "1.0"
      ]
     },
     "execution_count": 51,
     "metadata": {},
     "output_type": "execute_result"
    }
   ],
   "source": [
    "x//= 2\n",
    "x"
   ]
  },
  {
   "cell_type": "code",
   "execution_count": 60,
   "metadata": {
    "executionInfo": {
     "elapsed": 313,
     "status": "ok",
     "timestamp": 1654339975766,
     "user": {
      "displayName": "Md Ramjan Ali",
      "userId": "03626938051605162579"
     },
     "user_tz": -120
    },
    "id": "0sz6K6sgVP6S"
   },
   "outputs": [],
   "source": [
    "#4. Python Logical Operator(and , or ,not)\n",
    "x= 2; y=3; z= 5"
   ]
  },
  {
   "cell_type": "code",
   "execution_count": 65,
   "metadata": {
    "colab": {
     "base_uri": "https://localhost:8080/"
    },
    "executionInfo": {
     "elapsed": 240,
     "status": "ok",
     "timestamp": 1654340196907,
     "user": {
      "displayName": "Md Ramjan Ali",
      "userId": "03626938051605162579"
     },
     "user_tz": -120
    },
    "id": "yKtpM7EhWFwD",
    "outputId": "0c3a80ea-3db6-43a6-a790-8f4453fa6100"
   },
   "outputs": [
    {
     "data": {
      "text/plain": [
       "(False, True)"
      ]
     },
     "execution_count": 65,
     "metadata": {},
     "output_type": "execute_result"
    }
   ],
   "source": [
    "# a.If the conditions on both sides of the operator are true, then the expression as a whole is true.    and\n",
    "#b.The expression is false only if both the statements around the operator are false. Otherwise, it is true.......or\n",
    "x<y and x>z, x<y or x>z,"
   ]
  },
  {
   "cell_type": "code",
   "execution_count": 70,
   "metadata": {
    "colab": {
     "base_uri": "https://localhost:8080/"
    },
    "executionInfo": {
     "elapsed": 209,
     "status": "ok",
     "timestamp": 1654340316153,
     "user": {
      "displayName": "Md Ramjan Ali",
      "userId": "03626938051605162579"
     },
     "user_tz": -120
    },
    "id": "PluUt0FhW4Vg",
    "outputId": "8c786309-d78c-488c-f83a-c15113a731d1"
   },
   "outputs": [
    {
     "data": {
      "text/plain": [
       "(False, True, True)"
      ]
     },
     "execution_count": 70,
     "metadata": {},
     "output_type": "execute_result"
    }
   ],
   "source": [
    "#c.This inverts the Boolean value of an expression. It converts True to False, and False to True.\n",
    "x=True; y= False\n",
    "not(x), not(y), not(x and y)"
   ]
  },
  {
   "cell_type": "code",
   "execution_count": 75,
   "metadata": {
    "colab": {
     "base_uri": "https://localhost:8080/"
    },
    "executionInfo": {
     "elapsed": 265,
     "status": "ok",
     "timestamp": 1654343599540,
     "user": {
      "displayName": "Md Ramjan Ali",
      "userId": "03626938051605162579"
     },
     "user_tz": -120
    },
    "id": "_VyHs3PZd1_i",
    "outputId": "e0dbfa8b-c63f-43a3-8ac8-dcea04d0676e"
   },
   "outputs": [
    {
     "data": {
      "text/plain": [
       "(False, False, True, False)"
      ]
     },
     "execution_count": 75,
     "metadata": {},
     "output_type": "execute_result"
    }
   ],
   "source": [
    "#5. Membership Python Operator(in and not in)\n",
    "#These operators test whether a value is a member of a sequence. The sequence may be a list, a string, or a tuple.\n",
    "x=[1, 2, 3, 4, 5, 6]; x=(\"cat\", \"dog\", \"lion\"); list=( \"sea\", \"tree\", 22, 33, 44, 66)\n",
    "1 in x, 9 in x, 'cat' in x, 'sea' not in list"
   ]
  },
  {
   "cell_type": "code",
   "execution_count": 79,
   "metadata": {
    "colab": {
     "base_uri": "https://localhost:8080/"
    },
    "executionInfo": {
     "elapsed": 222,
     "status": "ok",
     "timestamp": 1654343694945,
     "user": {
      "displayName": "Md Ramjan Ali",
      "userId": "03626938051605162579"
     },
     "user_tz": -120
    },
    "id": "YIXyYkfVkBjJ",
    "outputId": "a3d93c52-1940-4c22-e517-5d74cec69a1d"
   },
   "outputs": [
    {
     "data": {
      "text/plain": [
       "False"
      ]
     },
     "execution_count": 79,
     "metadata": {},
     "output_type": "execute_result"
    }
   ],
   "source": [
    "'me' in 'disappointment';"
   ]
  },
  {
   "cell_type": "code",
   "execution_count": 80,
   "metadata": {
    "colab": {
     "base_uri": "https://localhost:8080/"
    },
    "executionInfo": {
     "elapsed": 261,
     "status": "ok",
     "timestamp": 1654343710831,
     "user": {
      "displayName": "Md Ramjan Ali",
      "userId": "03626938051605162579"
     },
     "user_tz": -120
    },
    "id": "sRMmaC3MkaEc",
    "outputId": "b098c041-757e-4dd6-e312-e696f8383d0d"
   },
   "outputs": [
    {
     "data": {
      "text/plain": [
       "False"
      ]
     },
     "execution_count": 80,
     "metadata": {},
     "output_type": "execute_result"
    }
   ],
   "source": [
    "'me' not in 'disappointment'"
   ]
  },
  {
   "cell_type": "code",
   "execution_count": 85,
   "metadata": {
    "colab": {
     "base_uri": "https://localhost:8080/"
    },
    "executionInfo": {
     "elapsed": 224,
     "status": "ok",
     "timestamp": 1654343846248,
     "user": {
      "displayName": "Md Ramjan Ali",
      "userId": "03626938051605162579"
     },
     "user_tz": -120
    },
    "id": "GNk0C5iZkkuP",
    "outputId": "17267084-849b-4b34-dffc-79c6d8eb5eb3"
   },
   "outputs": [
    {
     "data": {
      "text/plain": [
       "(True, False, True, False)"
      ]
     },
     "execution_count": 85,
     "metadata": {},
     "output_type": "execute_result"
    }
   ],
   "source": [
    "# 6. Python Identity Operator(is and is not)\n",
    "#These operators test if the two operands share an identity. We have two identity operators- ‘is’ and ‘is not’.\n",
    "2 is 2, 20 is 40, 30 is not 'cat', 40 is not 40"
   ]
  },
  {
   "cell_type": "code",
   "execution_count": null,
   "metadata": {
    "id": "h9zDq5IKk_T6"
   },
   "outputs": [],
   "source": [
    "#7. Python Bitwise Operator"
   ]
  },
  {
   "cell_type": "markdown",
   "metadata": {
    "id": "zukbjZ1olGsh"
   },
   "source": [
    "![Python-Bitwise-Operator-01-1024x536.webp](data:image/webp;base64,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)"
   ]
  },
  {
   "cell_type": "code",
   "execution_count": 87,
   "metadata": {
    "colab": {
     "base_uri": "https://localhost:8080/"
    },
    "executionInfo": {
     "elapsed": 308,
     "status": "ok",
     "timestamp": 1654344050253,
     "user": {
      "displayName": "Md Ramjan Ali",
      "userId": "03626938051605162579"
     },
     "user_tz": -120
    },
    "id": "WbGgLCvulJCJ",
    "outputId": "2552c8e4-9cb6-4c1f-e223-a39bef59af8e"
   },
   "outputs": [
    {
     "data": {
      "text/plain": [
       "(2, 0)"
      ]
     },
     "execution_count": 87,
     "metadata": {},
     "output_type": "execute_result"
    }
   ],
   "source": [
    "#a.Binary and, It performs bit by bit AND operation on the two values. Here, binary for 2 is 10, and that for 3 is 11. &-ing them results in 10, which is binary for 2.\n",
    "2 & 3, 3&4"
   ]
  },
  {
   "cell_type": "code",
   "execution_count": 95,
   "metadata": {
    "colab": {
     "base_uri": "https://localhost:8080/"
    },
    "executionInfo": {
     "elapsed": 328,
     "status": "ok",
     "timestamp": 1654344322688,
     "user": {
      "displayName": "Md Ramjan Ali",
      "userId": "03626938051605162579"
     },
     "user_tz": -120
    },
    "id": "np8OfhyEl6WO",
    "outputId": "d5247fbb-9532-4b7d-8c0e-f1b76fc9c72c"
   },
   "outputs": [
    {
     "data": {
      "text/plain": [
       "(1, 3, 2)"
      ]
     },
     "execution_count": 95,
     "metadata": {},
     "output_type": "execute_result"
    }
   ],
   "source": [
    "#b. Binary OR(|) Operator in Python,#c. Binary XOR(^) Operator in Python, d. Binary One’s Complement(~) in Python\n",
    "2^3, 2|3, ~-3"
   ]
  },
  {
   "cell_type": "code",
   "execution_count": 99,
   "metadata": {
    "colab": {
     "base_uri": "https://localhost:8080/"
    },
    "executionInfo": {
     "elapsed": 227,
     "status": "ok",
     "timestamp": 1654344497875,
     "user": {
      "displayName": "Md Ramjan Ali",
      "userId": "03626938051605162579"
     },
     "user_tz": -120
    },
    "id": "uyrgNCj3m0ar",
    "outputId": "d5991785-7cd1-4f3f-8545-2ab5271ae526"
   },
   "outputs": [
    {
     "data": {
      "text/plain": [
       "(8, 1)"
      ]
     },
     "execution_count": 99,
     "metadata": {},
     "output_type": "execute_result"
    }
   ],
   "source": [
    "#e. Binary Left-Shift(<<) Operator in Python, f. Binary Right-Shift(>>) in Python#Here, binary of 2 is 10. 2<<2 shifts it two places to the left.\n",
    "#This results in 1000, which is binary for 8.\n",
    "2<<2, 3>>1"
   ]
  }
 ],
 "metadata": {
  "colab": {
   "authorship_tag": "ABX9TyMBKYV7DoKIGLii9wDqrRyD",
   "name": "Operator in python .ipynb",
   "provenance": []
  },
  "kernelspec": {
   "display_name": "Python 3 (ipykernel)",
   "language": "python",
   "name": "python3"
  },
  "language_info": {
   "codemirror_mode": {
    "name": "ipython",
    "version": 3
   },
   "file_extension": ".py",
   "mimetype": "text/x-python",
   "name": "python",
   "nbconvert_exporter": "python",
   "pygments_lexer": "ipython3",
   "version": "3.9.13"
  }
 },
 "nbformat": 4,
 "nbformat_minor": 1
}
