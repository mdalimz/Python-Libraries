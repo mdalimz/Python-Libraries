{
 "cells": [
  {
   "cell_type": "markdown",
   "id": "8116cdb8",
   "metadata": {},
   "source": [
    "# 1.Functions"
   ]
  },
  {
   "cell_type": "markdown",
   "id": "9c6f9993",
   "metadata": {},
   "source": [
    "## Python built-in-function\n",
    "Functions in Python are blocks of reusable code designed to perform a single, related action. Functions help break our program into smaller, modular chunks, making it more readable and manageable."
   ]
  },
  {
   "cell_type": "raw",
   "id": "b4fc2938",
   "metadata": {},
   "source": [
    "print(): Outputs text to the console.\n",
    "len(): Returns the length (number of items) of an object.\n",
    "type(): Returns the type of an object.\n",
    "int(): Converts a value to an integer.\n",
    "float(): Converts a value to a float.\n",
    "str(): Converts a value to a string.\n",
    "list(): Creates a list.\n",
    "dict(): Creates a dictionary.\n",
    "set(): Creates a set.\n",
    "tuple(): Creates a tuple.\n",
    "sum(): Returns the sum of a sequence of numbers.\n",
    "max(): Returns the largest item in an iterable.\n",
    "min(): Returns the smallest item in an iterable.\n",
    "abs(): Returns the absolute value of a number.\n",
    "sorted(): Returns a sorted list of the specified iterable's elements."
   ]
  },
  {
   "cell_type": "markdown",
   "id": "67513683",
   "metadata": {},
   "source": [
    "# User defined function\n",
    "We can create your own functions in Python using the def keyword. Here's the basic syntax and an example"
   ]
  },
  {
   "cell_type": "raw",
   "id": "0866602e",
   "metadata": {},
   "source": [
    "def function_name(parameters):\n",
    "    \"\"\"docstring\"\"\"\n",
    "    statement(s)\n",
    "    return value"
   ]
  },
  {
   "cell_type": "markdown",
   "id": "e43680ff",
   "metadata": {},
   "source": [
    "## Lambda Functions\n",
    "Lambda functions are small anonymous functions defined with the lambda keyword. They can have any number of arguments but only one expression. Here's the syntax and an example:\n",
    "lambda arguments: expression \n",
    "\n",
    "Example:\n",
    "square = lambda x: x ** 2\n",
    "print(square(5))  # Output: 25\n",
    "\n",
    "## Higher-Order Functions\n",
    "Functions that take other functions as arguments or return them as results. Examples include map(), filter(), and reduce().\n",
    "\n",
    "map(function, iterable): Applies function to every item in iterable and returns a map object.\n",
    "\n",
    "python\n",
    "Copy code\n",
    "numbers = [1, 2, 3, 4]\n",
    "squared = map(lambda x: x**2, numbers)\n",
    "print(list(squared))  # Output: [1, 4, 9, 16]\n",
    "filter(function, iterable): Filters items in iterable for which function returns True.\n",
    "\n",
    "python\n",
    "Copy code\n",
    "numbers = [1, 2, 3, 4, 5]\n",
    "even_numbers = filter(lambda x: x % 2 == 0, numbers)\n",
    "print(list(even_numbers))  # Output: [2, 4]\n",
    "reduce(function, iterable): Applies function cumulatively to the items in iterable, reducing it to a single value. (Note: reduce is in the functools module.)\n",
    "\n",
    "python\n",
    "Copy code\n",
    "from functools import reduce\n",
    "\n",
    "numbers = [1, 2, 3, 4]\n",
    "product = reduce(lambda x, y: x * y, numbers)\n",
    "print(product)  # Output: 24\n",
    "## Function Annotations\n",
    "Python supports function annotations, which are a way of associating arbitrary expressions with various parts of a function. These are stored in the __annotations__ attribute.\n",
    "\n",
    "python\n",
    "Copy code\n",
    "def greet(name: str) -> str:\n",
    "    return f\"Hello, {name}!\"\n",
    "\n",
    "print(greet.__annotations__)  # Output: {'name': <class 'str'>, 'return': <class 'str'>}\n",
    "## Decorators\n",
    "Decorators are a powerful tool in Python that allows modification of functions or methods using other functions. They are often used for logging, access control, and instrumentation.\n",
    "\n",
    "python\n",
    "Copy code\n",
    "def my_decorator(func):\n",
    "    def wrapper():\n",
    "        print(\"Something is happening before the function is called.\")\n",
    "        func()\n",
    "        print(\"Something is happening after the function is called.\")\n",
    "    return wrapper\n",
    "\n",
    "@my_decorator\n",
    "def say_hello():\n",
    "    print(\"Hello!\")\n",
    "\n",
    "say_hello()\n",
    "## Generator Functions\n",
    "Generator functions allow you to declare a function that behaves like an iterator. They use the yield statement to return data one at a time and maintain their state between calls.\n",
    "\n",
    "python\n",
    "Copy code\n",
    "def generate_numbers():\n",
    "    for i in range(1, 4):\n",
    "        yield i\n",
    "\n",
    "gen = generate_numbers()\n",
    "print(next(gen))  # Output: 1\n",
    "print(next(gen))  # Output: 2\n",
    "print(next(gen))  # Output: 3\n",
    "## Recursion\n",
    "Functions can call themselves, a concept known as recursion. It's useful for solving problems that can be broken down into simpler, repetitive sub-problems.\n",
    "\n",
    "python\n",
    "Copy code\n",
    "def factorial(n):\n",
    "    if n == 1:\n",
    "        return 1\n",
    "    else:\n",
    "        return n * factorial(n - 1)\n",
    "\n",
    "print(factorial(5))  # Output: 120\n",
    "## Function Scopes and Closures\n",
    "Functions can have nested functions, and inner functions can capture and remember the state of enclosing scopes, known as closures.\n",
    "\n",
    "python\n",
    "Copy code\n",
    "def outer_function(msg):\n",
    "    def inner_function():\n",
    "        print(msg)\n",
    "    return inner_function\n",
    "\n",
    "greet = outer_function(\"Hello, World!\")\n",
    "greet()  # Output: Hello, World!\n",
    "These are the fundamental concepts and types of functions in Python, each serving different purposes and use cases in programming."
   ]
  },
  {
   "cell_type": "markdown",
   "id": "76e8b507",
   "metadata": {},
   "source": [
    "# 2.Classes"
   ]
  },
  {
   "cell_type": "markdown",
   "id": "38a9a1d5",
   "metadata": {},
   "source": [
    "In Python, classes are used to define objects and their behavior. The term \"all Python classes\" can refer to a vast array of classes defined within the Python standard library, as well as those defined in third-party libraries and user code.Below is an overview of the most commonly used classes across the Python standard library, organized by module."
   ]
  },
  {
   "cell_type": "markdown",
   "id": "49fcf2c4",
   "metadata": {},
   "source": [
    "## Built-in Classes"
   ]
  },
  {
   "cell_type": "raw",
   "id": "e3914f48",
   "metadata": {},
   "source": [
    "- object: The base class for all classes in Python. It provides the default implementations of common methods like __init__, __str__, and __repr__.\n",
    "\n",
    "str: Represents a string. Strings are immutable sequences of Unicode code points. Common methods include upper(), lower(), find(), and replace().\n",
    "\n",
    "int: Represents an integer. Integers in Python have arbitrary precision. Common methods include bit_length(), to_bytes(), and arithmetic operations.\n",
    "\n",
    "float: Represents a floating-point number. Common methods include as_integer_ratio(), hex(), and is_integer().\n",
    "\n",
    "list: Represents a mutable sequence of objects. Common methods include append(), extend(), insert(), remove(), and sort().\n",
    "\n",
    "dict: Represents a dictionary, which is a mutable, unordered collection of key-value pairs. Common methods include get(), keys(), values(), items(), and update().\n",
    "\n",
    "set: Represents a mutable unordered collection of unique elements. Common methods include add(), remove(), union(), intersection(), and difference().\n",
    "\n",
    "tuple: Represents an immutable sequence of objects. Common methods include count() and index().\n",
    "\n",
    "bool: Represents a boolean value (True or False). It is a subclass of int.\n",
    "\n",
    "type: Represents the type of an object. It is also the metaclass for all classes.\n",
    "\n",
    "bytes: Represents an immutable sequence of bytes. Common methods include decode(), split(), and join().\n",
    "\n",
    "complex: Represents a complex number with real and imaginary parts. Common methods include conjugate(), real, and imag.\n",
    "\n",
    "range: Represents an immutable sequence of numbers commonly used in for-loops. Common methods include start, stop, and step.\n",
    "\n",
    "frozenset: Represents an immutable set. Methods are similar to set but without any that modify the set.\n",
    "\n",
    "memoryview: Provides a memory view object that allows Python code to access the internal data of an object that supports the buffer protocol without copying.\n",
    "\n",
    "property: Implements managed attributes. It is often used to customize access to instance attributes by defining getter, setter, and deleter methods."
   ]
  },
  {
   "cell_type": "markdown",
   "id": "6264a3cd",
   "metadata": {},
   "source": [
    "### Class Methods "
   ]
  },
  {
   "cell_type": "raw",
   "id": "a3383b1b",
   "metadata": {},
   "source": [
    "__init__(self, ...): Initializes an instance of the class.\n",
    "__str__(self): Returns a string representation of the object.\n",
    "__repr__(self): Returns an \"official\" string representation of the object.\n",
    "__len__(self): Returns the length of the object.\n",
    "__getitem__(self, key): Gets an item.\n",
    "__setitem__(self, key, value): Sets an item.\n",
    "__delitem__(self, key): Deletes an item.\n",
    "__iter__(self): Returns an iterator.\n",
    "__next__(self): Returns the next item from an iterator.\n",
    "__contains__(self, item): Checks if an item is in the container.\n",
    "__call__(self, ...): Makes an instance callable.\n",
    "__enter__(self): For context management.\n",
    "__exit__(self, exc_type, exc_value, traceback): For context management.\n",
    "__add__(self, other): Adds two objects.\n",
    "__sub__(self, other): Subtracts one object from another.\n",
    "__mul__(self, other): Multiplies two objects.\n",
    "__truediv__(self, other): Divides one object by another.\n",
    "__floordiv__(self, other): Floor division.\n",
    "__mod__(self, other): Modulus.\n",
    "__pow__(self, other): Exponentiation.\n",
    "__eq__(self, other): Equality comparison.\n",
    "__ne__(self, other): Inequality comparison.\n",
    "__lt__(self, other): Less than comparison.\n",
    "__le__(self, other): Less than or equal to comparison.\n",
    "__gt__(self, other): Greater than comparison.\n",
    "__ge__(self, other): Greater than or equal to comparison.\n",
    "\n",
    "\n",
    "Other Commonly Used Methods\n",
    "append(): Adds an element to the end of a list or a collection.\n",
    "clear(): Removes all elements from a collection.\n",
    "copy(): Returns a shallow copy of the collection.\n",
    "count(): Returns the number of occurrences of a value.\n",
    "extend(): Extends a list by appending elements from another iterable.\n",
    "index(): Returns the index of the first occurrence of a value.\n",
    "insert():"
   ]
  },
  {
   "cell_type": "markdown",
   "id": "622787f1",
   "metadata": {},
   "source": [
    "### Special Methods (Dunder Methods)"
   ]
  },
  {
   "cell_type": "raw",
   "id": "e7303595",
   "metadata": {},
   "source": [
    "__add__(self, other): Implements the addition operation (+). For lists, it concatenates two lists.\n",
    "\n",
    "__class__: Returns the class of the instance.\n",
    "\n",
    "__class_getitem__(cls, item): Allows subscripting of a class (used with type annotations).\n",
    "\n",
    "__contains__(self, item): Implements membership test (in). Returns True if item is in the list.\n",
    "\n",
    "__delattr__(self, name): Implements deletion of an attribute (del self.name).\n",
    "\n",
    "__delitem__(self, key): Implements item deletion (del self[key]).\n",
    "\n",
    "__dir__(self): Provides a list of attributes for dir().\n",
    "\n",
    "__doc__: Provides the docstring of the class.\n",
    "\n",
    "__eq__(self, other): Implements equality comparison (==).\n",
    "\n",
    "__format__(self, format_spec): Defines custom formatting behavior.\n",
    "\n",
    "__ge__(self, other): Implements the greater-than-or-equal-to comparison (>=).\n",
    "\n",
    "__getattribute__(self, name): Implements attribute access (self.name).\n",
    "\n",
    "__getitem__(self, key): Implements item access (self[key]).\n",
    "\n",
    "__gt__(self, other): Implements the greater-than comparison (>).\n",
    "\n",
    "__hash__(self): Returns the hash value of the object.\n",
    "\n",
    "__iadd__(self, other): Implements in-place addition (+=). For lists, extends the list with another list.\n",
    "\n",
    "__imul__(self, other): Implements in-place multiplication (*=). For lists, repeats the list other times.\n",
    "\n",
    "__init__(self): Constructor method for initialization.\n",
    "\n",
    "__init_subclass__(cls): Called when a class is subclassed.\n",
    "\n",
    "__iter__(self): Returns an iterator for the list.\n",
    "\n",
    "__le__(self, other): Implements the less-than-or-equal-to comparison (<=).\n",
    "\n",
    "__len__(self): Returns the length of the list.\n",
    "\n",
    "__lt__(self, other): Implements the less-than comparison (<).\n",
    "\n",
    "__mul__(self, other): Implements multiplication (*). For lists, repeats the list other times.\n",
    "\n",
    "__ne__(self, other): Implements the not-equal-to comparison (!=).\n",
    "\n",
    "__new__(cls): Creates and returns a new instance of the class.\n",
    "\n",
    "__reduce__(self): Helper for pickling.\n",
    "\n",
    "__reduce_ex__(self, protocol): Helper for pickling with a specified protocol.\n",
    "\n",
    "__repr__(self): Returns the official string representation of the object.\n",
    "\n",
    "__reversed__(self): Returns a reverse iterator.\n",
    "\n",
    "__rmul__(self, other): Implements reflected multiplication. Equivalent to other * self.\n",
    "\n",
    "__setattr__(self, name, value): Implements setting an attribute (self.name = value).\n",
    "\n",
    "__setitem__(self, key, value): Implements item assignment (self[key] = value).\n",
    "\n",
    "__sizeof__(self): Returns the size of the object in memory, in bytes.\n",
    "\n",
    "__str__(self): Returns the informal string representation of the object.\n",
    "\n",
    "__subclasshook__(cls, subclass): Customizes the behavior of issubclass()."
   ]
  },
  {
   "cell_type": "code",
   "execution_count": null,
   "id": "3b698c71",
   "metadata": {},
   "outputs": [],
   "source": []
  },
  {
   "cell_type": "markdown",
   "id": "415a8e00",
   "metadata": {},
   "source": [
    "# 3.Methods\n",
    "Python methods are functions that are associated with objects and classes. There are built-in methods for various data types and structures in Python, as well as methods that can be defined by the user within classes"
   ]
  },
  {
   "cell_type": "markdown",
   "id": "cf2e09ef",
   "metadata": {},
   "source": [
    "### String Methods"
   ]
  },
  {
   "cell_type": "raw",
   "id": "4b4c0f7f",
   "metadata": {},
   "source": [
    "capitalize(): Converts the first character to uppercase.\n",
    "casefold(): Converts the string to lowercase.\n",
    "center(width): Centers the string in a field of given width.\n",
    "count(substring): Returns the number of occurrences of a substring.\n",
    "encode(): Encodes the string into bytes.\n",
    "endswith(suffix): Returns True if the string ends with the specified suffix.\n",
    "find(substring): Returns the lowest index where the substring is found.\n",
    "format(): Formats the string.\n",
    "index(substring): Returns the index of the first occurrence of the substring.\n",
    "isalnum(): Returns True if all characters are alphanumeric.\n",
    "isalpha(): Returns True if all characters are alphabetic.\n",
    "isdigit(): Returns True if all characters are digits.\n",
    "islower(): Returns True if all characters are lowercase.\n",
    "isspace(): Returns True if all characters are whitespace.\n",
    "istitle(): Returns True if the string is titlecased.\n",
    "isupper(): Returns True if all characters are uppercase.\n",
    "join(iterable): Concatenates the elements of an iterable.\n",
    "lower(): Converts the string to lowercase.\n",
    "replace(old, new): Replaces occurrences of a substring.\n",
    "split(sep): Splits the string into a list of substrings.\n",
    "startswith(prefix): Returns True if the string starts with the specified prefix.\n",
    "strip(): Removes leading and trailing whitespace.\n",
    "upper(): Converts the string to uppercase."
   ]
  },
  {
   "cell_type": "markdown",
   "id": "065ad5ba",
   "metadata": {},
   "source": [
    "### List Methods"
   ]
  },
  {
   "cell_type": "code",
   "execution_count": 1,
   "id": "5225b398",
   "metadata": {},
   "outputs": [
    {
     "ename": "SyntaxError",
     "evalue": "illegal target for annotation (2204429802.py, line 1)",
     "output_type": "error",
     "traceback": [
      "\u001b[1;36m  File \u001b[1;32m\"C:\\Users\\mdram\\AppData\\Local\\Temp\\ipykernel_10868\\2204429802.py\"\u001b[1;36m, line \u001b[1;32m1\u001b[0m\n\u001b[1;33m    append(item): Adds an item to the end of the list.\u001b[0m\n\u001b[1;37m    ^\u001b[0m\n\u001b[1;31mSyntaxError\u001b[0m\u001b[1;31m:\u001b[0m illegal target for annotation\n"
     ]
    }
   ],
   "source": [
    "append(item): Adds an item to the end of the list.\n",
    "extend(iterable): Extends the list by appending elements from an iterable.\n",
    "insert(index, item): Inserts an item at a given position.\n",
    "remove(item): Removes the first occurrence of an item.\n",
    "pop([index]): Removes and returns the item at the given position.\n",
    "clear(): Removes all items from the list.\n",
    "index(item): Returns the index of the first occurrence of an item.\n",
    "count(item): Returns the number of occurrences of an item.\n",
    "sort(): Sorts the list in ascending order.\n",
    "reverse(): Reverses the elements of the list.\n",
    "copy(): Returns a shallow copy of the list."
   ]
  },
  {
   "cell_type": "markdown",
   "id": "07b4e436",
   "metadata": {},
   "source": [
    "### Dictionary Methods"
   ]
  },
  {
   "cell_type": "raw",
   "id": "ca09d29b",
   "metadata": {},
   "source": [
    "clear(): Removes all items from the dictionary.\n",
    "copy(): Returns a shallow copy of the dictionary.\n",
    "fromkeys(iterable, value): Creates a new dictionary from an iterable.\n",
    "get(key): Returns the value for a key.\n",
    "items(): Returns a view object of dictionary's (key, value) tuple pairs.\n",
    "keys(): Returns a view object of dictionary's keys.\n",
    "pop(key): Removes the specified key and returns the corresponding value.\n",
    "popitem(): Removes and returns a (key, value) pair.\n",
    "setdefault(key, default): Returns the value of a key, and if the key does not exist, inserts the key with a specified value.\n",
    "update(dict): Updates the dictionary with the key/value pairs from another dictionary.\n",
    "values(): Returns a view object of dictionary's values."
   ]
  },
  {
   "cell_type": "markdown",
   "id": "7d1ec1be",
   "metadata": {},
   "source": [
    "### Set Methods"
   ]
  },
  {
   "cell_type": "raw",
   "id": "0b66ef5c",
   "metadata": {},
   "source": [
    "add(item): Adds an item to the set.\n",
    "clear(): Removes all items from the set.\n",
    "copy(): Returns a copy of the set.\n",
    "difference(other_set): Returns the difference of two sets.\n",
    "difference_update(other_set): Updates the set with the difference of itself and another.\n",
    "discard(item): Removes an item from the set if it is a member.\n",
    "intersection(other_set): Returns the intersection of two sets.\n",
    "intersection_update(other_set): Updates the set with the intersection of itself and another.\n",
    "isdisjoint(other_set): Returns True if two sets have no common elements.\n",
    "issubset(other_set): Returns True if the set is a subset of another.\n",
    "issuperset(other_set): Returns True if the set is a superset of another.\n",
    "pop(): Removes and returns an arbitrary set element.\n",
    "remove(item): Removes an item from the set.\n",
    "union(other_set): Returns the union of sets.\n",
    "update(other_set): Updates the set with the union of itself and another."
   ]
  },
  {
   "cell_type": "markdown",
   "id": "f48a9503",
   "metadata": {},
   "source": [
    "### Tuple Methods"
   ]
  },
  {
   "cell_type": "code",
   "execution_count": null,
   "id": "08d5865a",
   "metadata": {},
   "outputs": [],
   "source": [
    "count(item): Returns the number of occurrences of an item.\n",
    "index(item): Returns the index of the first occurrence of an item."
   ]
  },
  {
   "cell_type": "markdown",
   "id": "49260ff2",
   "metadata": {},
   "source": [
    "### File Methods"
   ]
  },
  {
   "cell_type": "raw",
   "id": "3fa22591",
   "metadata": {},
   "source": [
    "close(): Closes the file.\n",
    "read(size): Reads up to size bytes from the file.\n",
    "readline(): Reads a single line from the file.\n",
    "readlines(): Reads all the lines from the file.\n",
    "write(string): Writes a string to the file.\n",
    "writelines(lines): Writes a list of lines to the file.\n",
    "seek(offset): Moves the file cursor to a specified position.\n",
    "tell(): Returns the current file cursor position.\n",
    "flush(): Flushes the internal buffer."
   ]
  },
  {
   "cell_type": "markdown",
   "id": "0b9624a6",
   "metadata": {},
   "source": [
    "# 4.Module"
   ]
  },
  {
   "cell_type": "code",
   "execution_count": null,
   "id": "619240d2",
   "metadata": {},
   "outputs": [],
   "source": []
  },
  {
   "cell_type": "code",
   "execution_count": null,
   "id": "4682c36d",
   "metadata": {},
   "outputs": [],
   "source": []
  },
  {
   "cell_type": "code",
   "execution_count": null,
   "id": "0399bf9a",
   "metadata": {},
   "outputs": [],
   "source": []
  }
 ],
 "metadata": {
  "kernelspec": {
   "display_name": "Python 3 (ipykernel)",
   "language": "python",
   "name": "python3"
  },
  "language_info": {
   "codemirror_mode": {
    "name": "ipython",
    "version": 3
   },
   "file_extension": ".py",
   "mimetype": "text/x-python",
   "name": "python",
   "nbconvert_exporter": "python",
   "pygments_lexer": "ipython3",
   "version": "3.9.13"
  }
 },
 "nbformat": 4,
 "nbformat_minor": 5
}
