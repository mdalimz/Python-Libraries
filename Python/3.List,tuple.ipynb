{
 "cells": [
  {
   "cell_type": "raw",
   "metadata": {},
   "source": [
    "# Python has six built-in types of sequences, but the most common ones are lists and tuples, \n",
    "---------------\n",
    ". A list is a data structure in Python that is a mutable, or changeable, ordered sequence of elements. Each element or value that is inside of a list is called an item. Just as strings are defined as characters between quotes, lists are defined by having values between square brackets [ ] ."
   ]
  },
  {
   "cell_type": "markdown",
   "metadata": {},
   "source": [
    "Earlier, we have seen primitive data types like integers, floats, Booleans, and strings. Now, we’ll take a deeper look at the non-primitive Python data structures."
   ]
  },
  {
   "cell_type": "markdown",
   "metadata": {},
   "source": [
    "# List"
   ]
  },
  {
   "cell_type": "code",
   "execution_count": null,
   "metadata": {},
   "outputs": [],
   "source": [
    "for i in range(1,9):\n",
    "    print"
   ]
  },
  {
   "cell_type": "code",
   "execution_count": null,
   "metadata": {},
   "outputs": [],
   "source": [
    "list1=[1, 2, 5, \"A\", 'COW', '123abc', 0.65666, 1991]\n",
    "list2 = ['physics', 'chemistry', 1997, 2000];\n",
    "list1, list2"
   ]
  },
  {
   "cell_type": "code",
   "execution_count": null,
   "metadata": {},
   "outputs": [],
   "source": [
    "#########Accessing Values in Lists\n",
    "list1[2], list2[3], list1[2:4]"
   ]
  },
  {
   "cell_type": "code",
   "execution_count": null,
   "metadata": {},
   "outputs": [],
   "source": [
    "###### updating list  A.update(B)\n",
    "list = ['physics', 'chemistry', 1997, 2000];\n",
    "print(\"Value available at index 2 : \")\n",
    "print(list[2])\n",
    "list[2] = 2001;\n",
    "print(\"New value available at index 2 : \")\n",
    "print(list[2])"
   ]
  },
  {
   "cell_type": "code",
   "execution_count": null,
   "metadata": {},
   "outputs": [],
   "source": [
    "print(\"Value available at index 2 : \")  #confirm\n",
    "print(list[2])\n",
    "list"
   ]
  },
  {
   "cell_type": "code",
   "execution_count": null,
   "metadata": {},
   "outputs": [],
   "source": [
    "############# deleting\n",
    "print(\"values available at index: \")\n",
    "print(list)\n",
    "del list[1]  #or del list[position]"
   ]
  },
  {
   "cell_type": "code",
   "execution_count": null,
   "metadata": {},
   "outputs": [],
   "source": [
    "list=[1, 2, 3, 4]; #####Basic List Operations"
   ]
  },
  {
   "cell_type": "code",
   "execution_count": null,
   "metadata": {},
   "outputs": [],
   "source": [
    "len(list), list*4, 3 in list, [2]+[3] "
   ]
  },
  {
   "cell_type": "code",
   "execution_count": 7,
   "metadata": {},
   "outputs": [
    {
     "name": "stdout",
     "output_type": "stream",
     "text": [
      "1\n",
      "2\n",
      "3\n"
     ]
    }
   ],
   "source": [
    "for x in [1, 2, 3]:\n",
    "    print(x)"
   ]
  },
  {
   "cell_type": "code",
   "execution_count": 13,
   "metadata": {},
   "outputs": [],
   "source": [
    "pro= [1, 2, 3, 4,5]"
   ]
  },
  {
   "cell_type": "code",
   "execution_count": 14,
   "metadata": {},
   "outputs": [
    {
     "data": {
      "text/plain": [
       "1"
      ]
     },
     "execution_count": 14,
     "metadata": {},
     "output_type": "execute_result"
    }
   ],
   "source": [
    "pro[0]"
   ]
  },
  {
   "cell_type": "raw",
   "metadata": {},
   "source": [
    "pr[0] accesses the first item, 2.\n",
    "pr[-4] accesses the fourth item from the end, 5.\n",
    "pr[2:] accesses [5, 7, 11, 13], a list of items from third to last.\n",
    "pr[:4] accesses [2, 3, 5, 7], a list of items from first to fourth.\n",
    "pr[2:4] accesses [5, 7], a list of items from third to fifth.\n",
    "pr[1::2"
   ]
  },
  {
   "cell_type": "code",
   "execution_count": 15,
   "metadata": {},
   "outputs": [
    {
     "data": {
      "text/plain": [
       "6"
      ]
     },
     "execution_count": 15,
     "metadata": {},
     "output_type": "execute_result"
    }
   ],
   "source": [
    "list_numbers = [1, 2, 3, 4, 5, 6, 7, 8, 9, 10]\n",
    "element = 7\n",
    "list_numbers.index(element, 5, 8)"
   ]
  },
  {
   "cell_type": "raw",
   "metadata": {},
   "source": [
    "Append()\tAdd an element to the end of the list\n",
    "Extend()\tAdd all elements of a list to another list\n",
    "\n",
    "Insert()\tInsert an item at the defined index\n",
    "Remove()\tRemoves an item from the list\n",
    "\n",
    "Clear()\tRemoves all items from the list\n",
    "Index()\tReturns the index of the first matched item\n",
    "Count()\tReturns the count of the number of items passed as an argument\n",
    "\n",
    "Sort()\tSort items in a list in ascending order\n",
    "Reverse()\tReverse the order of items in the list\n",
    "\n",
    "copy()\tReturns a copy of the list\n",
    "pop()\tRemoves and returns the item at the specified index. If no index is provided, it removes and returns the last item.\n",
    "Appends object obj to list\n",
    "1\tcmp(list1, list2)     \n",
    "2\tlist.count(obj)\n",
    "Returns count of how many times obj occurs in list\n",
    "3\tlist.extend(seq)\n",
    "Appends the contents of seq to list\n",
    "4\tlist.index(obj)\n",
    "Returns the lowest index in list that obj appears\n",
    "5\tlist.insert(index, obj)\n",
    "Inserts object obj into list at offset index\n",
    "6\tlist.pop(obj=list[-1])\n",
    "Removes and returns last object or obj from list\n",
    "7\tlist.remove(obj)\n",
    "Removes object obj from list\n",
    "8\tlist.reverse()\n",
    "Reverses objects of list in place\n",
    "9\tlist.sort([func])\n",
    "Sorts objects of list, use compare func if given\n",
    "Compares elements of both lists.\n",
    "\n",
    "1\tlist.append(obj)\n",
    "2\tlen(list)\n",
    "Gives the total length of the list.\n",
    "3\tmax(list)\n",
    "Returns item from the list with max value.\n",
    "4\tmin(list)\n",
    "Returns item from the list with min value.\n",
    "5\tlist(seq)\n",
    "Converts a tuple into list."
   ]
  },
  {
   "cell_type": "code",
   "execution_count": null,
   "metadata": {},
   "outputs": [],
   "source": [
    "##### Indexing, Slicing, and Matrixes\n",
    "L = ['spam', 'Spam', 'SPAM!']\n",
    "L[1], L[-1], L[1:]"
   ]
  },
  {
   "cell_type": "raw",
   "metadata": {},
   "source": [
    "#reduce()\tapply a particular function passed in its argument to all of the list elements stores the intermediate result and only returns the final summation value\n",
    "#sum()\tSums up the numbers in the list\n",
    "#ord()\tReturns an integer representing the Unicode code point of the given Unicode character\n",
    "#cmp()\tThis function returns 1 if the first list is “greater” than the second list\n",
    "#max()\treturn maximum element of a given list\n",
    "#min()\treturn minimum element of a given list\n",
    "#all()\tReturns true if all element is true or if the list is empty\n",
    "#any()\treturn true if any element of the list is true. if the list is empty, return false\n",
    "#len()\tReturns length of the list or size of the list\n",
    "#enumerate()\tReturns enumerate object of the list\n",
    "#accumulate()\tapply a particular function passed in its argument to all of the list elements returns a list containing the intermediate results\n",
    "#filter()\ttests if each element of a list is true or not\n",
    "#map()\treturns a list of the results after applying the given function to each item of a given iterable\n",
    "#lambda()\tThis function can have any number of arguments but only one expression, which is evaluated and returned."
   ]
  },
  {
   "cell_type": "code",
   "execution_count": 8,
   "metadata": {},
   "outputs": [
    {
     "name": "stdout",
     "output_type": "stream",
     "text": [
      "[234, 346, 777, 888, 923]\n"
     ]
    }
   ],
   "source": [
    "\n",
    "aList = [923, 234, 346, 777, 888];\n",
    "aList.sort();\n",
    "print(aList)"
   ]
  },
  {
   "cell_type": "code",
   "execution_count": 23,
   "metadata": {},
   "outputs": [
    {
     "name": "stdout",
     "output_type": "stream",
     "text": [
      "[1, 1, 2, 3, 4, 6] [2, 2, 2, 2, 3, 3, 4, 4]\n"
     ]
    }
   ],
   "source": [
    "#pop() function can also be used to remove and return an element from the list\n",
    "# but by default it removes only the last element of the lis\n",
    "list, list1= [1,1,2,3,4,5,6],[2,2,2,2,3,3,4,4]\n",
    "list.pop(5)\n",
    "print(list, list1)"
   ]
  },
  {
   "cell_type": "code",
   "execution_count": null,
   "metadata": {},
   "outputs": [],
   "source": [
    "#Method 2: Using insert() method ..........geek\n",
    "# Addition of elements in a List\n",
    "List = [1,2,3,4]\n",
    "print(\"Initial List: \")\n",
    "print(List)\n",
    "\n",
    "# Addition of Element at specific Position using Insert Method)\n",
    "List.insert(3, 12)\n",
    "List.insert(0, 'Geeks')\n",
    "print(\"\\nList after performing Insert Operation: \")\n",
    "print(List)\n"
   ]
  },
  {
   "cell_type": "markdown",
   "metadata": {},
   "source": [
    "\n",
    "#This method returns -1 if x < y, returns 0 if x == y and 1 if x > y\n",
    "list1 = [1, 2, 4, 3]\n",
    "list2 = [1, 2, 5, 8]\n",
    "list5 = [7, 2, 5, 8]\n",
    "def cmp(a, b):\n",
    "    return (list1>list2)\n",
    "c= cmp(list1, list2)\n",
    "print(c)"
   ]
  },
  {
   "cell_type": "code",
   "execution_count": 17,
   "metadata": {},
   "outputs": [],
   "source": [
    "list=[1,2,3]"
   ]
  },
  {
   "cell_type": "code",
   "execution_count": 20,
   "metadata": {},
   "outputs": [
    {
     "name": "stdout",
     "output_type": "stream",
     "text": [
      "False\n"
     ]
    }
   ],
   "source": [
    "for i in range(1,9):   #\n",
    "#This method returns -1 if x < y, returns 0 if x == y and 1 if x > y\n",
    "  list1 = [1, 2, 4, 3]\n",
    "  list2 = [1, 2, 5, 8]\n",
    "  list5 = [7, 2, 5, 8]\n",
    "\n",
    "def cmp(a, b):\n",
    "    return (list1>list2) # Comparing lists\n",
    "c= cmp(list1, list2)\n",
    "print(c)"
   ]
  },
  {
   "cell_type": "code",
   "execution_count": 21,
   "metadata": {},
   "outputs": [
    {
     "name": "stdout",
     "output_type": "stream",
     "text": [
      "-1\n"
     ]
    }
   ],
   "source": [
    "def cmp(a, b):\n",
    "    return (list1>list2)-(list1<list2)\n",
    "c= cmp(list1, list2)\n",
    "print(c)"
   ]
  },
  {
   "cell_type": "code",
   "execution_count": 26,
   "metadata": {},
   "outputs": [
    {
     "data": {
      "text/plain": [
       "(4, 4, 1)"
      ]
     },
     "execution_count": 26,
     "metadata": {},
     "output_type": "execute_result"
    }
   ],
   "source": [
    "list1 = [1, 2, 4, 3]\n",
    "len(list1), max(list1), min(list1),"
   ]
  },
  {
   "cell_type": "code",
   "execution_count": 27,
   "metadata": {},
   "outputs": [
    {
     "data": {
      "text/plain": [
       "[1, 2, 5, 8, 10, 10, 2, [1, 2, 4, 3]]"
      ]
     },
     "execution_count": 27,
     "metadata": {},
     "output_type": "execute_result"
    }
   ],
   "source": [
    "a = [1, 2, 5, 8, 10,10,2]\n",
    "b= [1, 2, 4, 3]\n",
    "a.append(b)\n",
    "a"
   ]
  },
  {
   "cell_type": "code",
   "execution_count": 28,
   "metadata": {},
   "outputs": [
    {
     "data": {
      "text/plain": [
       "[1, 2, 5, 8, 10, 10, 2, [1, 2, 4, 3], 'orange']"
      ]
     },
     "execution_count": 28,
     "metadata": {},
     "output_type": "execute_result"
    }
   ],
   "source": [
    "a.append(\"orange\")\n",
    "a"
   ]
  },
  {
   "cell_type": "code",
   "execution_count": 29,
   "metadata": {},
   "outputs": [
    {
     "name": "stdout",
     "output_type": "stream",
     "text": [
      "2\n"
     ]
    }
   ],
   "source": [
    "print(a.count(2))"
   ]
  },
  {
   "cell_type": "code",
   "execution_count": 30,
   "metadata": {},
   "outputs": [],
   "source": [
    "a = [1, 2, 5, 8, 10,10,2]"
   ]
  },
  {
   "cell_type": "code",
   "execution_count": 31,
   "metadata": {},
   "outputs": [
    {
     "name": "stdout",
     "output_type": "stream",
     "text": [
      "[2, 10, 10, 8, 5, 2, 1]\n"
     ]
    }
   ],
   "source": [
    "a.reverse()\n",
    "print(a)"
   ]
  },
  {
   "cell_type": "code",
   "execution_count": 32,
   "metadata": {},
   "outputs": [],
   "source": [
    "list=[1,2]\n",
    "for i in range(1,5):\n",
    "    list.append(i)"
   ]
  },
  {
   "cell_type": "code",
   "execution_count": 35,
   "metadata": {},
   "outputs": [
    {
     "name": "stdout",
     "output_type": "stream",
     "text": [
      "\n",
      "List after Addition of elements from 1-3: \n",
      "\n",
      "List after Addition of elements from 1-3: \n",
      "\n",
      "List after Addition of elements from 1-3: \n",
      "['Geeks', 1, 2, 3, 12, 4, 1, 2, 3, 1, 2, 3, 1, 2, 3]\n"
     ]
    }
   ],
   "source": [
    "for i in range(1, 4):\n",
    "    List.append(i)\n",
    "    print(\"\\nList after Addition of elements from 1-3: \")\n",
    "print(List)"
   ]
  },
  {
   "cell_type": "code",
   "execution_count": 33,
   "metadata": {},
   "outputs": [
    {
     "name": "stdout",
     "output_type": "stream",
     "text": [
      "s 1-2: \n",
      "[1, 2, 1, 2, 3, 4, 1]\n",
      "s 1-2: \n",
      "[1, 2, 1, 2, 3, 4, 1, 2]\n",
      "s 1-2: \n",
      "[1, 2, 1, 2, 3, 4, 1, 2, 3]\n",
      "s 1-2: \n",
      "[1, 2, 1, 2, 3, 4, 1, 2, 3, 4]\n",
      "s 1-2: \n",
      "[1, 2, 1, 2, 3, 4, 1, 2, 3, 4, 5]\n",
      "s 1-2: \n",
      "[1, 2, 1, 2, 3, 4, 1, 2, 3, 4, 5, 6]\n",
      "s 1-2: \n",
      "[1, 2, 1, 2, 3, 4, 1, 2, 3, 4, 5, 6, 7]\n",
      "s 1-2: \n",
      "[1, 2, 1, 2, 3, 4, 1, 2, 3, 4, 5, 6, 7, 8]\n"
     ]
    }
   ],
   "source": [
    "for i in range(1,9):\n",
    "    list.append(i)\n",
    "    print('s 1-2: ')\n",
    "    print(list)"
   ]
  },
  {
   "cell_type": "markdown",
   "metadata": {},
   "source": [
    "# Tuple \n",
    "A tuple is a collection which is ordered and unchangeable.Tuples are used to store multiple items in a single variable.Python Tuple is a collection of objects separated by commas. In some ways, a tuple is similar to a Python list in terms of indexing, nested objects, and repetition but the main difference between both is Python tuple is immutable, unlike the Python list which is mutable."
   ]
  },
  {
   "cell_type": "code",
   "execution_count": 28,
   "metadata": {},
   "outputs": [
    {
     "name": "stdout",
     "output_type": "stream",
     "text": [
      "('CHAR', 'var', 'nar') ('CHAR', 'var', 'nar')\n"
     ]
    }
   ],
   "source": [
    "char=(\"CHAR\", \"var\", \"nar\")   #tuple\n",
    "char1=('CHAR', 'var', 'nar')\n",
    "print(char, char1)"
   ]
  },
  {
   "cell_type": "code",
   "execution_count": 36,
   "metadata": {},
   "outputs": [
    {
     "name": "stdout",
     "output_type": "stream",
     "text": [
      "()\n",
      "(1, 2, 4, 5, 6)\n",
      "(123, 'xyz', 'zara', 'abc')\n",
      "('G', 'e', 'e', 'k', 's')\n",
      "('a', 'l', 'i', 's', 't')\n"
     ]
    }
   ],
   "source": [
    "\n",
    " #####Tuple\n",
    "Tuple1 = ()\n",
    "print(Tuple1)\n",
    "\n",
    "list1 = [1, 2, 4, 5, 6]\n",
    "print(tuple(list1))\n",
    "\n",
    "aList = [123, 'xyz', 'zara', 'abc']\n",
    "aTuple = tuple(aList)\n",
    "print(aTuple)\n",
    "\n",
    "Tuple1 = tuple('Geeks')\n",
    "print(Tuple1)\n",
    "\n",
    "atup = tuple('alist',)\n",
    "print(atup)"
   ]
  },
  {
   "cell_type": "code",
   "execution_count": 41,
   "metadata": {},
   "outputs": [
    {
     "name": "stdout",
     "output_type": "stream",
     "text": [
      "((0, 1, 2, 3), ('python', 'leek')) ((0, 1, 2, 3), 'python')\n"
     ]
    }
   ],
   "source": [
    "#1.Nesting of Python Tuples,A nested tuple in Python means a tuple inside another tuple.\n",
    "# Code for creating nested tuples\n",
    "tup1 = (0, 1, 2, 3)\n",
    "tup2 = ('python', 'leek')\n",
    "tup4=('python')\n",
    "tup3 = (tup1, tup2)\n",
    "tup5=(tup1, tup4)\n",
    "print(tup3, tup5)\n"
   ]
  },
  {
   "cell_type": "code",
   "execution_count": 45,
   "metadata": {},
   "outputs": [
    {
     "name": "stdout",
     "output_type": "stream",
     "text": [
      "((0, 1, 2, 3), 'python', (0, 1, 2, 3), 'python', (0, 1, 2, 3), 'python', (0, 1, 2, 3), 'python')\n"
     ]
    }
   ],
   "source": [
    "#2.tuple with repetition\n",
    "tuple6 = tup5*4\n",
    "print(tuple6)\n"
   ]
  },
  {
   "cell_type": "code",
   "execution_count": 55,
   "metadata": {},
   "outputs": [
    {
     "data": {
      "text/plain": [
       "((1, 2, 3), (3, 2, 1, 0), (2, 3))"
      ]
     },
     "execution_count": 55,
     "metadata": {},
     "output_type": "execute_result"
    }
   ],
   "source": [
    "#3.Slicing a Python tuple means dividing a tuple into small tuples using the indexing method.\n",
    "# code to test slicing\n",
    "tuple1 = (0 ,1, 2, 3)\n",
    "tuple1[1:], tuple1[::-1], tuple1[2:4]\n"
   ]
  },
  {
   "cell_type": "code",
   "execution_count": null,
   "metadata": {},
   "outputs": [],
   "source": []
  }
 ],
 "metadata": {
  "kernelspec": {
   "display_name": "Python 3 (ipykernel)",
   "language": "python",
   "name": "python3"
  },
  "language_info": {
   "codemirror_mode": {
    "name": "ipython",
    "version": 3
   },
   "file_extension": ".py",
   "mimetype": "text/x-python",
   "name": "python",
   "nbconvert_exporter": "python",
   "pygments_lexer": "ipython3",
   "version": "3.9.13"
  }
 },
 "nbformat": 4,
 "nbformat_minor": 4
}
