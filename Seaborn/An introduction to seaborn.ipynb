{
 "cells": [
  {
   "cell_type": "markdown",
   "metadata": {},
   "source": [
    "Seaborn is a library for making statistical graphics in Python. It builds on top of matplotlib and integrates closely with pandas data structures--------------------"
   ]
  },
  {
   "cell_type": "markdown",
   "metadata": {},
   "source": [
    "-seaborn.relplot(data=None, , x=None, y=None, hue=None, size=None, style=None, units=None, weights=None, row=None, col=None, col_wrap=None, row_order=None, col_order=None, palette=None, hue_order=None, hue_norm=None, sizes=None, size_order=None, size_norm=None, markers=None, dashes=None, style_order=None, legend='auto', kind='scatter', height=5, aspect=1, facet_kws=None, *kwargs)"
   ]
  },
  {
   "cell_type": "markdown",
   "metadata": {},
   "source": [
    "# seaborn.load_dataset   (name, cache=True, data_home=None, **kws)"
   ]
  },
  {
   "cell_type": "markdown",
   "metadata": {},
   "source": [
    "# Online build in datasets(repository)"
   ]
  },
  {
   "cell_type": "code",
   "execution_count": null,
   "metadata": {},
   "outputs": [],
   "source": [
    "sn.get_dataset_names()"
   ]
  },
  {
   "cell_type": "markdown",
   "metadata": {},
   "source": [
    "# A.seaborn.set_theme\n",
    "seaborn.set_theme(context='notebook', style='darkgrid', palette='deep', font='sans-serif', font_scale=1, color_codes=True, rc=None)\n",
    "Set aspects of the visual theme for all matplotlib and seaborn plots."
   ]
  },
  {
   "cell_type": "code",
   "execution_count": null,
   "metadata": {},
   "outputs": [],
   "source": [
    "import seaborn as ali\n",
    "ali.set_theme()\n"
   ]
  },
  {
   "cell_type": "code",
   "execution_count": null,
   "metadata": {},
   "outputs": [],
   "source": [
    "data1=ali.load_dataset(\"titanic\")\n",
    "data1"
   ]
  },
  {
   "cell_type": "code",
   "execution_count": null,
   "metadata": {},
   "outputs": [],
   "source": [
    "data1.shape"
   ]
  },
  {
   "cell_type": "code",
   "execution_count": null,
   "metadata": {},
   "outputs": [],
   "source": [
    "data1.info(), data1.describe(), data1.head(10), data1.tail(10), data1.columns, data1.index"
   ]
  },
  {
   "cell_type": "code",
   "execution_count": null,
   "metadata": {},
   "outputs": [],
   "source": [
    "data1.describe()"
   ]
  },
  {
   "cell_type": "code",
   "execution_count": null,
   "metadata": {},
   "outputs": [],
   "source": [
    "data1.describe"
   ]
  },
  {
   "cell_type": "code",
   "execution_count": null,
   "metadata": {},
   "outputs": [],
   "source": []
  },
  {
   "cell_type": "markdown",
   "metadata": {},
   "source": [
    "# B. seaborn.relplot\n",
    "seaborn.relplot(data=None, *, x=None, y=None, hue=None, size=None, style=None, units=None, weights=None, row=None, col=None, col_wrap=None, row_order=None, col_order=None, palette=None, hue_order=None, hue_norm=None, sizes=None, size_order=None, size_norm=None, markers=None, dashes=None, style_order=None, legend='auto', kind='scatter', height=5, aspect=1, facet_kws=None, **kwargs)\n",
    "Figure-level interface for drawing relational plots onto a FacetGrid."
   ]
  },
  {
   "cell_type": "markdown",
   "metadata": {},
   "source": [
    "The relplot() function is particularly useful for visualizing the relationship between two numerical variables, often with the help of additional categorical variables for better understanding patterns in the"
   ]
  },
  {
   "cell_type": "markdown",
   "metadata": {},
   "source": [
    "# relationship plot=sns.relplot"
   ]
  },
  {
   "cell_type": "raw",
   "metadata": {},
   "source": [
    "Let's break down the parameters hue, size, style, and units in the context of the seaborn.relplot() function:\n",
    "\n",
    "hue Parameter:\n",
    "Purpose: This parameter is used for grouping data points based on a categorical variable. It assigns different colors to different categories, making it easier to distinguish between them.\n",
    "Example: If you have a dataset of flowers with different species (e.g., roses, tulips, daisies), you can use the hue parameter to color the points according to the species column.\n",
    "sns.relplot(data=flower_data, x=\"petal_length\", y=\"petal_width\", hue=\"species\")\n",
    "\n",
    "size Parameter:\n",
    "Purpose: This parameter is used for representing the size of data points based on a numerical variable. It allows you to visually convey the magnitude of a particular attribute.\n",
    "Example: If you have a dataset of cities and want to plot them on a map, you might use the size parameter to represent each city's population.\n",
    "sns.relplot(data=city_data, x=\"longitude\", y=\"latitude\", size=\"population\")\n",
    "\n",
    "style Parameter:\n",
    "Purpose: This parameter is used for grouping data points based on a categorical variable and representing each group with a different marker style. It is often used in conjunction with the hue parameter for additional visual distinction.\n",
    "Example: If you have a dataset of cars and want to plot their fuel efficiency, you might use the style parameter to represent different car manufacturers with distinct marker styles.\n",
    "sns.relplot(data=car_data, x=\"horsepower\", y=\"mpg\", style=\"manufacturer\", hue=\"fuel_type\")\n",
    "\n",
    "units Parameter:\n",
    "Purpose: This parameter is used when dealing with repeated measurements or multiple observations for each unit in the dataset. It helps identify which measurements belong to the same sampling unit.\n",
    "Example: If you have a dataset with multiple measurements for each subject (e.g., blood pressure readings for each patient at different time points), you can use the units parameter to specify the grouping variable.\n",
    "sns.relplot(data=health_data, x=\"time_point\", y=\"blood_pressure\", units=\"patient_id\")\n",
    "These parameters provide a powerful way to enhance your relational plots in Seaborn by incorporating additional information or structure from your dataset. You can use them individually or in combination to create informative and visually appealing visualizations.\n",
    "data (DataFrame, optional): The input data structure containing the data to be plotted. If not provided, you must specify x and y.\n",
    "\n",
    "x (str or array-like): Variable in the data to be plotted on the x-axis.\n",
    "\n",
    "y (str or array-like): Variable in the data to be plotted on the y-axis.\n",
    "\n",
    "hue (str or array-like, optional): Variable in the data to map to the color of the plot elements.\n",
    "\n",
    "size (str or array-like, optional): Variable in the data to map to the size of the plot elements.\n",
    "\n",
    "style (str or array-like, optional): Variable in the data to map to the style of the plot elements.\n",
    "\n",
    "units (str or array-like, optional): Grouping variable identifying sampling units. When used, it plots the data in subsets defined by units on separate facets in the grid.\n",
    "\n",
    "weights (str or array-like, optional): Variable in the data to map to the weight of the plot elements.\n",
    "\n",
    "row (str or array-like, optional): Variable in the data to map to the rows of the grid.\n",
    "\n",
    "col (str or array-like, optional): Variable in the data to map to the columns of the grid.\n",
    "\n",
    "col_wrap (int or None, optional): Wraps the column variable at this width when plotting multiple plots.\n",
    "\n",
    "row_order (list of str, optional): Order to organize rows in the grid.\n",
    "\n",
    "col_order (list of str, optional): Order to organize columns in the grid.\n",
    "\n",
    "palette (str or dict, optional): Colors to use for the different levels of the hue variable.\n",
    "\n",
    "hue_order (list of str, optional): Order to plot the levels of the hue variable.\n",
    "\n",
    "hue_norm (tuple or Normalize, optional): Normalization to map the hue variable to the colormap.\n",
    "\n",
    "sizes (tuple or dict, optional): Size range for the plot elements.\n",
    "\n",
    "size_order (list of str, optional): Order to plot the levels of the size variable.\n",
    "\n",
    "size_norm (tuple or Normalize, optional): Normalization to map the size variable to the size of the plot elements.\n",
    "\n",
    "markers (bool or list of markers, optional): Markers to use for different levels of the style variable.\n",
    "\n",
    "dashes (bool or list of dashes, optional): Line dashes to use for different levels of the style variable.\n",
    "\n",
    "style_order (list of str, optional): Order to plot the levels of the style variable.\n",
    "\n",
    "legend ('auto', 'brief', 'full', optional): How to draw the legend. 'auto' uses the unique values of hue, size, or style to determine.\n",
    "\n",
    "kind (str, optional): Type of plot to create ('scatter' or 'line').\n",
    "\n",
    "height (numeric, optional): Height of each facet in inches.\n",
    "\n",
    "aspect (numeric, optional): Aspect ratio of each facet, so that aspect * height gives the width of each facet in inches.\n",
    "\n",
    "facet_kws (dict, optional): Additional parameters passed to the FacetGrid constructor.\n",
    "\n",
    "**kwargs: Additional keyword arguments are passed to the underlying plotting function (scatter or line).\n",
    "import seaborn as sns\n",
    "import matplotlib.pyplot as plt\n",
    "\n",
    "# Example DataFrame\n",
    "import pandas as pd\n",
    "data = pd.DataFrame({\n",
    "    'x': [1, 2, 3, 4, 5],\n",
    "    'y': [4, 2, 1, 7, 5],\n",
    "    'hue': ['A', 'B', 'A', 'B', 'A'],\n",
    "    'size': [10, 20, 15, 25, 30],\n",
    "    'style': ['X', 'O', 'X', 'O', 'X'],\n",
    "    'weight': [1, 2, 1, 3, 2],\n",
    "    'row': ['Row1', 'Row2', 'Row1', 'Row2', 'Row1'],\n",
    "    'col': ['Col1', 'Col2', 'Col1', 'Col2', 'Col1']\n",
    "})\n",
    "\n",
    "# Set up a relplot with all parameters\n",
    "sns.relplot(\n",
    "    data=data,          # DataFrame containing the data\n",
    "    x='x',              # Variable to be plotted on the x-axis\n",
    "    y='y',              # Variable to be plotted on the y-axis\n",
    "    hue='hue',          # Variable to map to the color of plot elements\n",
    "    size='size',        # Variable to map to the size of plot elements\n",
    "    style='style',      # Variable to map to the style of plot elements\n",
    "    weights='weight',   # Variable to map to the weight of plot elements\n",
    "    row='row',          # Variable to map to the rows of the grid\n",
    "    col='col',          # Variable to map to the columns of the grid\n",
    "    col_wrap=2,         # Wraps the column variable at this width in the grid\n",
    "    row_order=['Row2', 'Row1'],  # Order to organize rows in the grid\n",
    "    col_order=['Col2', 'Col1'],  # Order to organize columns in the grid\n",
    "    palette='Set1',     # Colors to use for different levels of the hue variable\n",
    "    hue_order=['A', 'B'],        # Order to plot the levels of the hue variable\n",
    "    hue_norm=(0, 1),    # Normalization to map the hue variable to the colormap\n",
    "    sizes=(10, 100),    # Size range for the plot elements\n",
    "    size_order=None,    # Order to plot the levels of the size variable\n",
    "    size_norm=None,     # Normalization to map the size variable to the size of plot elements\n",
    "    markers=None,       # Markers to use for different levels of the style variable\n",
    "    dashes=None,        # Line dashes to use for different levels of the style variable\n",
    "    style_order=None,   # Order to plot the levels of the style variable\n",
    "    legend='auto',      # How to draw the legend ('auto', 'brief', 'full')\n",
    "    kind='scatter',     # Type of plot to create ('scatter' or 'line')\n",
    "    height=5,           # Height of each facet in inches\n",
    "    aspect=1,           # Aspect ratio of each facet (width = height * aspect)\n",
    "    facet_kws=None,     # Additional parameters passed to the FacetGrid constructor\n",
    ")\n",
    "\n",
    "# Show the plot\n",
    "plt.show()\n"
   ]
  },
  {
   "cell_type": "markdown",
   "metadata": {},
   "source": [
    "# tips"
   ]
  },
  {
   "cell_type": "code",
   "execution_count": null,
   "metadata": {},
   "outputs": [],
   "source": [
    "sns.set_theme()\n",
    "data2 = sns.load_dataset(\"tips\")\n",
    "data2"
   ]
  },
  {
   "cell_type": "code",
   "execution_count": null,
   "metadata": {},
   "outputs": [],
   "source": [
    "data2.columns"
   ]
  },
  {
   "cell_type": "code",
   "execution_count": null,
   "metadata": {},
   "outputs": [],
   "source": [
    "data2.tip"
   ]
  },
  {
   "cell_type": "code",
   "execution_count": null,
   "metadata": {},
   "outputs": [],
   "source": [
    "ali.relplot(data=data2,x=\"total_bill\", y=\"tip\",col=\"day\",hue=\"smoker\", style=\"smoker\", size=\"size\")"
   ]
  },
  {
   "cell_type": "code",
   "execution_count": null,
   "metadata": {},
   "outputs": [],
   "source": [
    "ali.relplot(data=data2,x=\"total_bill\", y=\"tip\", col=\"time\",hue=\"smoker\", style=\"sex\", size=\"size\")"
   ]
  },
  {
   "cell_type": "code",
   "execution_count": null,
   "metadata": {
    "scrolled": true
   },
   "outputs": [],
   "source": [
    "ali.relplot(data=data2,x=\"total_bill\", y=\"tip\", col=\"time\",hue=\"smoker\", style=\"smoker\", size=\"size\")"
   ]
  },
  {
   "cell_type": "markdown",
   "metadata": {},
   "source": [
    "# # lmplot():Statistical estimation\n",
    "seaborn goes beyond descriptive statistics. For example, it is possible to enhance a scatterplot by including a linear regression model (and its uncertainty) using # lmplot():"
   ]
  },
  {
   "cell_type": "code",
   "execution_count": null,
   "metadata": {},
   "outputs": [],
   "source": [
    "sns.lmplot(data=tips, x=\"total_bill\", y=\"tip\", col=\"day\", hue=\"smoker\")"
   ]
  },
  {
   "cell_type": "code",
   "execution_count": null,
   "metadata": {},
   "outputs": [],
   "source": [
    "sns.lmplot(data=tips, x=\"total_bill\", y=\"tip\", col=\"time\", hue=\"smoker\")"
   ]
  },
  {
   "cell_type": "markdown",
   "metadata": {},
   "source": [
    "# Distributional representations"
   ]
  },
  {
   "cell_type": "code",
   "execution_count": null,
   "metadata": {},
   "outputs": [],
   "source": [
    "sns.displot(data=tips, x=\"total_bill\", col=\"time\", kde=False)"
   ]
  },
  {
   "cell_type": "code",
   "execution_count": null,
   "metadata": {},
   "outputs": [],
   "source": [
    "sns.displot(data=tips, x=\"total_bill\", col=\"time\", kde=True)"
   ]
  },
  {
   "cell_type": "code",
   "execution_count": null,
   "metadata": {},
   "outputs": [],
   "source": []
  },
  {
   "cell_type": "code",
   "execution_count": null,
   "metadata": {},
   "outputs": [],
   "source": []
  },
  {
   "cell_type": "code",
   "execution_count": null,
   "metadata": {},
   "outputs": [],
   "source": []
  },
  {
   "cell_type": "code",
   "execution_count": null,
   "metadata": {},
   "outputs": [],
   "source": []
  },
  {
   "cell_type": "markdown",
   "metadata": {},
   "source": [
    "# dots"
   ]
  },
  {
   "cell_type": "code",
   "execution_count": null,
   "metadata": {},
   "outputs": [],
   "source": [
    "data3 = ali.load_dataset(\"dots\")\n",
    "data3\n"
   ]
  },
  {
   "cell_type": "code",
   "execution_count": null,
   "metadata": {},
   "outputs": [],
   "source": [
    "ali.relplot(data=data3, kind=\"scatter\",x=\"time\", y=\"firing_rate\", col=\"align\",hue=\"choice\", size=\"coherence\", style=\"choice\",facet_kws=dict(sharex=False)\n",
    ")   #kind = line"
   ]
  },
  {
   "cell_type": "markdown",
   "metadata": {},
   "source": [
    "# fmri\n",
    "Statistical estimation"
   ]
  },
  {
   "cell_type": "code",
   "execution_count": null,
   "metadata": {},
   "outputs": [],
   "source": [
    "fmri = sns.load_dataset(\"fmri\")\n",
    "fmri"
   ]
  },
  {
   "cell_type": "code",
   "execution_count": null,
   "metadata": {},
   "outputs": [],
   "source": [
    "sns.relplot(data=fmri, kind=\"line\",x=\"timepoint\", y=\"signal\", col=\"region\",hue=\"event\", style=\"event\")"
   ]
  },
  {
   "cell_type": "code",
   "execution_count": null,
   "metadata": {},
   "outputs": [],
   "source": [
    "sns.relplot(data=fmri, kind=\"scatter\",x=\"timepoint\", y=\"signal\", col=\"region\",hue=\"event\", style=\"event\",)"
   ]
  },
  {
   "cell_type": "code",
   "execution_count": null,
   "metadata": {},
   "outputs": [],
   "source": []
  }
 ],
 "metadata": {
  "kernelspec": {
   "display_name": "Python 3",
   "language": "python",
   "name": "python3"
  },
  "language_info": {
   "codemirror_mode": {
    "name": "ipython",
    "version": 3
   },
   "file_extension": ".py",
   "mimetype": "text/x-python",
   "name": "python",
   "nbconvert_exporter": "python",
   "pygments_lexer": "ipython3",
   "version": "3.8.5"
  }
 },
 "nbformat": 4,
 "nbformat_minor": 4
}
