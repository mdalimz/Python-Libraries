{
 "cells": [
  {
   "cell_type": "code",
   "execution_count": 1,
   "id": "7d30def0",
   "metadata": {},
   "outputs": [
    {
     "data": {
      "text/plain": [
       "array([1, 2, 3, 4, 5, 6, 7, 8, 9])"
      ]
     },
     "execution_count": 1,
     "metadata": {},
     "output_type": "execute_result"
    }
   ],
   "source": [
    "import numpy as ali\n",
    "array=ali.array([1, 2, 3, 4, 5, 6, 7, 8, 9,])\n",
    "array"
   ]
  },
  {
   "cell_type": "code",
   "execution_count": null,
   "id": "d584c5d6",
   "metadata": {},
   "outputs": [],
   "source": [
    "#The 1D array creation functions e.g. numpy.linspace and numpy.arange generally need at least two inputs, start and stop"
   ]
  },
  {
   "cell_type": "code",
   "execution_count": 45,
   "id": "de8223e9",
   "metadata": {},
   "outputs": [
    {
     "data": {
      "text/plain": [
       "(array([[ 0.3932425 , -0.30879647,  1.00297941, -2.32922058, -0.98857393,\n",
       "          1.2409504 , -0.569235  , -0.4467096 ,  0.3256026 ,  0.75941885,\n",
       "          0.61365672,  1.48884044,  1.10062684, -1.21489879,  1.18701716,\n",
       "          1.40001285,  0.60705801,  0.33963565,  0.89025081, -0.87804207,\n",
       "          0.84091511, -2.32061907,  0.32203843,  0.01936755,  0.37738218,\n",
       "         -0.72764308, -0.04284242, -0.47505175, -0.58497611, -0.88163109,\n",
       "          0.28237376,  0.81076522,  0.26392299,  0.19010567, -0.57579062,\n",
       "          1.19965244,  0.22773453, -1.44567982, -0.30430762, -1.02712742,\n",
       "         -0.63539309,  0.98879634, -0.8824798 , -0.39349864,  2.04171356,\n",
       "          0.89190653, -1.66969676, -1.20171072, -0.07315431, -0.29678679]]),\n",
       " array([ 0,  1,  2,  3,  4,  5,  6,  7,  8,  9, 10, 11, 12, 13, 14, 15, 16,\n",
       "        17, 18, 19, 20, 21, 22, 23, 24, 25, 26, 27, 28, 29, 30, 31, 32, 33,\n",
       "        34, 35, 36, 37, 38, 39, 40, 41, 42, 43, 44, 45, 46, 47, 48, 49, 50,\n",
       "        51, 52, 53, 54, 55, 56, 57, 58, 59, 60, 61, 62, 63, 64, 65, 66, 67,\n",
       "        68, 69, 70, 71, 72, 73, 74, 75, 76, 77, 78, 79, 80, 81, 82, 83, 84,\n",
       "        85, 86, 87, 88, 89, 90, 91, 92, 93, 94, 95, 96, 97, 98, 99]),\n",
       " array([  2.,   4.,   6.,   8.,  10.,  12.,  14.,  16.,  18.,  20.,  22.,\n",
       "         24.,  26.,  28.,  30.,  32.,  34.,  36.,  38.,  40.,  42.,  44.,\n",
       "         46.,  48.,  50.,  52.,  54.,  56.,  58.,  60.,  62.,  64.,  66.,\n",
       "         68.,  70.,  72.,  74.,  76.,  78.,  80.,  82.,  84.,  86.,  88.,\n",
       "         90.,  92.,  94.,  96.,  98., 100.]))"
      ]
     },
     "execution_count": 45,
     "metadata": {},
     "output_type": "execute_result"
    }
   ],
   "source": [
    "#Random number generator\n",
    "#--------------------------------\n",
    "array1=ali.random.randn(1,50)  #randn() gives single number\n",
    "array2=ali.arange(100)  # or (1, 100)\n",
    "\n",
    "ar3=ali.linspace(2, 100, 50) #numpy.arange is to use integer start, end, and step values(total step 50)\n",
    "\n",
    "array1, array2, ar3"
   ]
  },
  {
   "cell_type": "markdown",
   "id": "33304e4f",
   "metadata": {},
   "source": [
    "NumPy clip()\n",
    "NumPy log()\n",
    "NumPy exp()\n",
    "NumPy round()\n",
    "NumPy sum()\n",
    "NumPy power()\n",
    "NumPy cumsum()\n",
    "NumPy multiply()\n",
    "NumPy sqrt()\n",
    "NumPy floor()\n",
    "NumPy absolute()\n",
    "NumPy diff()\n",
    "NumPy divide()\n",
    "NumPy sine()\n",
    "NumPy square()\n",
    "NumPy add()\n",
    "NumPy minimum()\n",
    "NumPy maximum()\n",
    "NumPy arctan2()\n",
    "NumPy cross()\n",
    "NumPy sign()\n",
    "NumPy log10()\n",
    "NumPy arctan()\n",
    "NumPy amax()\n",
    "NumPy arccos()\n",
    "NumPy cosine()\n",
    "NumPy amin()\n",
    "NumPy subtract()\n",
    "NumPy trapz()\n",
    "NumPy ceil()\n",
    "NumPy arcsin()\n",
    "NumPy product()\n",
    "NumPy tanh()\n",
    "NumPy around()\n",
    "NumPy hypot()\n",
    "NumPy tangent()"
   ]
  },
  {
   "cell_type": "code",
   "execution_count": 53,
   "id": "7b0f6155",
   "metadata": {},
   "outputs": [
    {
     "data": {
      "text/plain": [
       "(array([1, 2, 3, 4, 5, 6, 7, 8, 9]),\n",
       " array([0.        , 0.69314718, 1.09861229, 1.38629436, 1.60943791,\n",
       "        1.79175947, 1.94591015, 2.07944154, 2.19722458]))"
      ]
     },
     "execution_count": 53,
     "metadata": {},
     "output_type": "execute_result"
    }
   ],
   "source": [
    "np =ali.log(array)\n",
    "array,np\n"
   ]
  },
  {
   "cell_type": "code",
   "execution_count": 61,
   "id": "b46846a0",
   "metadata": {},
   "outputs": [
    {
     "data": {
      "text/plain": [
       "array([ 1,  1,  2,  3,  4,  5,  6,  7,  8,  9, 10, 11, 12, 13, 14, 15, 16,\n",
       "       17, 18, 19, 20, 21, 22, 23, 24, 25, 26, 27, 28, 29, 30, 31, 32, 33,\n",
       "       34, 35, 36, 37, 38, 39, 40, 41, 42, 43, 44, 45, 46, 47, 48, 49, 50,\n",
       "       51, 52, 53, 54, 55, 56, 57, 58, 59, 60, 61, 62, 63, 64, 65, 66, 67,\n",
       "       68, 69, 70, 71, 72, 73, 74, 75, 76, 77, 78, 79, 80, 81, 82, 83, 84,\n",
       "       85, 86, 87, 88, 89, 90, 91, 92, 93, 94, 95, 96, 97, 98, 99])"
      ]
     },
     "execution_count": 61,
     "metadata": {},
     "output_type": "execute_result"
    }
   ],
   "source": [
    "n=ali.clip(array2, 1, 200) # gives within range, otherwise max for else\n",
    "#The clip() function is used to limit the values in an array to a specified range\n",
    "n"
   ]
  },
  {
   "cell_type": "code",
   "execution_count": 62,
   "id": "4a7c6545",
   "metadata": {},
   "outputs": [
    {
     "data": {
      "text/plain": [
       "array([2.71828183e+00, 7.38905610e+00, 2.00855369e+01, 5.45981500e+01,\n",
       "       1.48413159e+02, 4.03428793e+02, 1.09663316e+03, 2.98095799e+03,\n",
       "       8.10308393e+03])"
      ]
     },
     "execution_count": 62,
     "metadata": {},
     "output_type": "execute_result"
    }
   ],
   "source": [
    "e=ali.exp(array)\n",
    "e"
   ]
  },
  {
   "cell_type": "code",
   "execution_count": 72,
   "id": "1381b3a3",
   "metadata": {},
   "outputs": [
    {
     "data": {
      "text/plain": [
       "array([  1,   8,  27,  64, 125, 216, 343, 512, 729], dtype=int32)"
      ]
     },
     "execution_count": 72,
     "metadata": {},
     "output_type": "execute_result"
    }
   ],
   "source": [
    "exponent=3\n",
    "p=ali.power(array,exponent)\n",
    "p"
   ]
  },
  {
   "cell_type": "code",
   "execution_count": 73,
   "id": "1271c010",
   "metadata": {},
   "outputs": [
    {
     "data": {
      "text/plain": [
       "array([[ 0., -0.,  1., -2., -1.,  1., -1., -0.,  0.,  1.,  1.,  1.,  1.,\n",
       "        -1.,  1.,  1.,  1.,  0.,  1., -1.,  1., -2.,  0.,  0.,  0., -1.,\n",
       "        -0., -0., -1., -1.,  0.,  1.,  0.,  0., -1.,  1.,  0., -1., -0.,\n",
       "        -1., -1.,  1., -1., -0.,  2.,  1., -2., -1., -0., -0.]])"
      ]
     },
     "execution_count": 73,
     "metadata": {},
     "output_type": "execute_result"
    }
   ],
   "source": [
    "r=ali.round(array1)\n",
    "r"
   ]
  },
  {
   "cell_type": "code",
   "execution_count": 76,
   "id": "ab9188cf",
   "metadata": {},
   "outputs": [
    {
     "name": "stderr",
     "output_type": "stream",
     "text": [
      "C:\\Users\\mdram\\AppData\\Local\\Temp\\ipykernel_9976\\2753436979.py:1: RuntimeWarning: invalid value encountered in sqrt\n",
      "  s=ali.sqrt(array1)\n"
     ]
    },
    {
     "data": {
      "text/plain": [
       "array([[0.6270905 ,        nan, 1.0014886 ,        nan,        nan,\n",
       "        1.11397953,        nan,        nan, 0.57061599, 0.87144641,\n",
       "        0.78336244, 1.2201805 , 1.04910764,        nan, 1.08950317,\n",
       "        1.18322139, 0.77913928, 0.58278268, 0.94353103,        nan,\n",
       "        0.91701424,        nan, 0.5674843 , 0.13916736, 0.6143144 ,\n",
       "               nan,        nan,        nan,        nan,        nan,\n",
       "        0.53138852, 0.90042502, 0.51373436, 0.43601109,        nan,\n",
       "        1.09528647, 0.47721539,        nan,        nan,        nan,\n",
       "               nan, 0.99438239,        nan,        nan, 1.42888543,\n",
       "        0.94440803,        nan,        nan,        nan,        nan]])"
      ]
     },
     "execution_count": 76,
     "metadata": {},
     "output_type": "execute_result"
    }
   ],
   "source": [
    "s=ali.sqrt(array1)\n",
    "s   # minus value gives Nan"
   ]
  },
  {
   "cell_type": "code",
   "execution_count": 77,
   "id": "e733969a",
   "metadata": {},
   "outputs": [
    {
     "data": {
      "text/plain": [
       "array([0.78539816, 1.10714872, 1.24904577, 1.32581766, 1.37340077,\n",
       "       1.40564765, 1.42889927, 1.44644133, 1.46013911])"
      ]
     },
     "execution_count": 77,
     "metadata": {},
     "output_type": "execute_result"
    }
   ],
   "source": [
    "a=ali.arctan(array)\n",
    "a"
   ]
  },
  {
   "cell_type": "code",
   "execution_count": 78,
   "id": "5c91cd02",
   "metadata": {},
   "outputs": [
    {
     "data": {
      "text/plain": [
       "array([[ 0., -1.,  1., -3., -1.,  1., -1., -1.,  0.,  0.,  0.,  1.,  1.,\n",
       "        -2.,  1.,  1.,  0.,  0.,  0., -1.,  0., -3.,  0.,  0.,  0., -1.,\n",
       "        -1., -1., -1., -1.,  0.,  0.,  0.,  0., -1.,  1.,  0., -2., -1.,\n",
       "        -2., -1.,  0., -1., -1.,  2.,  0., -2., -2., -1., -1.]])"
      ]
     },
     "execution_count": 78,
     "metadata": {},
     "output_type": "execute_result"
    }
   ],
   "source": [
    "f=ali.floor(array1)\n",
    "f"
   ]
  },
  {
   "cell_type": "code",
   "execution_count": null,
   "id": "745074ea",
   "metadata": {},
   "outputs": [],
   "source": [
    "m=ali.max()"
   ]
  },
  {
   "cell_type": "markdown",
   "id": "2d9e390b",
   "metadata": {},
   "source": [
    "-#------------------------------------------------\n",
    "\n",
    "\n",
    "\n",
    "\n",
    "#########################################"
   ]
  },
  {
   "cell_type": "code",
   "execution_count": null,
   "id": "4a7b469b",
   "metadata": {},
   "outputs": [],
   "source": []
  }
 ],
 "metadata": {
  "kernelspec": {
   "display_name": "Python 3 (ipykernel)",
   "language": "python",
   "name": "python3"
  },
  "language_info": {
   "codemirror_mode": {
    "name": "ipython",
    "version": 3
   },
   "file_extension": ".py",
   "mimetype": "text/x-python",
   "name": "python",
   "nbconvert_exporter": "python",
   "pygments_lexer": "ipython3",
   "version": "3.9.13"
  }
 },
 "nbformat": 4,
 "nbformat_minor": 5
}
